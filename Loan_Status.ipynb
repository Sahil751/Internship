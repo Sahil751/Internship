{
 "cells": [
  {
   "cell_type": "markdown",
   "id": "6730bac4",
   "metadata": {},
   "source": [
    "### 1) Importing Libraries"
   ]
  },
  {
   "cell_type": "code",
   "execution_count": 1,
   "id": "946f7253",
   "metadata": {},
   "outputs": [],
   "source": [
    "import pandas as pd\n",
    "import numpy as np\n",
    "import seaborn as sns\n",
    "import matplotlib.pyplot as plt\n",
    "%matplotlib inline\n",
    "import warnings\n",
    "warnings.filterwarnings('ignore')"
   ]
  },
  {
   "cell_type": "markdown",
   "id": "f6a711da",
   "metadata": {},
   "source": [
    "### 2) Importing Dataset"
   ]
  },
  {
   "cell_type": "code",
   "execution_count": 2,
   "id": "3fc5d910",
   "metadata": {},
   "outputs": [
    {
     "data": {
      "text/html": [
       "<div>\n",
       "<style scoped>\n",
       "    .dataframe tbody tr th:only-of-type {\n",
       "        vertical-align: middle;\n",
       "    }\n",
       "\n",
       "    .dataframe tbody tr th {\n",
       "        vertical-align: top;\n",
       "    }\n",
       "\n",
       "    .dataframe thead th {\n",
       "        text-align: right;\n",
       "    }\n",
       "</style>\n",
       "<table border=\"1\" class=\"dataframe\">\n",
       "  <thead>\n",
       "    <tr style=\"text-align: right;\">\n",
       "      <th></th>\n",
       "      <th>Loan_ID</th>\n",
       "      <th>Gender</th>\n",
       "      <th>Married</th>\n",
       "      <th>Dependents</th>\n",
       "      <th>Education</th>\n",
       "      <th>Self_Employed</th>\n",
       "      <th>ApplicantIncome</th>\n",
       "      <th>CoapplicantIncome</th>\n",
       "      <th>LoanAmount</th>\n",
       "      <th>Loan_Amount_Term</th>\n",
       "      <th>Credit_History</th>\n",
       "      <th>Property_Area</th>\n",
       "      <th>Loan_Status</th>\n",
       "    </tr>\n",
       "  </thead>\n",
       "  <tbody>\n",
       "    <tr>\n",
       "      <th>0</th>\n",
       "      <td>LP001002</td>\n",
       "      <td>Male</td>\n",
       "      <td>No</td>\n",
       "      <td>0</td>\n",
       "      <td>Graduate</td>\n",
       "      <td>No</td>\n",
       "      <td>5849</td>\n",
       "      <td>0.0</td>\n",
       "      <td>NaN</td>\n",
       "      <td>360.0</td>\n",
       "      <td>1.0</td>\n",
       "      <td>Urban</td>\n",
       "      <td>Y</td>\n",
       "    </tr>\n",
       "    <tr>\n",
       "      <th>1</th>\n",
       "      <td>LP001003</td>\n",
       "      <td>Male</td>\n",
       "      <td>Yes</td>\n",
       "      <td>1</td>\n",
       "      <td>Graduate</td>\n",
       "      <td>No</td>\n",
       "      <td>4583</td>\n",
       "      <td>1508.0</td>\n",
       "      <td>128.0</td>\n",
       "      <td>360.0</td>\n",
       "      <td>1.0</td>\n",
       "      <td>Rural</td>\n",
       "      <td>N</td>\n",
       "    </tr>\n",
       "    <tr>\n",
       "      <th>2</th>\n",
       "      <td>LP001005</td>\n",
       "      <td>Male</td>\n",
       "      <td>Yes</td>\n",
       "      <td>0</td>\n",
       "      <td>Graduate</td>\n",
       "      <td>Yes</td>\n",
       "      <td>3000</td>\n",
       "      <td>0.0</td>\n",
       "      <td>66.0</td>\n",
       "      <td>360.0</td>\n",
       "      <td>1.0</td>\n",
       "      <td>Urban</td>\n",
       "      <td>Y</td>\n",
       "    </tr>\n",
       "    <tr>\n",
       "      <th>3</th>\n",
       "      <td>LP001006</td>\n",
       "      <td>Male</td>\n",
       "      <td>Yes</td>\n",
       "      <td>0</td>\n",
       "      <td>Not Graduate</td>\n",
       "      <td>No</td>\n",
       "      <td>2583</td>\n",
       "      <td>2358.0</td>\n",
       "      <td>120.0</td>\n",
       "      <td>360.0</td>\n",
       "      <td>1.0</td>\n",
       "      <td>Urban</td>\n",
       "      <td>Y</td>\n",
       "    </tr>\n",
       "    <tr>\n",
       "      <th>4</th>\n",
       "      <td>LP001008</td>\n",
       "      <td>Male</td>\n",
       "      <td>No</td>\n",
       "      <td>0</td>\n",
       "      <td>Graduate</td>\n",
       "      <td>No</td>\n",
       "      <td>6000</td>\n",
       "      <td>0.0</td>\n",
       "      <td>141.0</td>\n",
       "      <td>360.0</td>\n",
       "      <td>1.0</td>\n",
       "      <td>Urban</td>\n",
       "      <td>Y</td>\n",
       "    </tr>\n",
       "    <tr>\n",
       "      <th>...</th>\n",
       "      <td>...</td>\n",
       "      <td>...</td>\n",
       "      <td>...</td>\n",
       "      <td>...</td>\n",
       "      <td>...</td>\n",
       "      <td>...</td>\n",
       "      <td>...</td>\n",
       "      <td>...</td>\n",
       "      <td>...</td>\n",
       "      <td>...</td>\n",
       "      <td>...</td>\n",
       "      <td>...</td>\n",
       "      <td>...</td>\n",
       "    </tr>\n",
       "    <tr>\n",
       "      <th>609</th>\n",
       "      <td>LP002978</td>\n",
       "      <td>Female</td>\n",
       "      <td>No</td>\n",
       "      <td>0</td>\n",
       "      <td>Graduate</td>\n",
       "      <td>No</td>\n",
       "      <td>2900</td>\n",
       "      <td>0.0</td>\n",
       "      <td>71.0</td>\n",
       "      <td>360.0</td>\n",
       "      <td>1.0</td>\n",
       "      <td>Rural</td>\n",
       "      <td>Y</td>\n",
       "    </tr>\n",
       "    <tr>\n",
       "      <th>610</th>\n",
       "      <td>LP002979</td>\n",
       "      <td>Male</td>\n",
       "      <td>Yes</td>\n",
       "      <td>3+</td>\n",
       "      <td>Graduate</td>\n",
       "      <td>No</td>\n",
       "      <td>4106</td>\n",
       "      <td>0.0</td>\n",
       "      <td>40.0</td>\n",
       "      <td>180.0</td>\n",
       "      <td>1.0</td>\n",
       "      <td>Rural</td>\n",
       "      <td>Y</td>\n",
       "    </tr>\n",
       "    <tr>\n",
       "      <th>611</th>\n",
       "      <td>LP002983</td>\n",
       "      <td>Male</td>\n",
       "      <td>Yes</td>\n",
       "      <td>1</td>\n",
       "      <td>Graduate</td>\n",
       "      <td>No</td>\n",
       "      <td>8072</td>\n",
       "      <td>240.0</td>\n",
       "      <td>253.0</td>\n",
       "      <td>360.0</td>\n",
       "      <td>1.0</td>\n",
       "      <td>Urban</td>\n",
       "      <td>Y</td>\n",
       "    </tr>\n",
       "    <tr>\n",
       "      <th>612</th>\n",
       "      <td>LP002984</td>\n",
       "      <td>Male</td>\n",
       "      <td>Yes</td>\n",
       "      <td>2</td>\n",
       "      <td>Graduate</td>\n",
       "      <td>No</td>\n",
       "      <td>7583</td>\n",
       "      <td>0.0</td>\n",
       "      <td>187.0</td>\n",
       "      <td>360.0</td>\n",
       "      <td>1.0</td>\n",
       "      <td>Urban</td>\n",
       "      <td>Y</td>\n",
       "    </tr>\n",
       "    <tr>\n",
       "      <th>613</th>\n",
       "      <td>LP002990</td>\n",
       "      <td>Female</td>\n",
       "      <td>No</td>\n",
       "      <td>0</td>\n",
       "      <td>Graduate</td>\n",
       "      <td>Yes</td>\n",
       "      <td>4583</td>\n",
       "      <td>0.0</td>\n",
       "      <td>133.0</td>\n",
       "      <td>360.0</td>\n",
       "      <td>0.0</td>\n",
       "      <td>Semiurban</td>\n",
       "      <td>N</td>\n",
       "    </tr>\n",
       "  </tbody>\n",
       "</table>\n",
       "<p>614 rows × 13 columns</p>\n",
       "</div>"
      ],
      "text/plain": [
       "      Loan_ID  Gender Married Dependents     Education Self_Employed  \\\n",
       "0    LP001002    Male      No          0      Graduate            No   \n",
       "1    LP001003    Male     Yes          1      Graduate            No   \n",
       "2    LP001005    Male     Yes          0      Graduate           Yes   \n",
       "3    LP001006    Male     Yes          0  Not Graduate            No   \n",
       "4    LP001008    Male      No          0      Graduate            No   \n",
       "..        ...     ...     ...        ...           ...           ...   \n",
       "609  LP002978  Female      No          0      Graduate            No   \n",
       "610  LP002979    Male     Yes         3+      Graduate            No   \n",
       "611  LP002983    Male     Yes          1      Graduate            No   \n",
       "612  LP002984    Male     Yes          2      Graduate            No   \n",
       "613  LP002990  Female      No          0      Graduate           Yes   \n",
       "\n",
       "     ApplicantIncome  CoapplicantIncome  LoanAmount  Loan_Amount_Term  \\\n",
       "0               5849                0.0         NaN             360.0   \n",
       "1               4583             1508.0       128.0             360.0   \n",
       "2               3000                0.0        66.0             360.0   \n",
       "3               2583             2358.0       120.0             360.0   \n",
       "4               6000                0.0       141.0             360.0   \n",
       "..               ...                ...         ...               ...   \n",
       "609             2900                0.0        71.0             360.0   \n",
       "610             4106                0.0        40.0             180.0   \n",
       "611             8072              240.0       253.0             360.0   \n",
       "612             7583                0.0       187.0             360.0   \n",
       "613             4583                0.0       133.0             360.0   \n",
       "\n",
       "     Credit_History Property_Area Loan_Status  \n",
       "0               1.0         Urban           Y  \n",
       "1               1.0         Rural           N  \n",
       "2               1.0         Urban           Y  \n",
       "3               1.0         Urban           Y  \n",
       "4               1.0         Urban           Y  \n",
       "..              ...           ...         ...  \n",
       "609             1.0         Rural           Y  \n",
       "610             1.0         Rural           Y  \n",
       "611             1.0         Urban           Y  \n",
       "612             1.0         Urban           Y  \n",
       "613             0.0     Semiurban           N  \n",
       "\n",
       "[614 rows x 13 columns]"
      ]
     },
     "execution_count": 2,
     "metadata": {},
     "output_type": "execute_result"
    }
   ],
   "source": [
    "df = pd.read_csv('loan_status_.csv')\n",
    "df"
   ]
  },
  {
   "cell_type": "markdown",
   "id": "c6e12a71",
   "metadata": {},
   "source": [
    "### 3) Checking few rows on random basis"
   ]
  },
  {
   "cell_type": "code",
   "execution_count": 3,
   "id": "5a2d4cff",
   "metadata": {},
   "outputs": [
    {
     "data": {
      "text/html": [
       "<div>\n",
       "<style scoped>\n",
       "    .dataframe tbody tr th:only-of-type {\n",
       "        vertical-align: middle;\n",
       "    }\n",
       "\n",
       "    .dataframe tbody tr th {\n",
       "        vertical-align: top;\n",
       "    }\n",
       "\n",
       "    .dataframe thead th {\n",
       "        text-align: right;\n",
       "    }\n",
       "</style>\n",
       "<table border=\"1\" class=\"dataframe\">\n",
       "  <thead>\n",
       "    <tr style=\"text-align: right;\">\n",
       "      <th></th>\n",
       "      <th>Loan_ID</th>\n",
       "      <th>Gender</th>\n",
       "      <th>Married</th>\n",
       "      <th>Dependents</th>\n",
       "      <th>Education</th>\n",
       "      <th>Self_Employed</th>\n",
       "      <th>ApplicantIncome</th>\n",
       "      <th>CoapplicantIncome</th>\n",
       "      <th>LoanAmount</th>\n",
       "      <th>Loan_Amount_Term</th>\n",
       "      <th>Credit_History</th>\n",
       "      <th>Property_Area</th>\n",
       "      <th>Loan_Status</th>\n",
       "    </tr>\n",
       "  </thead>\n",
       "  <tbody>\n",
       "    <tr>\n",
       "      <th>310</th>\n",
       "      <td>LP002002</td>\n",
       "      <td>Female</td>\n",
       "      <td>No</td>\n",
       "      <td>0</td>\n",
       "      <td>Graduate</td>\n",
       "      <td>No</td>\n",
       "      <td>2917</td>\n",
       "      <td>0.0</td>\n",
       "      <td>84.0</td>\n",
       "      <td>360.0</td>\n",
       "      <td>1.0</td>\n",
       "      <td>Semiurban</td>\n",
       "      <td>Y</td>\n",
       "    </tr>\n",
       "    <tr>\n",
       "      <th>209</th>\n",
       "      <td>LP001702</td>\n",
       "      <td>Male</td>\n",
       "      <td>No</td>\n",
       "      <td>0</td>\n",
       "      <td>Graduate</td>\n",
       "      <td>No</td>\n",
       "      <td>3418</td>\n",
       "      <td>0.0</td>\n",
       "      <td>127.0</td>\n",
       "      <td>360.0</td>\n",
       "      <td>1.0</td>\n",
       "      <td>Semiurban</td>\n",
       "      <td>N</td>\n",
       "    </tr>\n",
       "    <tr>\n",
       "      <th>555</th>\n",
       "      <td>LP002792</td>\n",
       "      <td>Male</td>\n",
       "      <td>Yes</td>\n",
       "      <td>1</td>\n",
       "      <td>Graduate</td>\n",
       "      <td>No</td>\n",
       "      <td>5468</td>\n",
       "      <td>1032.0</td>\n",
       "      <td>26.0</td>\n",
       "      <td>360.0</td>\n",
       "      <td>1.0</td>\n",
       "      <td>Semiurban</td>\n",
       "      <td>Y</td>\n",
       "    </tr>\n",
       "    <tr>\n",
       "      <th>502</th>\n",
       "      <td>LP002615</td>\n",
       "      <td>Male</td>\n",
       "      <td>Yes</td>\n",
       "      <td>2</td>\n",
       "      <td>Graduate</td>\n",
       "      <td>No</td>\n",
       "      <td>4865</td>\n",
       "      <td>5624.0</td>\n",
       "      <td>208.0</td>\n",
       "      <td>360.0</td>\n",
       "      <td>1.0</td>\n",
       "      <td>Semiurban</td>\n",
       "      <td>Y</td>\n",
       "    </tr>\n",
       "    <tr>\n",
       "      <th>517</th>\n",
       "      <td>LP002682</td>\n",
       "      <td>Male</td>\n",
       "      <td>Yes</td>\n",
       "      <td>NaN</td>\n",
       "      <td>Not Graduate</td>\n",
       "      <td>No</td>\n",
       "      <td>3074</td>\n",
       "      <td>1800.0</td>\n",
       "      <td>123.0</td>\n",
       "      <td>360.0</td>\n",
       "      <td>0.0</td>\n",
       "      <td>Semiurban</td>\n",
       "      <td>N</td>\n",
       "    </tr>\n",
       "    <tr>\n",
       "      <th>407</th>\n",
       "      <td>LP002314</td>\n",
       "      <td>Female</td>\n",
       "      <td>No</td>\n",
       "      <td>0</td>\n",
       "      <td>Not Graduate</td>\n",
       "      <td>No</td>\n",
       "      <td>2213</td>\n",
       "      <td>0.0</td>\n",
       "      <td>66.0</td>\n",
       "      <td>360.0</td>\n",
       "      <td>1.0</td>\n",
       "      <td>Rural</td>\n",
       "      <td>Y</td>\n",
       "    </tr>\n",
       "    <tr>\n",
       "      <th>34</th>\n",
       "      <td>LP001100</td>\n",
       "      <td>Male</td>\n",
       "      <td>No</td>\n",
       "      <td>3+</td>\n",
       "      <td>Graduate</td>\n",
       "      <td>No</td>\n",
       "      <td>12500</td>\n",
       "      <td>3000.0</td>\n",
       "      <td>320.0</td>\n",
       "      <td>360.0</td>\n",
       "      <td>1.0</td>\n",
       "      <td>Rural</td>\n",
       "      <td>N</td>\n",
       "    </tr>\n",
       "    <tr>\n",
       "      <th>111</th>\n",
       "      <td>LP001387</td>\n",
       "      <td>Female</td>\n",
       "      <td>Yes</td>\n",
       "      <td>0</td>\n",
       "      <td>Graduate</td>\n",
       "      <td>NaN</td>\n",
       "      <td>2929</td>\n",
       "      <td>2333.0</td>\n",
       "      <td>139.0</td>\n",
       "      <td>360.0</td>\n",
       "      <td>1.0</td>\n",
       "      <td>Semiurban</td>\n",
       "      <td>Y</td>\n",
       "    </tr>\n",
       "    <tr>\n",
       "      <th>599</th>\n",
       "      <td>LP002948</td>\n",
       "      <td>Male</td>\n",
       "      <td>Yes</td>\n",
       "      <td>2</td>\n",
       "      <td>Graduate</td>\n",
       "      <td>No</td>\n",
       "      <td>5780</td>\n",
       "      <td>0.0</td>\n",
       "      <td>192.0</td>\n",
       "      <td>360.0</td>\n",
       "      <td>1.0</td>\n",
       "      <td>Urban</td>\n",
       "      <td>Y</td>\n",
       "    </tr>\n",
       "    <tr>\n",
       "      <th>276</th>\n",
       "      <td>LP001903</td>\n",
       "      <td>Male</td>\n",
       "      <td>Yes</td>\n",
       "      <td>0</td>\n",
       "      <td>Graduate</td>\n",
       "      <td>No</td>\n",
       "      <td>3993</td>\n",
       "      <td>3274.0</td>\n",
       "      <td>207.0</td>\n",
       "      <td>360.0</td>\n",
       "      <td>1.0</td>\n",
       "      <td>Semiurban</td>\n",
       "      <td>Y</td>\n",
       "    </tr>\n",
       "  </tbody>\n",
       "</table>\n",
       "</div>"
      ],
      "text/plain": [
       "      Loan_ID  Gender Married Dependents     Education Self_Employed  \\\n",
       "310  LP002002  Female      No          0      Graduate            No   \n",
       "209  LP001702    Male      No          0      Graduate            No   \n",
       "555  LP002792    Male     Yes          1      Graduate            No   \n",
       "502  LP002615    Male     Yes          2      Graduate            No   \n",
       "517  LP002682    Male     Yes        NaN  Not Graduate            No   \n",
       "407  LP002314  Female      No          0  Not Graduate            No   \n",
       "34   LP001100    Male      No         3+      Graduate            No   \n",
       "111  LP001387  Female     Yes          0      Graduate           NaN   \n",
       "599  LP002948    Male     Yes          2      Graduate            No   \n",
       "276  LP001903    Male     Yes          0      Graduate            No   \n",
       "\n",
       "     ApplicantIncome  CoapplicantIncome  LoanAmount  Loan_Amount_Term  \\\n",
       "310             2917                0.0        84.0             360.0   \n",
       "209             3418                0.0       127.0             360.0   \n",
       "555             5468             1032.0        26.0             360.0   \n",
       "502             4865             5624.0       208.0             360.0   \n",
       "517             3074             1800.0       123.0             360.0   \n",
       "407             2213                0.0        66.0             360.0   \n",
       "34             12500             3000.0       320.0             360.0   \n",
       "111             2929             2333.0       139.0             360.0   \n",
       "599             5780                0.0       192.0             360.0   \n",
       "276             3993             3274.0       207.0             360.0   \n",
       "\n",
       "     Credit_History Property_Area Loan_Status  \n",
       "310             1.0     Semiurban           Y  \n",
       "209             1.0     Semiurban           N  \n",
       "555             1.0     Semiurban           Y  \n",
       "502             1.0     Semiurban           Y  \n",
       "517             0.0     Semiurban           N  \n",
       "407             1.0         Rural           Y  \n",
       "34              1.0         Rural           N  \n",
       "111             1.0     Semiurban           Y  \n",
       "599             1.0         Urban           Y  \n",
       "276             1.0     Semiurban           Y  "
      ]
     },
     "execution_count": 3,
     "metadata": {},
     "output_type": "execute_result"
    }
   ],
   "source": [
    "df.sample(10)"
   ]
  },
  {
   "cell_type": "markdown",
   "id": "9f9b0efe",
   "metadata": {},
   "source": [
    "### 4) Shape of the dataset"
   ]
  },
  {
   "cell_type": "code",
   "execution_count": 4,
   "id": "747c7487",
   "metadata": {},
   "outputs": [
    {
     "data": {
      "text/plain": [
       "(614, 13)"
      ]
     },
     "execution_count": 4,
     "metadata": {},
     "output_type": "execute_result"
    }
   ],
   "source": [
    "df.shape"
   ]
  },
  {
   "cell_type": "markdown",
   "id": "d9e2d17b",
   "metadata": {},
   "source": [
    "#### Observation: No of rows = 614, No of columns = 13"
   ]
  },
  {
   "cell_type": "markdown",
   "id": "e05aaffc",
   "metadata": {},
   "source": [
    "### 5) Unique values in columns"
   ]
  },
  {
   "cell_type": "code",
   "execution_count": 5,
   "id": "b54fbc6e",
   "metadata": {},
   "outputs": [
    {
     "data": {
      "text/html": [
       "<div>\n",
       "<style scoped>\n",
       "    .dataframe tbody tr th:only-of-type {\n",
       "        vertical-align: middle;\n",
       "    }\n",
       "\n",
       "    .dataframe tbody tr th {\n",
       "        vertical-align: top;\n",
       "    }\n",
       "\n",
       "    .dataframe thead th {\n",
       "        text-align: right;\n",
       "    }\n",
       "</style>\n",
       "<table border=\"1\" class=\"dataframe\">\n",
       "  <thead>\n",
       "    <tr style=\"text-align: right;\">\n",
       "      <th></th>\n",
       "      <th>No of Unique Values</th>\n",
       "    </tr>\n",
       "  </thead>\n",
       "  <tbody>\n",
       "    <tr>\n",
       "      <th>Loan_ID</th>\n",
       "      <td>614</td>\n",
       "    </tr>\n",
       "    <tr>\n",
       "      <th>Gender</th>\n",
       "      <td>2</td>\n",
       "    </tr>\n",
       "    <tr>\n",
       "      <th>Married</th>\n",
       "      <td>2</td>\n",
       "    </tr>\n",
       "    <tr>\n",
       "      <th>Dependents</th>\n",
       "      <td>4</td>\n",
       "    </tr>\n",
       "    <tr>\n",
       "      <th>Education</th>\n",
       "      <td>2</td>\n",
       "    </tr>\n",
       "    <tr>\n",
       "      <th>Self_Employed</th>\n",
       "      <td>2</td>\n",
       "    </tr>\n",
       "    <tr>\n",
       "      <th>ApplicantIncome</th>\n",
       "      <td>505</td>\n",
       "    </tr>\n",
       "    <tr>\n",
       "      <th>CoapplicantIncome</th>\n",
       "      <td>287</td>\n",
       "    </tr>\n",
       "    <tr>\n",
       "      <th>LoanAmount</th>\n",
       "      <td>203</td>\n",
       "    </tr>\n",
       "    <tr>\n",
       "      <th>Loan_Amount_Term</th>\n",
       "      <td>10</td>\n",
       "    </tr>\n",
       "    <tr>\n",
       "      <th>Credit_History</th>\n",
       "      <td>2</td>\n",
       "    </tr>\n",
       "    <tr>\n",
       "      <th>Property_Area</th>\n",
       "      <td>3</td>\n",
       "    </tr>\n",
       "    <tr>\n",
       "      <th>Loan_Status</th>\n",
       "      <td>2</td>\n",
       "    </tr>\n",
       "  </tbody>\n",
       "</table>\n",
       "</div>"
      ],
      "text/plain": [
       "                   No of Unique Values\n",
       "Loan_ID                            614\n",
       "Gender                               2\n",
       "Married                              2\n",
       "Dependents                           4\n",
       "Education                            2\n",
       "Self_Employed                        2\n",
       "ApplicantIncome                    505\n",
       "CoapplicantIncome                  287\n",
       "LoanAmount                         203\n",
       "Loan_Amount_Term                    10\n",
       "Credit_History                       2\n",
       "Property_Area                        3\n",
       "Loan_Status                          2"
      ]
     },
     "execution_count": 5,
     "metadata": {},
     "output_type": "execute_result"
    }
   ],
   "source": [
    "df.nunique().to_frame('No of Unique Values')"
   ]
  },
  {
   "cell_type": "code",
   "execution_count": 6,
   "id": "0f1e8314",
   "metadata": {},
   "outputs": [
    {
     "name": "stdout",
     "output_type": "stream",
     "text": [
      "LP001002    1\n",
      "LP002328    1\n",
      "LP002305    1\n",
      "LP002308    1\n",
      "LP002314    1\n",
      "           ..\n",
      "LP001692    1\n",
      "LP001693    1\n",
      "LP001698    1\n",
      "LP001699    1\n",
      "LP002990    1\n",
      "Name: Loan_ID, Length: 614, dtype: int64\n",
      "\n",
      "\n",
      "Male      489\n",
      "Female    112\n",
      "Name: Gender, dtype: int64\n",
      "\n",
      "\n",
      "Yes    398\n",
      "No     213\n",
      "Name: Married, dtype: int64\n",
      "\n",
      "\n",
      "0     345\n",
      "1     102\n",
      "2     101\n",
      "3+     51\n",
      "Name: Dependents, dtype: int64\n",
      "\n",
      "\n",
      "Graduate        480\n",
      "Not Graduate    134\n",
      "Name: Education, dtype: int64\n",
      "\n",
      "\n",
      "No     500\n",
      "Yes     82\n",
      "Name: Self_Employed, dtype: int64\n",
      "\n",
      "\n",
      "2500    9\n",
      "4583    6\n",
      "6000    6\n",
      "2600    6\n",
      "3333    5\n",
      "       ..\n",
      "3244    1\n",
      "4408    1\n",
      "3917    1\n",
      "3992    1\n",
      "7583    1\n",
      "Name: ApplicantIncome, Length: 505, dtype: int64\n",
      "\n",
      "\n",
      "0.0       273\n",
      "2500.0      5\n",
      "2083.0      5\n",
      "1666.0      5\n",
      "2250.0      3\n",
      "         ... \n",
      "2791.0      1\n",
      "1010.0      1\n",
      "1695.0      1\n",
      "2598.0      1\n",
      "240.0       1\n",
      "Name: CoapplicantIncome, Length: 287, dtype: int64\n",
      "\n",
      "\n",
      "120.0    20\n",
      "110.0    17\n",
      "100.0    15\n",
      "160.0    12\n",
      "187.0    12\n",
      "         ..\n",
      "240.0     1\n",
      "214.0     1\n",
      "59.0      1\n",
      "166.0     1\n",
      "253.0     1\n",
      "Name: LoanAmount, Length: 203, dtype: int64\n",
      "\n",
      "\n",
      "360.0    512\n",
      "180.0     44\n",
      "480.0     15\n",
      "300.0     13\n",
      "240.0      4\n",
      "84.0       4\n",
      "120.0      3\n",
      "60.0       2\n",
      "36.0       2\n",
      "12.0       1\n",
      "Name: Loan_Amount_Term, dtype: int64\n",
      "\n",
      "\n",
      "1.0    475\n",
      "0.0     89\n",
      "Name: Credit_History, dtype: int64\n",
      "\n",
      "\n",
      "Semiurban    233\n",
      "Urban        202\n",
      "Rural        179\n",
      "Name: Property_Area, dtype: int64\n",
      "\n",
      "\n",
      "Y    422\n",
      "N    192\n",
      "Name: Loan_Status, dtype: int64\n",
      "\n",
      "\n"
     ]
    }
   ],
   "source": [
    "for i in df.columns:\n",
    "    print(df[i].value_counts())\n",
    "    print('\\n')"
   ]
  },
  {
   "cell_type": "markdown",
   "id": "a1db9741",
   "metadata": {},
   "source": [
    "### 6) Dropping Loan Id column as it is just a serial no sort of and will not play a role in analysis"
   ]
  },
  {
   "cell_type": "code",
   "execution_count": 7,
   "id": "525e46ba",
   "metadata": {},
   "outputs": [],
   "source": [
    "df.drop(['Loan_ID'],axis=1,inplace=True)"
   ]
  },
  {
   "cell_type": "markdown",
   "id": "f544ba39",
   "metadata": {},
   "source": [
    "### 7) List of column names"
   ]
  },
  {
   "cell_type": "code",
   "execution_count": 8,
   "id": "36fb16c6",
   "metadata": {},
   "outputs": [
    {
     "data": {
      "text/plain": [
       "['Gender',\n",
       " 'Married',\n",
       " 'Dependents',\n",
       " 'Education',\n",
       " 'Self_Employed',\n",
       " 'ApplicantIncome',\n",
       " 'CoapplicantIncome',\n",
       " 'LoanAmount',\n",
       " 'Loan_Amount_Term',\n",
       " 'Credit_History',\n",
       " 'Property_Area',\n",
       " 'Loan_Status']"
      ]
     },
     "execution_count": 8,
     "metadata": {},
     "output_type": "execute_result"
    }
   ],
   "source": [
    "df.columns.tolist()"
   ]
  },
  {
   "cell_type": "markdown",
   "id": "242d72bb",
   "metadata": {},
   "source": [
    "### 8) General info"
   ]
  },
  {
   "cell_type": "code",
   "execution_count": 9,
   "id": "0749c395",
   "metadata": {},
   "outputs": [
    {
     "name": "stdout",
     "output_type": "stream",
     "text": [
      "<class 'pandas.core.frame.DataFrame'>\n",
      "RangeIndex: 614 entries, 0 to 613\n",
      "Data columns (total 12 columns):\n",
      " #   Column             Non-Null Count  Dtype  \n",
      "---  ------             --------------  -----  \n",
      " 0   Gender             601 non-null    object \n",
      " 1   Married            611 non-null    object \n",
      " 2   Dependents         599 non-null    object \n",
      " 3   Education          614 non-null    object \n",
      " 4   Self_Employed      582 non-null    object \n",
      " 5   ApplicantIncome    614 non-null    int64  \n",
      " 6   CoapplicantIncome  614 non-null    float64\n",
      " 7   LoanAmount         592 non-null    float64\n",
      " 8   Loan_Amount_Term   600 non-null    float64\n",
      " 9   Credit_History     564 non-null    float64\n",
      " 10  Property_Area      614 non-null    object \n",
      " 11  Loan_Status        614 non-null    object \n",
      "dtypes: float64(4), int64(1), object(7)\n",
      "memory usage: 57.7+ KB\n"
     ]
    }
   ],
   "source": [
    "df.info()"
   ]
  },
  {
   "cell_type": "markdown",
   "id": "a69eb8ea",
   "metadata": {},
   "source": [
    "#### Observation:\n",
    "#### There are 3 datatypes Object, Int and Float\n",
    "#### Dependents values are 0,1,2,3,3+, because of 3+ its is reflecting as object data type\n",
    "#### Except for Education,Applicant Income, Coapplicant Income,Property_Area, Loan_Status all other variables have null values as non null count is not equal to no of rows.  "
   ]
  },
  {
   "cell_type": "code",
   "execution_count": 10,
   "id": "35816724",
   "metadata": {},
   "outputs": [],
   "source": [
    "df['Dependents'].replace('3+','4', inplace = True)"
   ]
  },
  {
   "cell_type": "code",
   "execution_count": 11,
   "id": "6a59f595",
   "metadata": {},
   "outputs": [
    {
     "data": {
      "text/plain": [
       "array(['0', '1', '2', '4', nan], dtype=object)"
      ]
     },
     "execution_count": 11,
     "metadata": {},
     "output_type": "execute_result"
    }
   ],
   "source": [
    "df['Dependents'].unique()"
   ]
  },
  {
   "cell_type": "markdown",
   "id": "38ea9a66",
   "metadata": {},
   "source": [
    "### 9) Checking Null Values"
   ]
  },
  {
   "cell_type": "code",
   "execution_count": 12,
   "id": "07f4f654",
   "metadata": {},
   "outputs": [
    {
     "data": {
      "text/plain": [
       "Gender               13\n",
       "Married               3\n",
       "Dependents           15\n",
       "Education             0\n",
       "Self_Employed        32\n",
       "ApplicantIncome       0\n",
       "CoapplicantIncome     0\n",
       "LoanAmount           22\n",
       "Loan_Amount_Term     14\n",
       "Credit_History       50\n",
       "Property_Area         0\n",
       "Loan_Status           0\n",
       "dtype: int64"
      ]
     },
     "execution_count": 12,
     "metadata": {},
     "output_type": "execute_result"
    }
   ],
   "source": [
    "df.isnull().sum()"
   ]
  },
  {
   "cell_type": "markdown",
   "id": "53a602f8",
   "metadata": {},
   "source": [
    "### 10) Checking the impact of dropping the null values"
   ]
  },
  {
   "cell_type": "code",
   "execution_count": 13,
   "id": "03a8c8ca",
   "metadata": {},
   "outputs": [],
   "source": [
    "df1 = df.dropna()"
   ]
  },
  {
   "cell_type": "code",
   "execution_count": 14,
   "id": "ad4b9aad",
   "metadata": {},
   "outputs": [
    {
     "data": {
      "text/plain": [
       "(480, 12)"
      ]
     },
     "execution_count": 14,
     "metadata": {},
     "output_type": "execute_result"
    }
   ],
   "source": [
    "df1.shape"
   ]
  },
  {
   "cell_type": "code",
   "execution_count": 15,
   "id": "882a7d90",
   "metadata": {},
   "outputs": [],
   "source": [
    "per_data_lost = ((df.shape[0] - df1.shape[0]) / df.shape[0]*100)"
   ]
  },
  {
   "cell_type": "code",
   "execution_count": 16,
   "id": "dd479faf",
   "metadata": {},
   "outputs": [
    {
     "data": {
      "text/plain": [
       "21.824104234527688"
      ]
     },
     "execution_count": 16,
     "metadata": {},
     "output_type": "execute_result"
    }
   ],
   "source": [
    "per_data_lost"
   ]
  },
  {
   "cell_type": "markdown",
   "id": "6dc849b1",
   "metadata": {},
   "source": [
    "#### Observation : Since dropping of null values indicates significant loss of data (22%) and since the dataset is not too large hence avoiding dropping of null values and work on filling the null values"
   ]
  },
  {
   "cell_type": "markdown",
   "id": "f33b994a",
   "metadata": {},
   "source": [
    "### 11) Separating Numerical and Categorical Column"
   ]
  },
  {
   "cell_type": "code",
   "execution_count": 17,
   "id": "207387eb",
   "metadata": {},
   "outputs": [
    {
     "name": "stdout",
     "output_type": "stream",
     "text": [
      "Categorical Columns:  ['Gender', 'Married', 'Dependents', 'Education', 'Self_Employed', 'Property_Area', 'Loan_Status']\n"
     ]
    }
   ],
   "source": [
    "cat_col = []\n",
    "for i in df.dtypes.index:\n",
    "    if df.dtypes[i]=='object':\n",
    "        cat_col.append(i)\n",
    "print('Categorical Columns: ',cat_col)"
   ]
  },
  {
   "cell_type": "code",
   "execution_count": 18,
   "id": "bad63a98",
   "metadata": {},
   "outputs": [
    {
     "name": "stdout",
     "output_type": "stream",
     "text": [
      "Numerical Columns:  ['ApplicantIncome', 'CoapplicantIncome', 'LoanAmount', 'Loan_Amount_Term', 'Credit_History']\n"
     ]
    }
   ],
   "source": [
    "num_col = []\n",
    "for i in df.dtypes.index:\n",
    "    if df.dtypes[i]!='object':\n",
    "        num_col.append(i)\n",
    "print('Numerical Columns: ',num_col)"
   ]
  },
  {
   "cell_type": "markdown",
   "id": "7281072a",
   "metadata": {},
   "source": [
    "#### Observation: Since Credit_History has 2 values 1 and 0 hence it is part of num_col but having just binary values it is categorical variable"
   ]
  },
  {
   "cell_type": "code",
   "execution_count": 19,
   "id": "05ff2922",
   "metadata": {},
   "outputs": [
    {
     "data": {
      "image/png": "[encoded data removed]",
      "text/plain": [
       "<Figure size 1080x2880 with 7 Axes>"
      ]
     },
     "metadata": {},
     "output_type": "display_data"
    }
   ],
   "source": [
    "plt.figure(figsize=(15,40), facecolor = 'grey')\n",
    "pltno = 1\n",
    "for i in cat_col:\n",
    "    if pltno<=10:\n",
    "        ax=plt.subplot(8,2,pltno)\n",
    "        sns.countplot(df[i],color='b')\n",
    "        plt.xlabel(i,fontsize=10)\n",
    "        plt.yticks(rotation = 45, fontsize=10)\n",
    "    pltno+=1\n",
    "plt.tight_layout()"
   ]
  },
  {
   "cell_type": "code",
   "execution_count": 20,
   "id": "632a8044",
   "metadata": {},
   "outputs": [
    {
     "name": "stdout",
     "output_type": "stream",
     "text": [
      "Male      489\n",
      "Female    112\n",
      "Name: Gender, dtype: int64\n",
      "\n",
      "\n",
      "Yes    398\n",
      "No     213\n",
      "Name: Married, dtype: int64\n",
      "\n",
      "\n",
      "0    345\n",
      "1    102\n",
      "2    101\n",
      "4     51\n",
      "Name: Dependents, dtype: int64\n",
      "\n",
      "\n",
      "Graduate        480\n",
      "Not Graduate    134\n",
      "Name: Education, dtype: int64\n",
      "\n",
      "\n",
      "No     500\n",
      "Yes     82\n",
      "Name: Self_Employed, dtype: int64\n",
      "\n",
      "\n",
      "2500    9\n",
      "4583    6\n",
      "6000    6\n",
      "2600    6\n",
      "3333    5\n",
      "       ..\n",
      "3244    1\n",
      "4408    1\n",
      "3917    1\n",
      "3992    1\n",
      "7583    1\n",
      "Name: ApplicantIncome, Length: 505, dtype: int64\n",
      "\n",
      "\n",
      "0.0       273\n",
      "2500.0      5\n",
      "2083.0      5\n",
      "1666.0      5\n",
      "2250.0      3\n",
      "         ... \n",
      "2791.0      1\n",
      "1010.0      1\n",
      "1695.0      1\n",
      "2598.0      1\n",
      "240.0       1\n",
      "Name: CoapplicantIncome, Length: 287, dtype: int64\n",
      "\n",
      "\n",
      "120.0    20\n",
      "110.0    17\n",
      "100.0    15\n",
      "160.0    12\n",
      "187.0    12\n",
      "         ..\n",
      "240.0     1\n",
      "214.0     1\n",
      "59.0      1\n",
      "166.0     1\n",
      "253.0     1\n",
      "Name: LoanAmount, Length: 203, dtype: int64\n",
      "\n",
      "\n",
      "360.0    512\n",
      "180.0     44\n",
      "480.0     15\n",
      "300.0     13\n",
      "240.0      4\n",
      "84.0       4\n",
      "120.0      3\n",
      "60.0       2\n",
      "36.0       2\n",
      "12.0       1\n",
      "Name: Loan_Amount_Term, dtype: int64\n",
      "\n",
      "\n",
      "1.0    475\n",
      "0.0     89\n",
      "Name: Credit_History, dtype: int64\n",
      "\n",
      "\n",
      "Semiurban    233\n",
      "Urban        202\n",
      "Rural        179\n",
      "Name: Property_Area, dtype: int64\n",
      "\n",
      "\n",
      "Y    422\n",
      "N    192\n",
      "Name: Loan_Status, dtype: int64\n",
      "\n",
      "\n"
     ]
    }
   ],
   "source": [
    "for i in df.columns:\n",
    "    print(df[i].value_counts())\n",
    "    print('\\n')"
   ]
  },
  {
   "cell_type": "markdown",
   "id": "77a09ce3",
   "metadata": {},
   "source": [
    "#### Observations\n",
    "#### In Gender category male are almost 4 times plus\n",
    "#### In Married category married are almost twice as compared to unmarried\n",
    "#### In Dependents category 0 dependents are >>>> than others\n",
    "#### In Self_Employed category non self employed are 5 times more\n",
    "#### In Credit_History 1 is 5 time more than 0\n",
    "#### In Loan Amount Term 360 months is >>>>>> than other tenures "
   ]
  },
  {
   "cell_type": "markdown",
   "id": "d21022bd",
   "metadata": {},
   "source": [
    "### 13) Missing Value Treatment  using mean and mode"
   ]
  },
  {
   "cell_type": "code",
   "execution_count": 21,
   "id": "7fd9acbd",
   "metadata": {},
   "outputs": [],
   "source": [
    "df['Gender'].fillna(df['Gender'].mode()[0],inplace=True)\n",
    "df['Married'].fillna(df['Married'].mode()[0],inplace=True)\n",
    "df['Dependents'].fillna(df['Dependents'].mode()[0],inplace=True)\n",
    "df['Self_Employed'].fillna(df['Self_Employed'].mode()[0],inplace=True)\n",
    "df['Credit_History'].fillna(df['Credit_History'].mode()[0],inplace=True)\n",
    "df['Loan_Amount_Term'].fillna(df['Loan_Amount_Term'].mode()[0],inplace=True)\n",
    "df['LoanAmount'].fillna(df['LoanAmount'].median(), inplace=True)"
   ]
  },
  {
   "cell_type": "code",
   "execution_count": 22,
   "id": "01e2c56f",
   "metadata": {},
   "outputs": [
    {
     "data": {
      "text/plain": [
       "Gender               0\n",
       "Married              0\n",
       "Dependents           0\n",
       "Education            0\n",
       "Self_Employed        0\n",
       "ApplicantIncome      0\n",
       "CoapplicantIncome    0\n",
       "LoanAmount           0\n",
       "Loan_Amount_Term     0\n",
       "Credit_History       0\n",
       "Property_Area        0\n",
       "Loan_Status          0\n",
       "dtype: int64"
      ]
     },
     "execution_count": 22,
     "metadata": {},
     "output_type": "execute_result"
    }
   ],
   "source": [
    "df.isnull().sum()"
   ]
  },
  {
   "cell_type": "markdown",
   "id": "834a97e2",
   "metadata": {},
   "source": [
    "### 14) Statistical Summary of dataset"
   ]
  },
  {
   "cell_type": "code",
   "execution_count": 23,
   "id": "26d19fae",
   "metadata": {},
   "outputs": [
    {
     "data": {
      "text/html": [
       "<div>\n",
       "<style scoped>\n",
       "    .dataframe tbody tr th:only-of-type {\n",
       "        vertical-align: middle;\n",
       "    }\n",
       "\n",
       "    .dataframe tbody tr th {\n",
       "        vertical-align: top;\n",
       "    }\n",
       "\n",
       "    .dataframe thead th {\n",
       "        text-align: right;\n",
       "    }\n",
       "</style>\n",
       "<table border=\"1\" class=\"dataframe\">\n",
       "  <thead>\n",
       "    <tr style=\"text-align: right;\">\n",
       "      <th></th>\n",
       "      <th>ApplicantIncome</th>\n",
       "      <th>CoapplicantIncome</th>\n",
       "      <th>LoanAmount</th>\n",
       "      <th>Loan_Amount_Term</th>\n",
       "      <th>Credit_History</th>\n",
       "    </tr>\n",
       "  </thead>\n",
       "  <tbody>\n",
       "    <tr>\n",
       "      <th>count</th>\n",
       "      <td>614.000000</td>\n",
       "      <td>614.000000</td>\n",
       "      <td>614.000000</td>\n",
       "      <td>614.000000</td>\n",
       "      <td>614.000000</td>\n",
       "    </tr>\n",
       "    <tr>\n",
       "      <th>mean</th>\n",
       "      <td>5403.459283</td>\n",
       "      <td>1621.245798</td>\n",
       "      <td>145.752443</td>\n",
       "      <td>342.410423</td>\n",
       "      <td>0.855049</td>\n",
       "    </tr>\n",
       "    <tr>\n",
       "      <th>std</th>\n",
       "      <td>6109.041673</td>\n",
       "      <td>2926.248369</td>\n",
       "      <td>84.107233</td>\n",
       "      <td>64.428629</td>\n",
       "      <td>0.352339</td>\n",
       "    </tr>\n",
       "    <tr>\n",
       "      <th>min</th>\n",
       "      <td>150.000000</td>\n",
       "      <td>0.000000</td>\n",
       "      <td>9.000000</td>\n",
       "      <td>12.000000</td>\n",
       "      <td>0.000000</td>\n",
       "    </tr>\n",
       "    <tr>\n",
       "      <th>25%</th>\n",
       "      <td>2877.500000</td>\n",
       "      <td>0.000000</td>\n",
       "      <td>100.250000</td>\n",
       "      <td>360.000000</td>\n",
       "      <td>1.000000</td>\n",
       "    </tr>\n",
       "    <tr>\n",
       "      <th>50%</th>\n",
       "      <td>3812.500000</td>\n",
       "      <td>1188.500000</td>\n",
       "      <td>128.000000</td>\n",
       "      <td>360.000000</td>\n",
       "      <td>1.000000</td>\n",
       "    </tr>\n",
       "    <tr>\n",
       "      <th>75%</th>\n",
       "      <td>5795.000000</td>\n",
       "      <td>2297.250000</td>\n",
       "      <td>164.750000</td>\n",
       "      <td>360.000000</td>\n",
       "      <td>1.000000</td>\n",
       "    </tr>\n",
       "    <tr>\n",
       "      <th>max</th>\n",
       "      <td>81000.000000</td>\n",
       "      <td>41667.000000</td>\n",
       "      <td>700.000000</td>\n",
       "      <td>480.000000</td>\n",
       "      <td>1.000000</td>\n",
       "    </tr>\n",
       "  </tbody>\n",
       "</table>\n",
       "</div>"
      ],
      "text/plain": [
       "       ApplicantIncome  CoapplicantIncome  LoanAmount  Loan_Amount_Term  \\\n",
       "count       614.000000         614.000000  614.000000        614.000000   \n",
       "mean       5403.459283        1621.245798  145.752443        342.410423   \n",
       "std        6109.041673        2926.248369   84.107233         64.428629   \n",
       "min         150.000000           0.000000    9.000000         12.000000   \n",
       "25%        2877.500000           0.000000  100.250000        360.000000   \n",
       "50%        3812.500000        1188.500000  128.000000        360.000000   \n",
       "75%        5795.000000        2297.250000  164.750000        360.000000   \n",
       "max       81000.000000       41667.000000  700.000000        480.000000   \n",
       "\n",
       "       Credit_History  \n",
       "count      614.000000  \n",
       "mean         0.855049  \n",
       "std          0.352339  \n",
       "min          0.000000  \n",
       "25%          1.000000  \n",
       "50%          1.000000  \n",
       "75%          1.000000  \n",
       "max          1.000000  "
      ]
     },
     "execution_count": 23,
     "metadata": {},
     "output_type": "execute_result"
    }
   ],
   "source": [
    "df.describe()"
   ]
  },
  {
   "cell_type": "markdown",
   "id": "db9bf9c9",
   "metadata": {},
   "source": [
    "#### Observation\n",
    "#### Outliers are clearly evident in ApplicantIncome,CoapplicantIncome, LoanAmount as there is huge difference in 75% and max"
   ]
  },
  {
   "cell_type": "markdown",
   "id": "b2caa37b",
   "metadata": {},
   "source": [
    "### 15) Univariate Analysis"
   ]
  },
  {
   "cell_type": "code",
   "execution_count": 24,
   "id": "43478f19",
   "metadata": {},
   "outputs": [
    {
     "data": {
      "image/png": "[encoded data removed]",
      "text/plain": [
       "<Figure size 1800x1080 with 5 Axes>"
      ]
     },
     "metadata": {},
     "output_type": "display_data"
    }
   ],
   "source": [
    "plt.figure(figsize=(25,15), facecolor = 'grey')\n",
    "pltno = 1\n",
    "for i in num_col:\n",
    "    if pltno<=6:\n",
    "        ax=plt.subplot(3,2,pltno)\n",
    "        sns.distplot(df[i],color='r')\n",
    "        plt.xlabel(i,fontsize=20)\n",
    "        plt.yticks(rotation = 90, fontsize=10)\n",
    "    pltno+=1\n",
    "plt.tight_layout()"
   ]
  },
  {
   "cell_type": "markdown",
   "id": "e1fa1a45",
   "metadata": {},
   "source": [
    "#### Observation:  ApplicantIncome,CoapplicantIncome, LoanAmount is skewed towards the right and indicates outliers.\n",
    "#### Loan_Amount_term and Credit_Histry are categorical variables hence skewness and outliers analysis not done"
   ]
  },
  {
   "cell_type": "code",
   "execution_count": 25,
   "id": "28be9875",
   "metadata": {},
   "outputs": [
    {
     "data": {
      "image/png": "[encoded data removed]",
      "text/plain": [
       "<Figure size 1080x2880 with 7 Axes>"
      ]
     },
     "metadata": {},
     "output_type": "display_data"
    }
   ],
   "source": [
    "plt.figure(figsize=(15,40), facecolor = 'grey')\n",
    "pltno = 1\n",
    "for i in cat_col:\n",
    "    if pltno<=10:\n",
    "        ax=plt.subplot(8,2,pltno)\n",
    "        sns.countplot(df[i],color='b')\n",
    "        plt.xlabel(i,fontsize=10)\n",
    "        plt.yticks(rotation = 45, fontsize=10)\n",
    "    pltno+=1\n",
    "plt.tight_layout()"
   ]
  },
  {
   "cell_type": "markdown",
   "id": "9a0af1a2",
   "metadata": {},
   "source": [
    "#### Observations\n",
    "#### In Gender category male is maximum\n",
    "#### In Married category married are mac\n",
    "#### In Dependents category 0 dependents are >>>> than other, dependents 1 and 2 are almost equal\n",
    "#### In Education Catgory Graduate are more\n",
    "#### In Self_Employed category non self employed are max\n",
    "#### In Property_Area SemiUrban> Urban > Rural\n",
    "#### In Loan Status Yes is more "
   ]
  },
  {
   "cell_type": "markdown",
   "id": "54974db3",
   "metadata": {},
   "source": [
    "### 16) Bivariate Analysis"
   ]
  },
  {
   "cell_type": "code",
   "execution_count": 26,
   "id": "80474e9a",
   "metadata": {},
   "outputs": [
    {
     "data": {
      "image/png": "[encoded data removed]",
      "text/plain": [
       "<Figure size 864x1080 with 8 Axes>"
      ]
     },
     "metadata": {
      "needs_background": "light"
     },
     "output_type": "display_data"
    }
   ],
   "source": [
    "fig,axes = plt.subplots(4,2,figsize=(12,15))\n",
    "for i,cat_col in enumerate(cat_col):\n",
    "    row,col = i//2,i%2\n",
    "    sns.countplot(x=cat_col,data=df,hue='Loan_Status',ax=axes[row,col])"
   ]
  },
  {
   "cell_type": "markdown",
   "id": "aad66673",
   "metadata": {},
   "source": [
    "#### Observations\n",
    "#### Loans advanced to males are high, having aview at the plot also shows of the female clients 50% of them were also granted loan.\n",
    "#### % of clients granted loan are higher in case of married\n",
    "#### As the no of clients who do not have dependents are more and hence the loan granted are also high but at the same time it is evident from the plot that the % of loan approved is 50% but in case of dependents being 2 the % wise approval is higher although the total count is low\n",
    "#### Education wise the graduates have higher % of loan approved\n",
    "#### Non-Self Employed % of loan granted is high\n",
    "#### Property Area Semi Urban count as well as % loan granted is high\n"
   ]
  },
  {
   "cell_type": "code",
   "execution_count": 27,
   "id": "2b3e619f",
   "metadata": {},
   "outputs": [
    {
     "data": {
      "image/png": "[encoded data removed]",
      "text/plain": [
       "<Figure size 432x288 with 1 Axes>"
      ]
     },
     "metadata": {
      "needs_background": "light"
     },
     "output_type": "display_data"
    }
   ],
   "source": [
    "plt.title('Comaprison Between ApplicantIncome vs LoanAmount')\n",
    "sns.scatterplot(x='ApplicantIncome',y='LoanAmount',data=df,hue='Loan_Status',palette = 'bright')\n",
    "plt.show()"
   ]
  },
  {
   "cell_type": "markdown",
   "id": "f6d4a086",
   "metadata": {},
   "source": [
    "#### Observation: Most of the data is concentrated for applicant below 20000 and Loan amount 4lacs"
   ]
  },
  {
   "cell_type": "code",
   "execution_count": 28,
   "id": "3fa577f6",
   "metadata": {},
   "outputs": [
    {
     "data": {
      "image/png": "[encoded data removed]",
      "text/plain": [
       "<Figure size 432x288 with 1 Axes>"
      ]
     },
     "metadata": {
      "needs_background": "light"
     },
     "output_type": "display_data"
    }
   ],
   "source": [
    "plt.title('Comaprison Between ApplicantIncome vs LoanAmount')\n",
    "sns.scatterplot(x='CoapplicantIncome',y='LoanAmount',data=df,hue='Loan_Status',palette = 'bright')\n",
    "plt.show()"
   ]
  },
  {
   "cell_type": "markdown",
   "id": "1068b9e6",
   "metadata": {},
   "source": [
    "#### Observation With coapplicant the loan status yes is more"
   ]
  },
  {
   "cell_type": "code",
   "execution_count": 29,
   "id": "9daecf86",
   "metadata": {},
   "outputs": [
    {
     "data": {
      "image/png": "[encoded data removed]",
      "text/plain": [
       "<Figure size 432x288 with 1 Axes>"
      ]
     },
     "metadata": {
      "needs_background": "light"
     },
     "output_type": "display_data"
    }
   ],
   "source": [
    "sns.countplot(x='Credit_History',hue ='Loan_Status',data=df)\n",
    "plt.show()"
   ]
  },
  {
   "cell_type": "markdown",
   "id": "c38cc9d2",
   "metadata": {},
   "source": [
    "#### Observation: Person with no credit history the probability of loan being rejected is high"
   ]
  },
  {
   "cell_type": "markdown",
   "id": "2d535dd3",
   "metadata": {},
   "source": [
    "### 17) Multivariate Analysis"
   ]
  },
  {
   "cell_type": "code",
   "execution_count": 30,
   "id": "2b7c8a57",
   "metadata": {},
   "outputs": [
    {
     "data": {
      "image/png": "[encoded data removed]",
      "text/plain": [
       "<Figure size 968.625x900 with 30 Axes>"
      ]
     },
     "metadata": {
      "needs_background": "light"
     },
     "output_type": "display_data"
    }
   ],
   "source": [
    "sns.pairplot(df,hue='Loan_Status',palette='icefire')\n",
    "plt.show()"
   ]
  },
  {
   "cell_type": "markdown",
   "id": "158e7cc8",
   "metadata": {},
   "source": [
    "#### Observation: ApplicantIncome and Loan Amount, Coapplicant Income and Loan Amount are related"
   ]
  },
  {
   "cell_type": "markdown",
   "id": "f6e4725d",
   "metadata": {},
   "source": [
    "### 18) Checking Outliers "
   ]
  },
  {
   "cell_type": "code",
   "execution_count": 31,
   "id": "3582e45b",
   "metadata": {},
   "outputs": [
    {
     "data": {
      "image/png": "[encoded data removed]",
      "text/plain": [
       "<Figure size 1440x2880 with 5 Axes>"
      ]
     },
     "metadata": {},
     "output_type": "display_data"
    }
   ],
   "source": [
    "plt.figure(figsize=(20,40),facecolor='grey')\n",
    "pltno = 1\n",
    "for i in num_col:\n",
    "    if pltno<=6:\n",
    "        ax=plt.subplot(8,4,pltno)\n",
    "        sns.boxplot(df[i],palette='icefire')\n",
    "        plt.xlabel(i,fontsize=15)\n",
    "        plt.yticks(rotation = 0,fontsize=10)\n",
    "    pltno+=1\n",
    "plt.tight_layout()"
   ]
  },
  {
   "cell_type": "code",
   "execution_count": 32,
   "id": "8398f7e2",
   "metadata": {},
   "outputs": [],
   "source": [
    "from scipy.stats import zscore"
   ]
  },
  {
   "cell_type": "code",
   "execution_count": 33,
   "id": "155e6d39",
   "metadata": {},
   "outputs": [],
   "source": [
    "out_feat = df[['ApplicantIncome','CoapplicantIncome','LoanAmount']]"
   ]
  },
  {
   "cell_type": "code",
   "execution_count": 34,
   "id": "17390762",
   "metadata": {},
   "outputs": [],
   "source": [
    "z = np.abs(zscore(out_feat))"
   ]
  },
  {
   "cell_type": "code",
   "execution_count": 35,
   "id": "20ff97ac",
   "metadata": {},
   "outputs": [
    {
     "data": {
      "text/plain": [
       "(array([  9, 126, 130, 155, 155, 171, 171, 177, 177, 183, 185, 278, 308,\n",
       "        333, 333, 369, 402, 409, 417, 432, 443, 487, 506, 523, 525, 561,\n",
       "        581, 600, 604], dtype=int64),\n",
       " array([1, 0, 2, 0, 2, 0, 2, 1, 2, 0, 0, 2, 2, 0, 2, 2, 1, 0, 1, 2, 0, 2,\n",
       "        2, 2, 2, 2, 1, 1, 2], dtype=int64))"
      ]
     },
     "execution_count": 35,
     "metadata": {},
     "output_type": "execute_result"
    }
   ],
   "source": [
    "np.where(z>3)"
   ]
  },
  {
   "cell_type": "code",
   "execution_count": 36,
   "id": "9a5f21eb",
   "metadata": {},
   "outputs": [],
   "source": [
    "dfn = df[(z<3).all(axis=1)]"
   ]
  },
  {
   "cell_type": "code",
   "execution_count": 37,
   "id": "02e0f821",
   "metadata": {},
   "outputs": [
    {
     "data": {
      "text/plain": [
       "(589, 12)"
      ]
     },
     "execution_count": 37,
     "metadata": {},
     "output_type": "execute_result"
    }
   ],
   "source": [
    "dfn.shape"
   ]
  },
  {
   "cell_type": "code",
   "execution_count": 38,
   "id": "73d09b17",
   "metadata": {},
   "outputs": [
    {
     "data": {
      "text/plain": [
       "4.071661237785016"
      ]
     },
     "execution_count": 38,
     "metadata": {},
     "output_type": "execute_result"
    }
   ],
   "source": [
    "Per_Of_Data_Lost = ((df.shape[0]-dfn.shape[0])/df.shape[0]*100)\n",
    "Per_Of_Data_Lost"
   ]
  },
  {
   "cell_type": "markdown",
   "id": "8c7c0224",
   "metadata": {},
   "source": [
    "### 19) Checking Skweness"
   ]
  },
  {
   "cell_type": "code",
   "execution_count": 39,
   "id": "e0b003a6",
   "metadata": {},
   "outputs": [
    {
     "data": {
      "text/plain": [
       "Dependents           1.488375\n",
       "ApplicantIncome      2.164762\n",
       "CoapplicantIncome    1.353191\n",
       "LoanAmount           1.114173\n",
       "Loan_Amount_Term    -2.446026\n",
       "Credit_History      -2.010069\n",
       "dtype: float64"
      ]
     },
     "execution_count": 39,
     "metadata": {},
     "output_type": "execute_result"
    }
   ],
   "source": [
    "dfn.skew()"
   ]
  },
  {
   "cell_type": "code",
   "execution_count": 40,
   "id": "740a9b32",
   "metadata": {},
   "outputs": [],
   "source": [
    "dfn['ApplicantIncome']=np.cbrt(dfn['ApplicantIncome'])\n",
    "dfn['CoapplicantIncome']=np.cbrt(dfn['CoapplicantIncome'])\n",
    "dfn['LoanAmount']=np.cbrt(dfn['LoanAmount'])"
   ]
  },
  {
   "cell_type": "markdown",
   "id": "a9c95fa1",
   "metadata": {},
   "source": [
    "### 20) Encoding Categorical Variable"
   ]
  },
  {
   "cell_type": "code",
   "execution_count": 48,
   "id": "e466a208",
   "metadata": {},
   "outputs": [
    {
     "data": {
      "text/html": [
       "<div>\n",
       "<style scoped>\n",
       "    .dataframe tbody tr th:only-of-type {\n",
       "        vertical-align: middle;\n",
       "    }\n",
       "\n",
       "    .dataframe tbody tr th {\n",
       "        vertical-align: top;\n",
       "    }\n",
       "\n",
       "    .dataframe thead th {\n",
       "        text-align: right;\n",
       "    }\n",
       "</style>\n",
       "<table border=\"1\" class=\"dataframe\">\n",
       "  <thead>\n",
       "    <tr style=\"text-align: right;\">\n",
       "      <th></th>\n",
       "      <th>Gender</th>\n",
       "      <th>Married</th>\n",
       "      <th>Dependents</th>\n",
       "      <th>Education</th>\n",
       "      <th>Self_Employed</th>\n",
       "      <th>ApplicantIncome</th>\n",
       "      <th>CoapplicantIncome</th>\n",
       "      <th>LoanAmount</th>\n",
       "      <th>Loan_Amount_Term</th>\n",
       "      <th>Credit_History</th>\n",
       "      <th>Property_Area</th>\n",
       "      <th>Loan_Status</th>\n",
       "    </tr>\n",
       "  </thead>\n",
       "  <tbody>\n",
       "    <tr>\n",
       "      <th>0</th>\n",
       "      <td>1.0</td>\n",
       "      <td>0.0</td>\n",
       "      <td>0</td>\n",
       "      <td>0.0</td>\n",
       "      <td>0.0</td>\n",
       "      <td>18.017473</td>\n",
       "      <td>0.000000</td>\n",
       "      <td>5.039684</td>\n",
       "      <td>8.0</td>\n",
       "      <td>1.0</td>\n",
       "      <td>2.0</td>\n",
       "      <td>1.0</td>\n",
       "    </tr>\n",
       "    <tr>\n",
       "      <th>1</th>\n",
       "      <td>1.0</td>\n",
       "      <td>1.0</td>\n",
       "      <td>1</td>\n",
       "      <td>0.0</td>\n",
       "      <td>0.0</td>\n",
       "      <td>16.610522</td>\n",
       "      <td>11.467457</td>\n",
       "      <td>5.039684</td>\n",
       "      <td>8.0</td>\n",
       "      <td>1.0</td>\n",
       "      <td>0.0</td>\n",
       "      <td>0.0</td>\n",
       "    </tr>\n",
       "    <tr>\n",
       "      <th>2</th>\n",
       "      <td>1.0</td>\n",
       "      <td>1.0</td>\n",
       "      <td>0</td>\n",
       "      <td>0.0</td>\n",
       "      <td>1.0</td>\n",
       "      <td>14.422496</td>\n",
       "      <td>0.000000</td>\n",
       "      <td>4.041240</td>\n",
       "      <td>8.0</td>\n",
       "      <td>1.0</td>\n",
       "      <td>2.0</td>\n",
       "      <td>1.0</td>\n",
       "    </tr>\n",
       "    <tr>\n",
       "      <th>3</th>\n",
       "      <td>1.0</td>\n",
       "      <td>1.0</td>\n",
       "      <td>0</td>\n",
       "      <td>1.0</td>\n",
       "      <td>0.0</td>\n",
       "      <td>13.720654</td>\n",
       "      <td>13.310098</td>\n",
       "      <td>4.932424</td>\n",
       "      <td>8.0</td>\n",
       "      <td>1.0</td>\n",
       "      <td>2.0</td>\n",
       "      <td>1.0</td>\n",
       "    </tr>\n",
       "    <tr>\n",
       "      <th>4</th>\n",
       "      <td>1.0</td>\n",
       "      <td>0.0</td>\n",
       "      <td>0</td>\n",
       "      <td>0.0</td>\n",
       "      <td>0.0</td>\n",
       "      <td>18.171206</td>\n",
       "      <td>0.000000</td>\n",
       "      <td>5.204828</td>\n",
       "      <td>8.0</td>\n",
       "      <td>1.0</td>\n",
       "      <td>2.0</td>\n",
       "      <td>1.0</td>\n",
       "    </tr>\n",
       "  </tbody>\n",
       "</table>\n",
       "</div>"
      ],
      "text/plain": [
       "   Gender  Married Dependents  Education  Self_Employed  ApplicantIncome  \\\n",
       "0     1.0      0.0          0        0.0            0.0        18.017473   \n",
       "1     1.0      1.0          1        0.0            0.0        16.610522   \n",
       "2     1.0      1.0          0        0.0            1.0        14.422496   \n",
       "3     1.0      1.0          0        1.0            0.0        13.720654   \n",
       "4     1.0      0.0          0        0.0            0.0        18.171206   \n",
       "\n",
       "   CoapplicantIncome  LoanAmount  Loan_Amount_Term  Credit_History  \\\n",
       "0           0.000000    5.039684               8.0             1.0   \n",
       "1          11.467457    5.039684               8.0             1.0   \n",
       "2           0.000000    4.041240               8.0             1.0   \n",
       "3          13.310098    4.932424               8.0             1.0   \n",
       "4           0.000000    5.204828               8.0             1.0   \n",
       "\n",
       "   Property_Area  Loan_Status  \n",
       "0            2.0          1.0  \n",
       "1            0.0          0.0  \n",
       "2            2.0          1.0  \n",
       "3            2.0          1.0  \n",
       "4            2.0          1.0  "
      ]
     },
     "execution_count": 48,
     "metadata": {},
     "output_type": "execute_result"
    }
   ],
   "source": [
    "dfn.head(5)"
   ]
  },
  {
   "cell_type": "code",
   "execution_count": 42,
   "id": "e753fc19",
   "metadata": {},
   "outputs": [],
   "source": [
    "from sklearn.preprocessing import OrdinalEncoder\n",
    "OE=OrdinalEncoder()\n",
    "OE.fit(dfn[['Gender','Married','Education','Self_Employed','Property_Area','Loan_Status','Loan_Amount_Term']])\n",
    "dfn[['Gender','Married','Education','Self_Employed','Property_Area','Loan_Status','Loan_Amount_Term']] = OE.transform(dfn[['Gender','Married','Education','Self_Employed','Property_Area','Loan_Status','Loan_Amount_Term']])"
   ]
  },
  {
   "cell_type": "code",
   "execution_count": 43,
   "id": "fc0458c6",
   "metadata": {},
   "outputs": [
    {
     "data": {
      "text/html": [
       "<div>\n",
       "<style scoped>\n",
       "    .dataframe tbody tr th:only-of-type {\n",
       "        vertical-align: middle;\n",
       "    }\n",
       "\n",
       "    .dataframe tbody tr th {\n",
       "        vertical-align: top;\n",
       "    }\n",
       "\n",
       "    .dataframe thead th {\n",
       "        text-align: right;\n",
       "    }\n",
       "</style>\n",
       "<table border=\"1\" class=\"dataframe\">\n",
       "  <thead>\n",
       "    <tr style=\"text-align: right;\">\n",
       "      <th></th>\n",
       "      <th>Gender</th>\n",
       "      <th>Married</th>\n",
       "      <th>Dependents</th>\n",
       "      <th>Education</th>\n",
       "      <th>Self_Employed</th>\n",
       "      <th>ApplicantIncome</th>\n",
       "      <th>CoapplicantIncome</th>\n",
       "      <th>LoanAmount</th>\n",
       "      <th>Loan_Amount_Term</th>\n",
       "      <th>Credit_History</th>\n",
       "      <th>Property_Area</th>\n",
       "      <th>Loan_Status</th>\n",
       "    </tr>\n",
       "  </thead>\n",
       "  <tbody>\n",
       "    <tr>\n",
       "      <th>0</th>\n",
       "      <td>1.0</td>\n",
       "      <td>0.0</td>\n",
       "      <td>0</td>\n",
       "      <td>0.0</td>\n",
       "      <td>0.0</td>\n",
       "      <td>18.017473</td>\n",
       "      <td>0.000000</td>\n",
       "      <td>5.039684</td>\n",
       "      <td>8.0</td>\n",
       "      <td>1.0</td>\n",
       "      <td>2.0</td>\n",
       "      <td>1.0</td>\n",
       "    </tr>\n",
       "    <tr>\n",
       "      <th>1</th>\n",
       "      <td>1.0</td>\n",
       "      <td>1.0</td>\n",
       "      <td>1</td>\n",
       "      <td>0.0</td>\n",
       "      <td>0.0</td>\n",
       "      <td>16.610522</td>\n",
       "      <td>11.467457</td>\n",
       "      <td>5.039684</td>\n",
       "      <td>8.0</td>\n",
       "      <td>1.0</td>\n",
       "      <td>0.0</td>\n",
       "      <td>0.0</td>\n",
       "    </tr>\n",
       "    <tr>\n",
       "      <th>2</th>\n",
       "      <td>1.0</td>\n",
       "      <td>1.0</td>\n",
       "      <td>0</td>\n",
       "      <td>0.0</td>\n",
       "      <td>1.0</td>\n",
       "      <td>14.422496</td>\n",
       "      <td>0.000000</td>\n",
       "      <td>4.041240</td>\n",
       "      <td>8.0</td>\n",
       "      <td>1.0</td>\n",
       "      <td>2.0</td>\n",
       "      <td>1.0</td>\n",
       "    </tr>\n",
       "    <tr>\n",
       "      <th>3</th>\n",
       "      <td>1.0</td>\n",
       "      <td>1.0</td>\n",
       "      <td>0</td>\n",
       "      <td>1.0</td>\n",
       "      <td>0.0</td>\n",
       "      <td>13.720654</td>\n",
       "      <td>13.310098</td>\n",
       "      <td>4.932424</td>\n",
       "      <td>8.0</td>\n",
       "      <td>1.0</td>\n",
       "      <td>2.0</td>\n",
       "      <td>1.0</td>\n",
       "    </tr>\n",
       "    <tr>\n",
       "      <th>4</th>\n",
       "      <td>1.0</td>\n",
       "      <td>0.0</td>\n",
       "      <td>0</td>\n",
       "      <td>0.0</td>\n",
       "      <td>0.0</td>\n",
       "      <td>18.171206</td>\n",
       "      <td>0.000000</td>\n",
       "      <td>5.204828</td>\n",
       "      <td>8.0</td>\n",
       "      <td>1.0</td>\n",
       "      <td>2.0</td>\n",
       "      <td>1.0</td>\n",
       "    </tr>\n",
       "    <tr>\n",
       "      <th>...</th>\n",
       "      <td>...</td>\n",
       "      <td>...</td>\n",
       "      <td>...</td>\n",
       "      <td>...</td>\n",
       "      <td>...</td>\n",
       "      <td>...</td>\n",
       "      <td>...</td>\n",
       "      <td>...</td>\n",
       "      <td>...</td>\n",
       "      <td>...</td>\n",
       "      <td>...</td>\n",
       "      <td>...</td>\n",
       "    </tr>\n",
       "    <tr>\n",
       "      <th>609</th>\n",
       "      <td>0.0</td>\n",
       "      <td>0.0</td>\n",
       "      <td>0</td>\n",
       "      <td>0.0</td>\n",
       "      <td>0.0</td>\n",
       "      <td>14.260431</td>\n",
       "      <td>0.000000</td>\n",
       "      <td>4.140818</td>\n",
       "      <td>8.0</td>\n",
       "      <td>1.0</td>\n",
       "      <td>0.0</td>\n",
       "      <td>1.0</td>\n",
       "    </tr>\n",
       "    <tr>\n",
       "      <th>610</th>\n",
       "      <td>1.0</td>\n",
       "      <td>1.0</td>\n",
       "      <td>4</td>\n",
       "      <td>0.0</td>\n",
       "      <td>0.0</td>\n",
       "      <td>16.013010</td>\n",
       "      <td>0.000000</td>\n",
       "      <td>3.419952</td>\n",
       "      <td>5.0</td>\n",
       "      <td>1.0</td>\n",
       "      <td>0.0</td>\n",
       "      <td>1.0</td>\n",
       "    </tr>\n",
       "    <tr>\n",
       "      <th>611</th>\n",
       "      <td>1.0</td>\n",
       "      <td>1.0</td>\n",
       "      <td>1</td>\n",
       "      <td>0.0</td>\n",
       "      <td>0.0</td>\n",
       "      <td>20.059821</td>\n",
       "      <td>6.214465</td>\n",
       "      <td>6.324704</td>\n",
       "      <td>8.0</td>\n",
       "      <td>1.0</td>\n",
       "      <td>2.0</td>\n",
       "      <td>1.0</td>\n",
       "    </tr>\n",
       "    <tr>\n",
       "      <th>612</th>\n",
       "      <td>1.0</td>\n",
       "      <td>1.0</td>\n",
       "      <td>2</td>\n",
       "      <td>0.0</td>\n",
       "      <td>0.0</td>\n",
       "      <td>19.646281</td>\n",
       "      <td>0.000000</td>\n",
       "      <td>5.718479</td>\n",
       "      <td>8.0</td>\n",
       "      <td>1.0</td>\n",
       "      <td>2.0</td>\n",
       "      <td>1.0</td>\n",
       "    </tr>\n",
       "    <tr>\n",
       "      <th>613</th>\n",
       "      <td>0.0</td>\n",
       "      <td>0.0</td>\n",
       "      <td>0</td>\n",
       "      <td>0.0</td>\n",
       "      <td>1.0</td>\n",
       "      <td>16.610522</td>\n",
       "      <td>0.000000</td>\n",
       "      <td>5.104469</td>\n",
       "      <td>8.0</td>\n",
       "      <td>0.0</td>\n",
       "      <td>1.0</td>\n",
       "      <td>0.0</td>\n",
       "    </tr>\n",
       "  </tbody>\n",
       "</table>\n",
       "<p>589 rows × 12 columns</p>\n",
       "</div>"
      ],
      "text/plain": [
       "     Gender  Married Dependents  Education  Self_Employed  ApplicantIncome  \\\n",
       "0       1.0      0.0          0        0.0            0.0        18.017473   \n",
       "1       1.0      1.0          1        0.0            0.0        16.610522   \n",
       "2       1.0      1.0          0        0.0            1.0        14.422496   \n",
       "3       1.0      1.0          0        1.0            0.0        13.720654   \n",
       "4       1.0      0.0          0        0.0            0.0        18.171206   \n",
       "..      ...      ...        ...        ...            ...              ...   \n",
       "609     0.0      0.0          0        0.0            0.0        14.260431   \n",
       "610     1.0      1.0          4        0.0            0.0        16.013010   \n",
       "611     1.0      1.0          1        0.0            0.0        20.059821   \n",
       "612     1.0      1.0          2        0.0            0.0        19.646281   \n",
       "613     0.0      0.0          0        0.0            1.0        16.610522   \n",
       "\n",
       "     CoapplicantIncome  LoanAmount  Loan_Amount_Term  Credit_History  \\\n",
       "0             0.000000    5.039684               8.0             1.0   \n",
       "1            11.467457    5.039684               8.0             1.0   \n",
       "2             0.000000    4.041240               8.0             1.0   \n",
       "3            13.310098    4.932424               8.0             1.0   \n",
       "4             0.000000    5.204828               8.0             1.0   \n",
       "..                 ...         ...               ...             ...   \n",
       "609           0.000000    4.140818               8.0             1.0   \n",
       "610           0.000000    3.419952               5.0             1.0   \n",
       "611           6.214465    6.324704               8.0             1.0   \n",
       "612           0.000000    5.718479               8.0             1.0   \n",
       "613           0.000000    5.104469               8.0             0.0   \n",
       "\n",
       "     Property_Area  Loan_Status  \n",
       "0              2.0          1.0  \n",
       "1              0.0          0.0  \n",
       "2              2.0          1.0  \n",
       "3              2.0          1.0  \n",
       "4              2.0          1.0  \n",
       "..             ...          ...  \n",
       "609            0.0          1.0  \n",
       "610            0.0          1.0  \n",
       "611            2.0          1.0  \n",
       "612            2.0          1.0  \n",
       "613            1.0          0.0  \n",
       "\n",
       "[589 rows x 12 columns]"
      ]
     },
     "execution_count": 43,
     "metadata": {},
     "output_type": "execute_result"
    }
   ],
   "source": [
    "dfn"
   ]
  },
  {
   "cell_type": "markdown",
   "id": "2d314867",
   "metadata": {},
   "source": [
    "### 21) Correlation between target and independent variable"
   ]
  },
  {
   "cell_type": "code",
   "execution_count": 44,
   "id": "8b847ef9",
   "metadata": {},
   "outputs": [
    {
     "data": {
      "text/html": [
       "<div>\n",
       "<style scoped>\n",
       "    .dataframe tbody tr th:only-of-type {\n",
       "        vertical-align: middle;\n",
       "    }\n",
       "\n",
       "    .dataframe tbody tr th {\n",
       "        vertical-align: top;\n",
       "    }\n",
       "\n",
       "    .dataframe thead th {\n",
       "        text-align: right;\n",
       "    }\n",
       "</style>\n",
       "<table border=\"1\" class=\"dataframe\">\n",
       "  <thead>\n",
       "    <tr style=\"text-align: right;\">\n",
       "      <th></th>\n",
       "      <th>Gender</th>\n",
       "      <th>Married</th>\n",
       "      <th>Education</th>\n",
       "      <th>Self_Employed</th>\n",
       "      <th>ApplicantIncome</th>\n",
       "      <th>CoapplicantIncome</th>\n",
       "      <th>LoanAmount</th>\n",
       "      <th>Loan_Amount_Term</th>\n",
       "      <th>Credit_History</th>\n",
       "      <th>Property_Area</th>\n",
       "      <th>Loan_Status</th>\n",
       "    </tr>\n",
       "  </thead>\n",
       "  <tbody>\n",
       "    <tr>\n",
       "      <th>Gender</th>\n",
       "      <td>1.000000</td>\n",
       "      <td>0.374745</td>\n",
       "      <td>0.050036</td>\n",
       "      <td>0.000841</td>\n",
       "      <td>0.049853</td>\n",
       "      <td>0.227755</td>\n",
       "      <td>0.157790</td>\n",
       "      <td>-0.075033</td>\n",
       "      <td>0.013432</td>\n",
       "      <td>-0.022807</td>\n",
       "      <td>0.021942</td>\n",
       "    </tr>\n",
       "    <tr>\n",
       "      <th>Married</th>\n",
       "      <td>0.374745</td>\n",
       "      <td>1.000000</td>\n",
       "      <td>0.015846</td>\n",
       "      <td>-0.004453</td>\n",
       "      <td>-0.015922</td>\n",
       "      <td>0.317668</td>\n",
       "      <td>0.173755</td>\n",
       "      <td>-0.083875</td>\n",
       "      <td>0.019377</td>\n",
       "      <td>0.010586</td>\n",
       "      <td>0.095124</td>\n",
       "    </tr>\n",
       "    <tr>\n",
       "      <th>Education</th>\n",
       "      <td>0.050036</td>\n",
       "      <td>0.015846</td>\n",
       "      <td>1.000000</td>\n",
       "      <td>-0.003507</td>\n",
       "      <td>-0.171899</td>\n",
       "      <td>0.018375</td>\n",
       "      <td>-0.131363</td>\n",
       "      <td>-0.078794</td>\n",
       "      <td>-0.073799</td>\n",
       "      <td>-0.065623</td>\n",
       "      <td>-0.092852</td>\n",
       "    </tr>\n",
       "    <tr>\n",
       "      <th>Self_Employed</th>\n",
       "      <td>0.000841</td>\n",
       "      <td>-0.004453</td>\n",
       "      <td>-0.003507</td>\n",
       "      <td>1.000000</td>\n",
       "      <td>0.233733</td>\n",
       "      <td>-0.091531</td>\n",
       "      <td>0.104299</td>\n",
       "      <td>-0.044806</td>\n",
       "      <td>-0.012954</td>\n",
       "      <td>-0.030248</td>\n",
       "      <td>-0.016617</td>\n",
       "    </tr>\n",
       "    <tr>\n",
       "      <th>ApplicantIncome</th>\n",
       "      <td>0.049853</td>\n",
       "      <td>-0.015922</td>\n",
       "      <td>-0.171899</td>\n",
       "      <td>0.233733</td>\n",
       "      <td>1.000000</td>\n",
       "      <td>-0.341794</td>\n",
       "      <td>0.439824</td>\n",
       "      <td>-0.021341</td>\n",
       "      <td>0.031484</td>\n",
       "      <td>-0.016615</td>\n",
       "      <td>-0.005229</td>\n",
       "    </tr>\n",
       "    <tr>\n",
       "      <th>CoapplicantIncome</th>\n",
       "      <td>0.227755</td>\n",
       "      <td>0.317668</td>\n",
       "      <td>0.018375</td>\n",
       "      <td>-0.091531</td>\n",
       "      <td>-0.341794</td>\n",
       "      <td>1.000000</td>\n",
       "      <td>0.233672</td>\n",
       "      <td>0.006278</td>\n",
       "      <td>0.000178</td>\n",
       "      <td>-0.075864</td>\n",
       "      <td>0.072285</td>\n",
       "    </tr>\n",
       "    <tr>\n",
       "      <th>LoanAmount</th>\n",
       "      <td>0.157790</td>\n",
       "      <td>0.173755</td>\n",
       "      <td>-0.131363</td>\n",
       "      <td>0.104299</td>\n",
       "      <td>0.439824</td>\n",
       "      <td>0.233672</td>\n",
       "      <td>1.000000</td>\n",
       "      <td>0.100482</td>\n",
       "      <td>-0.010308</td>\n",
       "      <td>-0.103993</td>\n",
       "      <td>-0.034451</td>\n",
       "    </tr>\n",
       "    <tr>\n",
       "      <th>Loan_Amount_Term</th>\n",
       "      <td>-0.075033</td>\n",
       "      <td>-0.083875</td>\n",
       "      <td>-0.078794</td>\n",
       "      <td>-0.044806</td>\n",
       "      <td>-0.021341</td>\n",
       "      <td>0.006278</td>\n",
       "      <td>0.100482</td>\n",
       "      <td>1.000000</td>\n",
       "      <td>-0.010687</td>\n",
       "      <td>-0.079469</td>\n",
       "      <td>-0.004145</td>\n",
       "    </tr>\n",
       "    <tr>\n",
       "      <th>Credit_History</th>\n",
       "      <td>0.013432</td>\n",
       "      <td>0.019377</td>\n",
       "      <td>-0.073799</td>\n",
       "      <td>-0.012954</td>\n",
       "      <td>0.031484</td>\n",
       "      <td>0.000178</td>\n",
       "      <td>-0.010308</td>\n",
       "      <td>-0.010687</td>\n",
       "      <td>1.000000</td>\n",
       "      <td>-0.005694</td>\n",
       "      <td>0.555908</td>\n",
       "    </tr>\n",
       "    <tr>\n",
       "      <th>Property_Area</th>\n",
       "      <td>-0.022807</td>\n",
       "      <td>0.010586</td>\n",
       "      <td>-0.065623</td>\n",
       "      <td>-0.030248</td>\n",
       "      <td>-0.016615</td>\n",
       "      <td>-0.075864</td>\n",
       "      <td>-0.103993</td>\n",
       "      <td>-0.079469</td>\n",
       "      <td>-0.005694</td>\n",
       "      <td>1.000000</td>\n",
       "      <td>0.034894</td>\n",
       "    </tr>\n",
       "    <tr>\n",
       "      <th>Loan_Status</th>\n",
       "      <td>0.021942</td>\n",
       "      <td>0.095124</td>\n",
       "      <td>-0.092852</td>\n",
       "      <td>-0.016617</td>\n",
       "      <td>-0.005229</td>\n",
       "      <td>0.072285</td>\n",
       "      <td>-0.034451</td>\n",
       "      <td>-0.004145</td>\n",
       "      <td>0.555908</td>\n",
       "      <td>0.034894</td>\n",
       "      <td>1.000000</td>\n",
       "    </tr>\n",
       "  </tbody>\n",
       "</table>\n",
       "</div>"
      ],
      "text/plain": [
       "                     Gender   Married  Education  Self_Employed  \\\n",
       "Gender             1.000000  0.374745   0.050036       0.000841   \n",
       "Married            0.374745  1.000000   0.015846      -0.004453   \n",
       "Education          0.050036  0.015846   1.000000      -0.003507   \n",
       "Self_Employed      0.000841 -0.004453  -0.003507       1.000000   \n",
       "ApplicantIncome    0.049853 -0.015922  -0.171899       0.233733   \n",
       "CoapplicantIncome  0.227755  0.317668   0.018375      -0.091531   \n",
       "LoanAmount         0.157790  0.173755  -0.131363       0.104299   \n",
       "Loan_Amount_Term  -0.075033 -0.083875  -0.078794      -0.044806   \n",
       "Credit_History     0.013432  0.019377  -0.073799      -0.012954   \n",
       "Property_Area     -0.022807  0.010586  -0.065623      -0.030248   \n",
       "Loan_Status        0.021942  0.095124  -0.092852      -0.016617   \n",
       "\n",
       "                   ApplicantIncome  CoapplicantIncome  LoanAmount  \\\n",
       "Gender                    0.049853           0.227755    0.157790   \n",
       "Married                  -0.015922           0.317668    0.173755   \n",
       "Education                -0.171899           0.018375   -0.131363   \n",
       "Self_Employed             0.233733          -0.091531    0.104299   \n",
       "ApplicantIncome           1.000000          -0.341794    0.439824   \n",
       "CoapplicantIncome        -0.341794           1.000000    0.233672   \n",
       "LoanAmount                0.439824           0.233672    1.000000   \n",
       "Loan_Amount_Term         -0.021341           0.006278    0.100482   \n",
       "Credit_History            0.031484           0.000178   -0.010308   \n",
       "Property_Area            -0.016615          -0.075864   -0.103993   \n",
       "Loan_Status              -0.005229           0.072285   -0.034451   \n",
       "\n",
       "                   Loan_Amount_Term  Credit_History  Property_Area  \\\n",
       "Gender                    -0.075033        0.013432      -0.022807   \n",
       "Married                   -0.083875        0.019377       0.010586   \n",
       "Education                 -0.078794       -0.073799      -0.065623   \n",
       "Self_Employed             -0.044806       -0.012954      -0.030248   \n",
       "ApplicantIncome           -0.021341        0.031484      -0.016615   \n",
       "CoapplicantIncome          0.006278        0.000178      -0.075864   \n",
       "LoanAmount                 0.100482       -0.010308      -0.103993   \n",
       "Loan_Amount_Term           1.000000       -0.010687      -0.079469   \n",
       "Credit_History            -0.010687        1.000000      -0.005694   \n",
       "Property_Area             -0.079469       -0.005694       1.000000   \n",
       "Loan_Status               -0.004145        0.555908       0.034894   \n",
       "\n",
       "                   Loan_Status  \n",
       "Gender                0.021942  \n",
       "Married               0.095124  \n",
       "Education            -0.092852  \n",
       "Self_Employed        -0.016617  \n",
       "ApplicantIncome      -0.005229  \n",
       "CoapplicantIncome     0.072285  \n",
       "LoanAmount           -0.034451  \n",
       "Loan_Amount_Term     -0.004145  \n",
       "Credit_History        0.555908  \n",
       "Property_Area         0.034894  \n",
       "Loan_Status           1.000000  "
      ]
     },
     "execution_count": 44,
     "metadata": {},
     "output_type": "execute_result"
    }
   ],
   "source": [
    "cor=dfn.corr()\n",
    "cor"
   ]
  },
  {
   "cell_type": "code",
   "execution_count": 45,
   "id": "f2115133",
   "metadata": {},
   "outputs": [
    {
     "data": {
      "image/png": "[encoded data removed]",
      "text/plain": [
       "<Figure size 864x648 with 2 Axes>"
      ]
     },
     "metadata": {
      "needs_background": "light"
     },
     "output_type": "display_data"
    }
   ],
   "source": [
    "plt.figure(figsize=(12,9))\n",
    "sns.heatmap(dfn.corr(),linewidth=0.1,fmt='.1g',linecolor = 'grey',annot=True,cmap='Blues_r')\n",
    "plt.yticks(rotation =0)\n",
    "plt.show()"
   ]
  },
  {
   "cell_type": "markdown",
   "id": "4ef8fa2e",
   "metadata": {},
   "source": [
    "### 22) Separating Feature and Variable"
   ]
  },
  {
   "cell_type": "code",
   "execution_count": 46,
   "id": "345112cf",
   "metadata": {},
   "outputs": [],
   "source": [
    "x = dfn.drop('Loan_Status',axis=1)\n",
    "y = dfn['Loan_Status']"
   ]
  },
  {
   "cell_type": "code",
   "execution_count": 47,
   "id": "3424a9e2",
   "metadata": {},
   "outputs": [
    {
     "data": {
      "text/plain": [
       "0      1.0\n",
       "1      0.0\n",
       "2      1.0\n",
       "3      1.0\n",
       "4      1.0\n",
       "      ... \n",
       "609    1.0\n",
       "610    1.0\n",
       "611    1.0\n",
       "612    1.0\n",
       "613    0.0\n",
       "Name: Loan_Status, Length: 589, dtype: float64"
      ]
     },
     "execution_count": 47,
     "metadata": {},
     "output_type": "execute_result"
    }
   ],
   "source": [
    "y"
   ]
  },
  {
   "cell_type": "markdown",
   "id": "0a01ec7f",
   "metadata": {},
   "source": [
    "### 23) Scaling Using Standard Scaler"
   ]
  },
  {
   "cell_type": "code",
   "execution_count": 49,
   "id": "173e779e",
   "metadata": {},
   "outputs": [
    {
     "data": {
      "text/html": [
       "<div>\n",
       "<style scoped>\n",
       "    .dataframe tbody tr th:only-of-type {\n",
       "        vertical-align: middle;\n",
       "    }\n",
       "\n",
       "    .dataframe tbody tr th {\n",
       "        vertical-align: top;\n",
       "    }\n",
       "\n",
       "    .dataframe thead th {\n",
       "        text-align: right;\n",
       "    }\n",
       "</style>\n",
       "<table border=\"1\" class=\"dataframe\">\n",
       "  <thead>\n",
       "    <tr style=\"text-align: right;\">\n",
       "      <th></th>\n",
       "      <th>Gender</th>\n",
       "      <th>Married</th>\n",
       "      <th>Dependents</th>\n",
       "      <th>Education</th>\n",
       "      <th>Self_Employed</th>\n",
       "      <th>ApplicantIncome</th>\n",
       "      <th>CoapplicantIncome</th>\n",
       "      <th>LoanAmount</th>\n",
       "      <th>Loan_Amount_Term</th>\n",
       "      <th>Credit_History</th>\n",
       "      <th>Property_Area</th>\n",
       "    </tr>\n",
       "  </thead>\n",
       "  <tbody>\n",
       "    <tr>\n",
       "      <th>0</th>\n",
       "      <td>0.476533</td>\n",
       "      <td>-1.363533</td>\n",
       "      <td>-0.675163</td>\n",
       "      <td>-0.542684</td>\n",
       "      <td>-0.384900</td>\n",
       "      <td>0.630834</td>\n",
       "      <td>-1.089890</td>\n",
       "      <td>0.016378</td>\n",
       "      <td>0.297701</td>\n",
       "      <td>0.413490</td>\n",
       "      <td>1.222929</td>\n",
       "    </tr>\n",
       "    <tr>\n",
       "      <th>1</th>\n",
       "      <td>0.476533</td>\n",
       "      <td>0.733389</td>\n",
       "      <td>0.167360</td>\n",
       "      <td>-0.542684</td>\n",
       "      <td>-0.384900</td>\n",
       "      <td>0.162794</td>\n",
       "      <td>0.600453</td>\n",
       "      <td>0.016378</td>\n",
       "      <td>0.297701</td>\n",
       "      <td>0.413490</td>\n",
       "      <td>-1.313356</td>\n",
       "    </tr>\n",
       "    <tr>\n",
       "      <th>2</th>\n",
       "      <td>0.476533</td>\n",
       "      <td>0.733389</td>\n",
       "      <td>-0.675163</td>\n",
       "      <td>-0.542684</td>\n",
       "      <td>2.598076</td>\n",
       "      <td>-0.565081</td>\n",
       "      <td>-1.089890</td>\n",
       "      <td>-1.393184</td>\n",
       "      <td>0.297701</td>\n",
       "      <td>0.413490</td>\n",
       "      <td>1.222929</td>\n",
       "    </tr>\n",
       "    <tr>\n",
       "      <th>3</th>\n",
       "      <td>0.476533</td>\n",
       "      <td>0.733389</td>\n",
       "      <td>-0.675163</td>\n",
       "      <td>1.842694</td>\n",
       "      <td>-0.384900</td>\n",
       "      <td>-0.798557</td>\n",
       "      <td>0.872065</td>\n",
       "      <td>-0.135047</td>\n",
       "      <td>0.297701</td>\n",
       "      <td>0.413490</td>\n",
       "      <td>1.222929</td>\n",
       "    </tr>\n",
       "    <tr>\n",
       "      <th>4</th>\n",
       "      <td>0.476533</td>\n",
       "      <td>-1.363533</td>\n",
       "      <td>-0.675163</td>\n",
       "      <td>-0.542684</td>\n",
       "      <td>-0.384900</td>\n",
       "      <td>0.681975</td>\n",
       "      <td>-1.089890</td>\n",
       "      <td>0.249521</td>\n",
       "      <td>0.297701</td>\n",
       "      <td>0.413490</td>\n",
       "      <td>1.222929</td>\n",
       "    </tr>\n",
       "    <tr>\n",
       "      <th>...</th>\n",
       "      <td>...</td>\n",
       "      <td>...</td>\n",
       "      <td>...</td>\n",
       "      <td>...</td>\n",
       "      <td>...</td>\n",
       "      <td>...</td>\n",
       "      <td>...</td>\n",
       "      <td>...</td>\n",
       "      <td>...</td>\n",
       "      <td>...</td>\n",
       "      <td>...</td>\n",
       "    </tr>\n",
       "    <tr>\n",
       "      <th>584</th>\n",
       "      <td>-2.098492</td>\n",
       "      <td>-1.363533</td>\n",
       "      <td>-0.675163</td>\n",
       "      <td>-0.542684</td>\n",
       "      <td>-0.384900</td>\n",
       "      <td>-0.618993</td>\n",
       "      <td>-1.089890</td>\n",
       "      <td>-1.252605</td>\n",
       "      <td>0.297701</td>\n",
       "      <td>0.413490</td>\n",
       "      <td>-1.313356</td>\n",
       "    </tr>\n",
       "    <tr>\n",
       "      <th>585</th>\n",
       "      <td>0.476533</td>\n",
       "      <td>0.733389</td>\n",
       "      <td>2.694929</td>\n",
       "      <td>-0.542684</td>\n",
       "      <td>-0.384900</td>\n",
       "      <td>-0.035976</td>\n",
       "      <td>-1.089890</td>\n",
       "      <td>-2.270293</td>\n",
       "      <td>-2.399924</td>\n",
       "      <td>0.413490</td>\n",
       "      <td>-1.313356</td>\n",
       "    </tr>\n",
       "    <tr>\n",
       "      <th>586</th>\n",
       "      <td>0.476533</td>\n",
       "      <td>0.733389</td>\n",
       "      <td>0.167360</td>\n",
       "      <td>-0.542684</td>\n",
       "      <td>-0.384900</td>\n",
       "      <td>1.310247</td>\n",
       "      <td>-0.173856</td>\n",
       "      <td>1.830515</td>\n",
       "      <td>0.297701</td>\n",
       "      <td>0.413490</td>\n",
       "      <td>1.222929</td>\n",
       "    </tr>\n",
       "    <tr>\n",
       "      <th>587</th>\n",
       "      <td>0.476533</td>\n",
       "      <td>0.733389</td>\n",
       "      <td>1.009883</td>\n",
       "      <td>-0.542684</td>\n",
       "      <td>-0.384900</td>\n",
       "      <td>1.172677</td>\n",
       "      <td>-1.089890</td>\n",
       "      <td>0.974672</td>\n",
       "      <td>0.297701</td>\n",
       "      <td>0.413490</td>\n",
       "      <td>1.222929</td>\n",
       "    </tr>\n",
       "    <tr>\n",
       "      <th>588</th>\n",
       "      <td>-2.098492</td>\n",
       "      <td>-1.363533</td>\n",
       "      <td>-0.675163</td>\n",
       "      <td>-0.542684</td>\n",
       "      <td>2.598076</td>\n",
       "      <td>0.162794</td>\n",
       "      <td>-1.089890</td>\n",
       "      <td>0.107838</td>\n",
       "      <td>0.297701</td>\n",
       "      <td>-2.418437</td>\n",
       "      <td>-0.045214</td>\n",
       "    </tr>\n",
       "  </tbody>\n",
       "</table>\n",
       "<p>589 rows × 11 columns</p>\n",
       "</div>"
      ],
      "text/plain": [
       "       Gender   Married  Dependents  Education  Self_Employed  \\\n",
       "0    0.476533 -1.363533   -0.675163  -0.542684      -0.384900   \n",
       "1    0.476533  0.733389    0.167360  -0.542684      -0.384900   \n",
       "2    0.476533  0.733389   -0.675163  -0.542684       2.598076   \n",
       "3    0.476533  0.733389   -0.675163   1.842694      -0.384900   \n",
       "4    0.476533 -1.363533   -0.675163  -0.542684      -0.384900   \n",
       "..        ...       ...         ...        ...            ...   \n",
       "584 -2.098492 -1.363533   -0.675163  -0.542684      -0.384900   \n",
       "585  0.476533  0.733389    2.694929  -0.542684      -0.384900   \n",
       "586  0.476533  0.733389    0.167360  -0.542684      -0.384900   \n",
       "587  0.476533  0.733389    1.009883  -0.542684      -0.384900   \n",
       "588 -2.098492 -1.363533   -0.675163  -0.542684       2.598076   \n",
       "\n",
       "     ApplicantIncome  CoapplicantIncome  LoanAmount  Loan_Amount_Term  \\\n",
       "0           0.630834          -1.089890    0.016378          0.297701   \n",
       "1           0.162794           0.600453    0.016378          0.297701   \n",
       "2          -0.565081          -1.089890   -1.393184          0.297701   \n",
       "3          -0.798557           0.872065   -0.135047          0.297701   \n",
       "4           0.681975          -1.089890    0.249521          0.297701   \n",
       "..               ...                ...         ...               ...   \n",
       "584        -0.618993          -1.089890   -1.252605          0.297701   \n",
       "585        -0.035976          -1.089890   -2.270293         -2.399924   \n",
       "586         1.310247          -0.173856    1.830515          0.297701   \n",
       "587         1.172677          -1.089890    0.974672          0.297701   \n",
       "588         0.162794          -1.089890    0.107838          0.297701   \n",
       "\n",
       "     Credit_History  Property_Area  \n",
       "0          0.413490       1.222929  \n",
       "1          0.413490      -1.313356  \n",
       "2          0.413490       1.222929  \n",
       "3          0.413490       1.222929  \n",
       "4          0.413490       1.222929  \n",
       "..              ...            ...  \n",
       "584        0.413490      -1.313356  \n",
       "585        0.413490      -1.313356  \n",
       "586        0.413490       1.222929  \n",
       "587        0.413490       1.222929  \n",
       "588       -2.418437      -0.045214  \n",
       "\n",
       "[589 rows x 11 columns]"
      ]
     },
     "execution_count": 49,
     "metadata": {},
     "output_type": "execute_result"
    }
   ],
   "source": [
    "from sklearn.preprocessing import StandardScaler\n",
    "scaler = StandardScaler()\n",
    "x=pd.DataFrame(scaler.fit_transform(x),columns=x.columns)\n",
    "x"
   ]
  },
  {
   "cell_type": "markdown",
   "id": "583a2480",
   "metadata": {},
   "source": [
    "#### Scaling is done to overcome issue of biasness and bring all values on same scale"
   ]
  },
  {
   "cell_type": "markdown",
   "id": "47ac8aa9",
   "metadata": {},
   "source": [
    "### 24) Checking Variance Inflation Factor"
   ]
  },
  {
   "cell_type": "code",
   "execution_count": 50,
   "id": "8682a081",
   "metadata": {},
   "outputs": [
    {
     "data": {
      "text/html": [
       "<div>\n",
       "<style scoped>\n",
       "    .dataframe tbody tr th:only-of-type {\n",
       "        vertical-align: middle;\n",
       "    }\n",
       "\n",
       "    .dataframe tbody tr th {\n",
       "        vertical-align: top;\n",
       "    }\n",
       "\n",
       "    .dataframe thead th {\n",
       "        text-align: right;\n",
       "    }\n",
       "</style>\n",
       "<table border=\"1\" class=\"dataframe\">\n",
       "  <thead>\n",
       "    <tr style=\"text-align: right;\">\n",
       "      <th></th>\n",
       "      <th>VIF Values</th>\n",
       "      <th>Features</th>\n",
       "    </tr>\n",
       "  </thead>\n",
       "  <tbody>\n",
       "    <tr>\n",
       "      <th>0</th>\n",
       "      <td>1.212450</td>\n",
       "      <td>Gender</td>\n",
       "    </tr>\n",
       "    <tr>\n",
       "      <th>1</th>\n",
       "      <td>1.374649</td>\n",
       "      <td>Married</td>\n",
       "    </tr>\n",
       "    <tr>\n",
       "      <th>2</th>\n",
       "      <td>1.159744</td>\n",
       "      <td>Dependents</td>\n",
       "    </tr>\n",
       "    <tr>\n",
       "      <th>3</th>\n",
       "      <td>1.067374</td>\n",
       "      <td>Education</td>\n",
       "    </tr>\n",
       "    <tr>\n",
       "      <th>4</th>\n",
       "      <td>1.063279</td>\n",
       "      <td>Self_Employed</td>\n",
       "    </tr>\n",
       "    <tr>\n",
       "      <th>5</th>\n",
       "      <td>1.789131</td>\n",
       "      <td>ApplicantIncome</td>\n",
       "    </tr>\n",
       "    <tr>\n",
       "      <th>6</th>\n",
       "      <td>1.611075</td>\n",
       "      <td>CoapplicantIncome</td>\n",
       "    </tr>\n",
       "    <tr>\n",
       "      <th>7</th>\n",
       "      <td>1.629580</td>\n",
       "      <td>LoanAmount</td>\n",
       "    </tr>\n",
       "    <tr>\n",
       "      <th>8</th>\n",
       "      <td>1.049246</td>\n",
       "      <td>Loan_Amount_Term</td>\n",
       "    </tr>\n",
       "    <tr>\n",
       "      <th>9</th>\n",
       "      <td>1.009222</td>\n",
       "      <td>Credit_History</td>\n",
       "    </tr>\n",
       "    <tr>\n",
       "      <th>10</th>\n",
       "      <td>1.029153</td>\n",
       "      <td>Property_Area</td>\n",
       "    </tr>\n",
       "  </tbody>\n",
       "</table>\n",
       "</div>"
      ],
      "text/plain": [
       "    VIF Values           Features\n",
       "0     1.212450             Gender\n",
       "1     1.374649            Married\n",
       "2     1.159744         Dependents\n",
       "3     1.067374          Education\n",
       "4     1.063279      Self_Employed\n",
       "5     1.789131    ApplicantIncome\n",
       "6     1.611075  CoapplicantIncome\n",
       "7     1.629580         LoanAmount\n",
       "8     1.049246   Loan_Amount_Term\n",
       "9     1.009222     Credit_History\n",
       "10    1.029153      Property_Area"
      ]
     },
     "execution_count": 50,
     "metadata": {},
     "output_type": "execute_result"
    }
   ],
   "source": [
    "from statsmodels.stats.outliers_influence import variance_inflation_factor\n",
    "vif = pd.DataFrame()\n",
    "vif['VIF Values'] = [variance_inflation_factor(x.values,i) for i in range(len(x.columns))]\n",
    "vif['Features']=x.columns\n",
    "vif"
   ]
  },
  {
   "cell_type": "markdown",
   "id": "d0532d3e",
   "metadata": {},
   "source": [
    "#### Observation: Since VIF value is less than 10 all feature retained"
   ]
  },
  {
   "cell_type": "markdown",
   "id": "e47c2065",
   "metadata": {},
   "source": [
    "### 25) Applying oversamploing using SMOTE"
   ]
  },
  {
   "cell_type": "code",
   "execution_count": 51,
   "id": "c9cb9720",
   "metadata": {},
   "outputs": [
    {
     "data": {
      "text/plain": [
       "1.0    407\n",
       "0.0    182\n",
       "Name: Loan_Status, dtype: int64"
      ]
     },
     "execution_count": 51,
     "metadata": {},
     "output_type": "execute_result"
    }
   ],
   "source": [
    "y.value_counts()"
   ]
  },
  {
   "cell_type": "code",
   "execution_count": 52,
   "id": "1ca9a629",
   "metadata": {},
   "outputs": [],
   "source": [
    "from imblearn.over_sampling import SMOTE\n",
    "SM=SMOTE()\n",
    "x,y = SM.fit_resample(x,y)"
   ]
  },
  {
   "cell_type": "markdown",
   "id": "91c464a1",
   "metadata": {},
   "source": [
    "### 26) Modelling"
   ]
  },
  {
   "cell_type": "code",
   "execution_count": 54,
   "id": "c2e378c9",
   "metadata": {},
   "outputs": [],
   "source": [
    "from sklearn.model_selection import train_test_split\n",
    "from sklearn.ensemble import RandomForestClassifier\n",
    "from sklearn.metrics import accuracy_score\n",
    "from sklearn.ensemble import RandomForestClassifier , ExtraTreesClassifier\n",
    "from sklearn.linear_model import LogisticRegression\n",
    "from sklearn.svm import SVC\n",
    "from sklearn.ensemble import GradientBoostingClassifier , AdaBoostClassifier, BaggingClassifier\n",
    "from sklearn.metrics import classification_report , confusion_matrix, roc_curve, accuracy_score\n",
    "from sklearn.model_selection import cross_val_score"
   ]
  },
  {
   "cell_type": "code",
   "execution_count": 55,
   "id": "c188b071",
   "metadata": {},
   "outputs": [
    {
     "name": "stdout",
     "output_type": "stream",
     "text": [
      "Best acc is  0.8734693877551021 at random state  7\n"
     ]
    }
   ],
   "source": [
    "maxAcc = 0\n",
    "maxRS = 0\n",
    "for i in range(1,30):\n",
    "    x_train,x_test,y_train,y_test = train_test_split(x,y,test_size=0.30,random_state=i)\n",
    "    RFR=RandomForestClassifier()\n",
    "    RFR.fit(x_train,y_train)\n",
    "    pred=RFR.predict(x_test)\n",
    "    acc =accuracy_score(y_test,pred)\n",
    "    if acc>maxAcc:\n",
    "        maxAcc=acc\n",
    "        maxRS=i\n",
    "print(\"Best acc is \",maxAcc,\"at random state \",maxRS)"
   ]
  },
  {
   "cell_type": "markdown",
   "id": "d356d481",
   "metadata": {},
   "source": [
    "#### Observation: Accuracy 87 is best at random state 7 "
   ]
  },
  {
   "cell_type": "markdown",
   "id": "ef4e7977",
   "metadata": {},
   "source": [
    "### 27) Train Test Split"
   ]
  },
  {
   "cell_type": "code",
   "execution_count": 56,
   "id": "40af5520",
   "metadata": {},
   "outputs": [],
   "source": [
    "x_train,x_test,y_train,y_test = train_test_split(x,y,test_size=0.20,random_state=maxRS)"
   ]
  },
  {
   "cell_type": "markdown",
   "id": "0d7f382d",
   "metadata": {},
   "source": [
    "### 27a) Random Forest Classifier"
   ]
  },
  {
   "cell_type": "code",
   "execution_count": 57,
   "id": "c6243a0d",
   "metadata": {},
   "outputs": [
    {
     "name": "stdout",
     "output_type": "stream",
     "text": [
      "0.8773006134969326\n",
      "[[64 11]\n",
      " [ 9 79]]\n",
      "              precision    recall  f1-score   support\n",
      "\n",
      "         0.0       0.88      0.85      0.86        75\n",
      "         1.0       0.88      0.90      0.89        88\n",
      "\n",
      "    accuracy                           0.88       163\n",
      "   macro avg       0.88      0.88      0.88       163\n",
      "weighted avg       0.88      0.88      0.88       163\n",
      "\n"
     ]
    }
   ],
   "source": [
    "RFC = RandomForestClassifier()\n",
    "RFC.fit(x_train,y_train)\n",
    "predRFC = RFC.predict(x_test)\n",
    "print(accuracy_score(y_test,predRFC))\n",
    "print(confusion_matrix(y_test,predRFC))\n",
    "print(classification_report(y_test,predRFC))"
   ]
  },
  {
   "cell_type": "code",
   "execution_count": 58,
   "id": "abf55844",
   "metadata": {},
   "outputs": [
    {
     "name": "stdout",
     "output_type": "stream",
     "text": [
      "[0.7791411  0.79754601 0.89570552 0.87116564 0.88271605]\n",
      "0.845254866318261\n",
      "Difference betn accuracy score and CVC is:  0.03204574717867159\n"
     ]
    }
   ],
   "source": [
    "score=cross_val_score(RFC,x,y)\n",
    "print(score)\n",
    "print(score.mean())\n",
    "print(\"Difference betn accuracy score and CVC is: \", accuracy_score(y_test,predRFC)-score.mean())"
   ]
  },
  {
   "cell_type": "markdown",
   "id": "6613bfa3",
   "metadata": {},
   "source": [
    "### 27b) Logistic Regression"
   ]
  },
  {
   "cell_type": "code",
   "execution_count": 59,
   "id": "20be427f",
   "metadata": {},
   "outputs": [
    {
     "name": "stdout",
     "output_type": "stream",
     "text": [
      "0.7423312883435583\n",
      "[[44 31]\n",
      " [11 77]]\n",
      "              precision    recall  f1-score   support\n",
      "\n",
      "         0.0       0.80      0.59      0.68        75\n",
      "         1.0       0.71      0.88      0.79        88\n",
      "\n",
      "    accuracy                           0.74       163\n",
      "   macro avg       0.76      0.73      0.73       163\n",
      "weighted avg       0.75      0.74      0.74       163\n",
      "\n"
     ]
    }
   ],
   "source": [
    "LR = LogisticRegression()\n",
    "LR.fit(x_train,y_train)\n",
    "predLR = LR.predict(x_test)\n",
    "print(accuracy_score(y_test,predLR))\n",
    "print(confusion_matrix(y_test,predLR))\n",
    "print(classification_report(y_test,predLR))"
   ]
  },
  {
   "cell_type": "code",
   "execution_count": 60,
   "id": "d112cecc",
   "metadata": {},
   "outputs": [
    {
     "name": "stdout",
     "output_type": "stream",
     "text": [
      "[0.71165644 0.71779141 0.6993865  0.6993865  0.67283951]\n",
      "0.7002120730137089\n",
      "Difference betn accuracy score and CVC is:  0.04211921532984941\n"
     ]
    }
   ],
   "source": [
    "score=cross_val_score(LR,x,y)\n",
    "print(score)\n",
    "print(score.mean())\n",
    "print(\"Difference betn accuracy score and CVC is: \", accuracy_score(y_test,predLR)-score.mean())"
   ]
  },
  {
   "cell_type": "markdown",
   "id": "b66d850e",
   "metadata": {},
   "source": [
    "### 27c) Support Machine Vector Classifier"
   ]
  },
  {
   "cell_type": "code",
   "execution_count": 61,
   "id": "c39bcea1",
   "metadata": {},
   "outputs": [
    {
     "name": "stdout",
     "output_type": "stream",
     "text": [
      "0.7607361963190185\n",
      "[[46 29]\n",
      " [10 78]]\n",
      "              precision    recall  f1-score   support\n",
      "\n",
      "         0.0       0.82      0.61      0.70        75\n",
      "         1.0       0.73      0.89      0.80        88\n",
      "\n",
      "    accuracy                           0.76       163\n",
      "   macro avg       0.78      0.75      0.75       163\n",
      "weighted avg       0.77      0.76      0.76       163\n",
      "\n"
     ]
    }
   ],
   "source": [
    "svc = SVC()\n",
    "svc.fit(x_train,y_train)\n",
    "predsvc = svc.predict(x_test)\n",
    "print(accuracy_score(y_test,predsvc))\n",
    "print(confusion_matrix(y_test,predsvc))\n",
    "print(classification_report(y_test,predsvc))"
   ]
  },
  {
   "cell_type": "code",
   "execution_count": 62,
   "id": "955711d1",
   "metadata": {},
   "outputs": [
    {
     "name": "stdout",
     "output_type": "stream",
     "text": [
      "[0.74846626 0.73619632 0.74846626 0.73006135 0.71604938]\n",
      "0.7358479133530259\n",
      "Difference betn accuracy score and CVC is:  0.024888282965992548\n"
     ]
    }
   ],
   "source": [
    "score=cross_val_score(svc,x,y)\n",
    "print(score)\n",
    "print(score.mean())\n",
    "print(\"Difference betn accuracy score and CVC is: \", accuracy_score(y_test,predsvc)-score.mean())"
   ]
  },
  {
   "cell_type": "markdown",
   "id": "8832e4c5",
   "metadata": {},
   "source": [
    "### 27d) Gradient Boosting Classifier"
   ]
  },
  {
   "cell_type": "code",
   "execution_count": 63,
   "id": "4d97110b",
   "metadata": {},
   "outputs": [
    {
     "name": "stdout",
     "output_type": "stream",
     "text": [
      "0.8466257668711656\n",
      "[[58 17]\n",
      " [ 8 80]]\n",
      "              precision    recall  f1-score   support\n",
      "\n",
      "         0.0       0.88      0.77      0.82        75\n",
      "         1.0       0.82      0.91      0.86        88\n",
      "\n",
      "    accuracy                           0.85       163\n",
      "   macro avg       0.85      0.84      0.84       163\n",
      "weighted avg       0.85      0.85      0.85       163\n",
      "\n"
     ]
    }
   ],
   "source": [
    "gbc = GradientBoostingClassifier()\n",
    "gbc.fit(x_train,y_train)\n",
    "predgbc = gbc.predict(x_test)\n",
    "print(accuracy_score(y_test,predgbc))\n",
    "print(confusion_matrix(y_test,predgbc))\n",
    "print(classification_report(y_test,predgbc))"
   ]
  },
  {
   "cell_type": "code",
   "execution_count": 64,
   "id": "60992e70",
   "metadata": {},
   "outputs": [
    {
     "name": "stdout",
     "output_type": "stream",
     "text": [
      "[0.69325153 0.70552147 0.86503067 0.85276074 0.85185185]\n",
      "0.7936832538059532\n",
      "Difference betn accuracy score and CVC is:  0.05294251306521247\n"
     ]
    }
   ],
   "source": [
    "score=cross_val_score(gbc,x,y)\n",
    "print(score)\n",
    "print(score.mean())\n",
    "print(\"Difference betn accuracy score and CVC is: \", accuracy_score(y_test,predgbc)-score.mean())"
   ]
  },
  {
   "cell_type": "markdown",
   "id": "53f9e4dc",
   "metadata": {},
   "source": [
    "### 27e) Ada Boost Classifier"
   ]
  },
  {
   "cell_type": "code",
   "execution_count": 65,
   "id": "072064b7",
   "metadata": {},
   "outputs": [
    {
     "name": "stdout",
     "output_type": "stream",
     "text": [
      "0.7914110429447853\n",
      "[[55 20]\n",
      " [14 74]]\n",
      "              precision    recall  f1-score   support\n",
      "\n",
      "         0.0       0.80      0.73      0.76        75\n",
      "         1.0       0.79      0.84      0.81        88\n",
      "\n",
      "    accuracy                           0.79       163\n",
      "   macro avg       0.79      0.79      0.79       163\n",
      "weighted avg       0.79      0.79      0.79       163\n",
      "\n"
     ]
    }
   ],
   "source": [
    "abc = AdaBoostClassifier()\n",
    "abc.fit(x_train,y_train)\n",
    "predabc = abc.predict(x_test)\n",
    "print(accuracy_score(y_test,predabc))\n",
    "print(confusion_matrix(y_test,predabc))\n",
    "print(classification_report(y_test,predabc))"
   ]
  },
  {
   "cell_type": "code",
   "execution_count": 66,
   "id": "11e9f9c5",
   "metadata": {},
   "outputs": [
    {
     "name": "stdout",
     "output_type": "stream",
     "text": [
      "[0.66871166 0.72392638 0.80368098 0.7791411  0.82098765]\n",
      "0.7592895554040748\n",
      "Difference betn accuracy score and CVC is:  0.032121487540710425\n"
     ]
    }
   ],
   "source": [
    "score=cross_val_score(abc,x,y)\n",
    "print(score)\n",
    "print(score.mean())\n",
    "print(\"Difference betn accuracy score and CVC is: \", accuracy_score(y_test,predabc)-score.mean())"
   ]
  },
  {
   "cell_type": "markdown",
   "id": "3fa928dc",
   "metadata": {},
   "source": [
    "### 27f) Bagging Classifier"
   ]
  },
  {
   "cell_type": "code",
   "execution_count": 67,
   "id": "704b9ead",
   "metadata": {},
   "outputs": [
    {
     "name": "stdout",
     "output_type": "stream",
     "text": [
      "0.8282208588957055\n",
      "[[60 15]\n",
      " [13 75]]\n",
      "              precision    recall  f1-score   support\n",
      "\n",
      "         0.0       0.82      0.80      0.81        75\n",
      "         1.0       0.83      0.85      0.84        88\n",
      "\n",
      "    accuracy                           0.83       163\n",
      "   macro avg       0.83      0.83      0.83       163\n",
      "weighted avg       0.83      0.83      0.83       163\n",
      "\n"
     ]
    }
   ],
   "source": [
    "bc = BaggingClassifier()\n",
    "bc.fit(x_train,y_train)\n",
    "predbc = bc.predict(x_test)\n",
    "print(accuracy_score(y_test,predbc))\n",
    "print(confusion_matrix(y_test,predbc))\n",
    "print(classification_report(y_test,predbc))"
   ]
  },
  {
   "cell_type": "code",
   "execution_count": 68,
   "id": "ada87da6",
   "metadata": {},
   "outputs": [
    {
     "name": "stdout",
     "output_type": "stream",
     "text": [
      "[0.7607362  0.7791411  0.84662577 0.8404908  0.82098765]\n",
      "0.8095963038703324\n",
      "Difference betn accuracy score and CVC is:  0.01862455502537308\n"
     ]
    }
   ],
   "source": [
    "score=cross_val_score(bc,x,y)\n",
    "print(score)\n",
    "print(score.mean())\n",
    "print(\"Difference betn accuracy score and CVC is: \", accuracy_score(y_test,predbc)-score.mean())"
   ]
  },
  {
   "cell_type": "markdown",
   "id": "8c40f58a",
   "metadata": {},
   "source": [
    "### 27g) Extra Tree Classifier"
   ]
  },
  {
   "cell_type": "code",
   "execution_count": 69,
   "id": "c9a59463",
   "metadata": {},
   "outputs": [
    {
     "name": "stdout",
     "output_type": "stream",
     "text": [
      "0.8773006134969326\n",
      "[[66  9]\n",
      " [11 77]]\n",
      "              precision    recall  f1-score   support\n",
      "\n",
      "         0.0       0.86      0.88      0.87        75\n",
      "         1.0       0.90      0.88      0.89        88\n",
      "\n",
      "    accuracy                           0.88       163\n",
      "   macro avg       0.88      0.88      0.88       163\n",
      "weighted avg       0.88      0.88      0.88       163\n",
      "\n"
     ]
    }
   ],
   "source": [
    "etc = ExtraTreesClassifier()\n",
    "etc.fit(x_train,y_train)\n",
    "predetc = etc.predict(x_test)\n",
    "print(accuracy_score(y_test,predetc))\n",
    "print(confusion_matrix(y_test,predetc))\n",
    "print(classification_report(y_test,predetc))"
   ]
  },
  {
   "cell_type": "code",
   "execution_count": 70,
   "id": "f81c38d3",
   "metadata": {},
   "outputs": [
    {
     "name": "stdout",
     "output_type": "stream",
     "text": [
      "[0.81595092 0.79141104 0.85889571 0.88343558 0.88888889]\n",
      "0.8477164280845262\n",
      "Difference betn accuracy score and CVC is:  0.029584185412406372\n"
     ]
    }
   ],
   "source": [
    "score=cross_val_score(etc,x,y)\n",
    "print(score)\n",
    "print(score.mean())\n",
    "print(\"Difference betn accuracy score and CVC is: \", accuracy_score(y_test,predetc)-score.mean())"
   ]
  },
  {
   "cell_type": "markdown",
   "id": "5ab9b32e",
   "metadata": {},
   "source": [
    "### Observation: Considering the difference between accuracy score and CVC as .02 and accuracy 87% the best model is Extra Tree Classifier"
   ]
  },
  {
   "cell_type": "markdown",
   "id": "11e20eeb",
   "metadata": {},
   "source": [
    "### 28) Hypertunning"
   ]
  },
  {
   "cell_type": "code",
   "execution_count": 72,
   "id": "fa7065ef",
   "metadata": {},
   "outputs": [
    {
     "data": {
      "text/html": [
       "<style>#sk-container-id-1 {color: black;background-color: white;}#sk-container-id-1 pre{padding: 0;}#sk-container-id-1 div.sk-toggleable {background-color: white;}#sk-container-id-1 label.sk-toggleable__label {cursor: pointer;display: block;width: 100%;margin-bottom: 0;padding: 0.3em;box-sizing: border-box;text-align: center;}#sk-container-id-1 label.sk-toggleable__label-arrow:before {content: \"▸\";float: left;margin-right: 0.25em;color: #696969;}#sk-container-id-1 label.sk-toggleable__label-arrow:hover:before {color: black;}#sk-container-id-1 div.sk-estimator:hover label.sk-toggleable__label-arrow:before {color: black;}#sk-container-id-1 div.sk-toggleable__content {max-height: 0;max-width: 0;overflow: hidden;text-align: left;background-color: #f0f8ff;}#sk-container-id-1 div.sk-toggleable__content pre {margin: 0.2em;color: black;border-radius: 0.25em;background-color: #f0f8ff;}#sk-container-id-1 input.sk-toggleable__control:checked~div.sk-toggleable__content {max-height: 200px;max-width: 100%;overflow: auto;}#sk-container-id-1 input.sk-toggleable__control:checked~label.sk-toggleable__label-arrow:before {content: \"▾\";}#sk-container-id-1 div.sk-estimator input.sk-toggleable__control:checked~label.sk-toggleable__label {background-color: #d4ebff;}#sk-container-id-1 div.sk-label input.sk-toggleable__control:checked~label.sk-toggleable__label {background-color: #d4ebff;}#sk-container-id-1 input.sk-hidden--visually {border: 0;clip: rect(1px 1px 1px 1px);clip: rect(1px, 1px, 1px, 1px);height: 1px;margin: -1px;overflow: hidden;padding: 0;position: absolute;width: 1px;}#sk-container-id-1 div.sk-estimator {font-family: monospace;background-color: #f0f8ff;border: 1px dotted black;border-radius: 0.25em;box-sizing: border-box;margin-bottom: 0.5em;}#sk-container-id-1 div.sk-estimator:hover {background-color: #d4ebff;}#sk-container-id-1 div.sk-parallel-item::after {content: \"\";width: 100%;border-bottom: 1px solid gray;flex-grow: 1;}#sk-container-id-1 div.sk-label:hover label.sk-toggleable__label {background-color: #d4ebff;}#sk-container-id-1 div.sk-serial::before {content: \"\";position: absolute;border-left: 1px solid gray;box-sizing: border-box;top: 0;bottom: 0;left: 50%;z-index: 0;}#sk-container-id-1 div.sk-serial {display: flex;flex-direction: column;align-items: center;background-color: white;padding-right: 0.2em;padding-left: 0.2em;position: relative;}#sk-container-id-1 div.sk-item {position: relative;z-index: 1;}#sk-container-id-1 div.sk-parallel {display: flex;align-items: stretch;justify-content: center;background-color: white;position: relative;}#sk-container-id-1 div.sk-item::before, #sk-container-id-1 div.sk-parallel-item::before {content: \"\";position: absolute;border-left: 1px solid gray;box-sizing: border-box;top: 0;bottom: 0;left: 50%;z-index: -1;}#sk-container-id-1 div.sk-parallel-item {display: flex;flex-direction: column;z-index: 1;position: relative;background-color: white;}#sk-container-id-1 div.sk-parallel-item:first-child::after {align-self: flex-end;width: 50%;}#sk-container-id-1 div.sk-parallel-item:last-child::after {align-self: flex-start;width: 50%;}#sk-container-id-1 div.sk-parallel-item:only-child::after {width: 0;}#sk-container-id-1 div.sk-dashed-wrapped {border: 1px dashed gray;margin: 0 0.4em 0.5em 0.4em;box-sizing: border-box;padding-bottom: 0.4em;background-color: white;}#sk-container-id-1 div.sk-label label {font-family: monospace;font-weight: bold;display: inline-block;line-height: 1.2em;}#sk-container-id-1 div.sk-label-container {text-align: center;}#sk-container-id-1 div.sk-container {/* jupyter's `normalize.less` sets `[hidden] { display: none; }` but bootstrap.min.css set `[hidden] { display: none !important; }` so we also need the `!important` here to be able to override the default hidden behavior on the sphinx rendered scikit-learn.org. See: https://github.com/scikit-learn/scikit-learn/issues/21755 */display: inline-block !important;position: relative;}#sk-container-id-1 div.sk-text-repr-fallback {display: none;}</style><div id=\"sk-container-id-1\" class=\"sk-top-container\"><div class=\"sk-text-repr-fallback\"><pre>GridSearchCV(cv=5, estimator=ExtraTreesClassifier(),\n",
       "             param_grid={&#x27;criterion&#x27;: [&#x27;gini&#x27;, &#x27;entropy&#x27;],\n",
       "                         &#x27;max_depth&#x27;: [0, 10, 20],\n",
       "                         &#x27;n_estimators&#x27;: [50, 100, 200, 300]})</pre><b>In a Jupyter environment, please rerun this cell to show the HTML representation or trust the notebook. <br />On GitHub, the HTML representation is unable to render, please try loading this page with nbviewer.org.</b></div><div class=\"sk-container\" hidden><div class=\"sk-item sk-dashed-wrapped\"><div class=\"sk-label-container\"><div class=\"sk-label sk-toggleable\"><input class=\"sk-toggleable__control sk-hidden--visually\" id=\"sk-estimator-id-1\" type=\"checkbox\" ><label for=\"sk-estimator-id-1\" class=\"sk-toggleable__label sk-toggleable__label-arrow\">GridSearchCV</label><div class=\"sk-toggleable__content\"><pre>GridSearchCV(cv=5, estimator=ExtraTreesClassifier(),\n",
       "             param_grid={&#x27;criterion&#x27;: [&#x27;gini&#x27;, &#x27;entropy&#x27;],\n",
       "                         &#x27;max_depth&#x27;: [0, 10, 20],\n",
       "                         &#x27;n_estimators&#x27;: [50, 100, 200, 300]})</pre></div></div></div><div class=\"sk-parallel\"><div class=\"sk-parallel-item\"><div class=\"sk-item\"><div class=\"sk-label-container\"><div class=\"sk-label sk-toggleable\"><input class=\"sk-toggleable__control sk-hidden--visually\" id=\"sk-estimator-id-2\" type=\"checkbox\" ><label for=\"sk-estimator-id-2\" class=\"sk-toggleable__label sk-toggleable__label-arrow\">estimator: ExtraTreesClassifier</label><div class=\"sk-toggleable__content\"><pre>ExtraTreesClassifier()</pre></div></div></div><div class=\"sk-serial\"><div class=\"sk-item\"><div class=\"sk-estimator sk-toggleable\"><input class=\"sk-toggleable__control sk-hidden--visually\" id=\"sk-estimator-id-3\" type=\"checkbox\" ><label for=\"sk-estimator-id-3\" class=\"sk-toggleable__label sk-toggleable__label-arrow\">ExtraTreesClassifier</label><div class=\"sk-toggleable__content\"><pre>ExtraTreesClassifier()</pre></div></div></div></div></div></div></div></div></div></div>"
      ],
      "text/plain": [
       "GridSearchCV(cv=5, estimator=ExtraTreesClassifier(),\n",
       "             param_grid={'criterion': ['gini', 'entropy'],\n",
       "                         'max_depth': [0, 10, 20],\n",
       "                         'n_estimators': [50, 100, 200, 300]})"
      ]
     },
     "execution_count": 72,
     "metadata": {},
     "output_type": "execute_result"
    }
   ],
   "source": [
    "from sklearn.model_selection import GridSearchCV\n",
    "params = {'max_depth':[0,10,20],'n_estimators':[50,100,200,300],'criterion':['gini','entropy']}\n",
    "GCV = GridSearchCV(ExtraTreesClassifier(),params,cv=5)\n",
    "GCV.fit(x_train,y_train)"
   ]
  },
  {
   "cell_type": "code",
   "execution_count": 73,
   "id": "a9fd0fab",
   "metadata": {},
   "outputs": [
    {
     "data": {
      "text/plain": [
       "{'criterion': 'entropy', 'max_depth': 20, 'n_estimators': 300}"
      ]
     },
     "execution_count": 73,
     "metadata": {},
     "output_type": "execute_result"
    }
   ],
   "source": [
    "GCV.best_params_"
   ]
  },
  {
   "cell_type": "code",
   "execution_count": 74,
   "id": "5dd390b7",
   "metadata": {},
   "outputs": [
    {
     "name": "stdout",
     "output_type": "stream",
     "text": [
      "88.34355828220859\n"
     ]
    }
   ],
   "source": [
    "final_model = ExtraTreesClassifier(criterion='entropy',max_depth=20,n_estimators=300)\n",
    "final_model.fit(x_train,y_train)\n",
    "pred = final_model.predict(x_test)\n",
    "acc = accuracy_score(y_test,pred)\n",
    "print(acc*100)"
   ]
  },
  {
   "cell_type": "code",
   "execution_count": 75,
   "id": "ad6b76a9",
   "metadata": {},
   "outputs": [],
   "source": [
    "from sklearn import datasets\n",
    "from sklearn import metrics\n",
    "from sklearn import model_selection\n",
    "from sklearn.metrics import roc_auc_score\n",
    "from sklearn.metrics import roc_curve"
   ]
  },
  {
   "cell_type": "code",
   "execution_count": 76,
   "id": "6e1e0d19",
   "metadata": {},
   "outputs": [],
   "source": [
    "y_pred_prob = final_model.predict_proba(x_test)[:,1]\n",
    "fpr, tpr, threshold = metrics.roc_curve(y_test, pred,pos_label=1)\n",
    "roc_auc = metrics.auc(fpr, tpr)"
   ]
  },
  {
   "cell_type": "code",
   "execution_count": 77,
   "id": "be2e3a60",
   "metadata": {},
   "outputs": [
    {
     "data": {
      "image/png": "[encoded data removed]",
      "text/plain": [
       "<Figure size 432x288 with 1 Axes>"
      ]
     },
     "metadata": {
      "needs_background": "light"
     },
     "output_type": "display_data"
    },
    {
     "name": "stdout",
     "output_type": "stream",
     "text": [
      "AUC Score:  \n",
      " 0.8821969696969697\n"
     ]
    }
   ],
   "source": [
    "plt.plot([0,1],[0,1],'r--')\n",
    "plt.plot(fpr,tpr,label='ROC curve (area=%0.2f)' %roc_auc)\n",
    "plt.xlabel('False Positive Rate')\n",
    "plt.ylabel('True Positive Rate')\n",
    "plt.show()\n",
    "auc_score = roc_auc_score(y_test,final_model.predict(x_test))\n",
    "print('AUC Score: ','\\n',auc_score)"
   ]
  },
  {
   "cell_type": "markdown",
   "id": "108d2964",
   "metadata": {},
   "source": [
    "### 29) Saving The Model"
   ]
  },
  {
   "cell_type": "code",
   "execution_count": 78,
   "id": "dea1f4c8",
   "metadata": {},
   "outputs": [
    {
     "data": {
      "text/plain": [
       "['loan_status.pki']"
      ]
     },
     "execution_count": 78,
     "metadata": {},
     "output_type": "execute_result"
    }
   ],
   "source": [
    "import joblib\n",
    "joblib.dump(final_model,'loan_status.pki')"
   ]
  },
  {
   "cell_type": "code",
   "execution_count": 79,
   "id": "089c781d",
   "metadata": {},
   "outputs": [
    {
     "data": {
      "text/plain": [
       "array([0., 1., 0., 1., 1., 0., 1., 0., 0., 1., 1., 0., 0., 1., 0., 1., 1.,\n",
       "       1., 1., 0., 1., 0., 1., 0., 0., 1., 0., 1., 0., 0., 1., 0., 1., 1.,\n",
       "       0., 1., 1., 0., 1., 0., 1., 1., 0., 1., 1., 1., 1., 0., 0., 1., 0.,\n",
       "       0., 1., 1., 1., 1., 0., 0., 0., 1., 0., 0., 0., 0., 1., 1., 0., 1.,\n",
       "       1., 1., 1., 0., 1., 1., 1., 1., 1., 0., 1., 1., 1., 1., 1., 0., 1.,\n",
       "       0., 0., 1., 1., 1., 0., 0., 0., 1., 1., 0., 1., 1., 1., 0., 1., 0.,\n",
       "       0., 0., 0., 0., 1., 1., 1., 1., 0., 0., 0., 1., 0., 0., 0., 0., 1.,\n",
       "       0., 0., 1., 1., 0., 1., 1., 0., 0., 1., 1., 1., 1., 1., 1., 1., 0.,\n",
       "       1., 0., 0., 0., 0., 1., 1., 1., 0., 1., 0., 1., 1., 1., 1., 1., 0.,\n",
       "       1., 0., 0., 0., 1., 0., 0., 0., 0., 1.])"
      ]
     },
     "execution_count": 79,
     "metadata": {},
     "output_type": "execute_result"
    }
   ],
   "source": [
    "model = joblib.load('loan_status.pki')\n",
    "prediction = model.predict(x_test)\n",
    "prediction"
   ]
  },
  {
   "cell_type": "code",
   "execution_count": 80,
   "id": "ad7af70d",
   "metadata": {},
   "outputs": [],
   "source": [
    "a = np.array(y_test)\n",
    "df1 = pd.DataFrame()\n",
    "df1['Predicted'] = prediction\n",
    "df1['Original'] = a"
   ]
  },
  {
   "cell_type": "code",
   "execution_count": 81,
   "id": "2186bfca",
   "metadata": {},
   "outputs": [
    {
     "data": {
      "text/html": [
       "<div>\n",
       "<style scoped>\n",
       "    .dataframe tbody tr th:only-of-type {\n",
       "        vertical-align: middle;\n",
       "    }\n",
       "\n",
       "    .dataframe tbody tr th {\n",
       "        vertical-align: top;\n",
       "    }\n",
       "\n",
       "    .dataframe thead th {\n",
       "        text-align: right;\n",
       "    }\n",
       "</style>\n",
       "<table border=\"1\" class=\"dataframe\">\n",
       "  <thead>\n",
       "    <tr style=\"text-align: right;\">\n",
       "      <th></th>\n",
       "      <th>Predicted</th>\n",
       "      <th>Original</th>\n",
       "    </tr>\n",
       "  </thead>\n",
       "  <tbody>\n",
       "    <tr>\n",
       "      <th>0</th>\n",
       "      <td>0.0</td>\n",
       "      <td>0.0</td>\n",
       "    </tr>\n",
       "    <tr>\n",
       "      <th>1</th>\n",
       "      <td>1.0</td>\n",
       "      <td>1.0</td>\n",
       "    </tr>\n",
       "    <tr>\n",
       "      <th>2</th>\n",
       "      <td>0.0</td>\n",
       "      <td>0.0</td>\n",
       "    </tr>\n",
       "    <tr>\n",
       "      <th>3</th>\n",
       "      <td>1.0</td>\n",
       "      <td>1.0</td>\n",
       "    </tr>\n",
       "    <tr>\n",
       "      <th>4</th>\n",
       "      <td>1.0</td>\n",
       "      <td>1.0</td>\n",
       "    </tr>\n",
       "    <tr>\n",
       "      <th>...</th>\n",
       "      <td>...</td>\n",
       "      <td>...</td>\n",
       "    </tr>\n",
       "    <tr>\n",
       "      <th>158</th>\n",
       "      <td>0.0</td>\n",
       "      <td>0.0</td>\n",
       "    </tr>\n",
       "    <tr>\n",
       "      <th>159</th>\n",
       "      <td>0.0</td>\n",
       "      <td>0.0</td>\n",
       "    </tr>\n",
       "    <tr>\n",
       "      <th>160</th>\n",
       "      <td>0.0</td>\n",
       "      <td>1.0</td>\n",
       "    </tr>\n",
       "    <tr>\n",
       "      <th>161</th>\n",
       "      <td>0.0</td>\n",
       "      <td>0.0</td>\n",
       "    </tr>\n",
       "    <tr>\n",
       "      <th>162</th>\n",
       "      <td>1.0</td>\n",
       "      <td>1.0</td>\n",
       "    </tr>\n",
       "  </tbody>\n",
       "</table>\n",
       "<p>163 rows × 2 columns</p>\n",
       "</div>"
      ],
      "text/plain": [
       "     Predicted  Original\n",
       "0          0.0       0.0\n",
       "1          1.0       1.0\n",
       "2          0.0       0.0\n",
       "3          1.0       1.0\n",
       "4          1.0       1.0\n",
       "..         ...       ...\n",
       "158        0.0       0.0\n",
       "159        0.0       0.0\n",
       "160        0.0       1.0\n",
       "161        0.0       0.0\n",
       "162        1.0       1.0\n",
       "\n",
       "[163 rows x 2 columns]"
      ]
     },
     "execution_count": 81,
     "metadata": {},
     "output_type": "execute_result"
    }
   ],
   "source": [
    "df1"
   ]
  },
  {
   "cell_type": "markdown",
   "id": "dc8b9934",
   "metadata": {},
   "source": [
    "### Acurracy is 88% using model extratrees classifier"
   ]
  },
  {
   "cell_type": "code",
   "execution_count": null,
   "id": "12931849",
   "metadata": {},
   "outputs": [],
   "source": []
  }
 ],
 "metadata": {
  "kernelspec": {
   "display_name": "Python 3 (ipykernel)",
   "language": "python",
   "name": "python3"
  },
  "language_info": {
   "codemirror_mode": {
    "name": "ipython",
    "version": 3
   },
   "file_extension": ".py",
   "mimetype": "text/x-python",
   "name": "python",
   "nbconvert_exporter": "python",
   "pygments_lexer": "ipython3",
   "version": "3.9.7"
  }
 },
 "nbformat": 4,
 "nbformat_minor": 5
}
