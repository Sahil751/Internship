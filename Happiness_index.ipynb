{
 "cells": [
  {
   "cell_type": "markdown",
   "id": "f24d6031",
   "metadata": {},
   "source": [
    "### Step 1) Importing Libraries"
   ]
  },
  {
   "cell_type": "code",
   "execution_count": 1,
   "id": "8931f47f",
   "metadata": {},
   "outputs": [],
   "source": [
    "import pandas as pd\n",
    "import numpy as np\n",
    "import seaborn as sns\n",
    "import matplotlib.pyplot as plt\n",
    "%matplotlib inline\n",
    "import warnings\n",
    "warnings.filterwarnings('ignore')"
   ]
  },
  {
   "cell_type": "markdown",
   "id": "d94e5c62",
   "metadata": {},
   "source": [
    "### Step 2) Loading Data"
   ]
  },
  {
   "cell_type": "code",
   "execution_count": 2,
   "id": "b4d476ab",
   "metadata": {},
   "outputs": [],
   "source": [
    "df = pd.read_csv(\"C:/Users/HP/OneDrive/Desktop/Flip Robo/Practice Projects/happiness_score_dataset.csv\")"
   ]
  },
  {
   "cell_type": "code",
   "execution_count": 3,
   "id": "a0d5565c",
   "metadata": {},
   "outputs": [
    {
     "data": {
      "text/html": [
       "<div>\n",
       "<style scoped>\n",
       "    .dataframe tbody tr th:only-of-type {\n",
       "        vertical-align: middle;\n",
       "    }\n",
       "\n",
       "    .dataframe tbody tr th {\n",
       "        vertical-align: top;\n",
       "    }\n",
       "\n",
       "    .dataframe thead th {\n",
       "        text-align: right;\n",
       "    }\n",
       "</style>\n",
       "<table border=\"1\" class=\"dataframe\">\n",
       "  <thead>\n",
       "    <tr style=\"text-align: right;\">\n",
       "      <th></th>\n",
       "      <th>Country</th>\n",
       "      <th>Region</th>\n",
       "      <th>Happiness Rank</th>\n",
       "      <th>Happiness Score</th>\n",
       "      <th>Standard Error</th>\n",
       "      <th>Economy (GDP per Capita)</th>\n",
       "      <th>Family</th>\n",
       "      <th>Health (Life Expectancy)</th>\n",
       "      <th>Freedom</th>\n",
       "      <th>Trust (Government Corruption)</th>\n",
       "      <th>Generosity</th>\n",
       "      <th>Dystopia Residual</th>\n",
       "    </tr>\n",
       "  </thead>\n",
       "  <tbody>\n",
       "    <tr>\n",
       "      <th>0</th>\n",
       "      <td>Switzerland</td>\n",
       "      <td>Western Europe</td>\n",
       "      <td>1</td>\n",
       "      <td>7.587</td>\n",
       "      <td>0.03411</td>\n",
       "      <td>1.39651</td>\n",
       "      <td>1.34951</td>\n",
       "      <td>0.94143</td>\n",
       "      <td>0.66557</td>\n",
       "      <td>0.41978</td>\n",
       "      <td>0.29678</td>\n",
       "      <td>2.51738</td>\n",
       "    </tr>\n",
       "    <tr>\n",
       "      <th>1</th>\n",
       "      <td>Iceland</td>\n",
       "      <td>Western Europe</td>\n",
       "      <td>2</td>\n",
       "      <td>7.561</td>\n",
       "      <td>0.04884</td>\n",
       "      <td>1.30232</td>\n",
       "      <td>1.40223</td>\n",
       "      <td>0.94784</td>\n",
       "      <td>0.62877</td>\n",
       "      <td>0.14145</td>\n",
       "      <td>0.43630</td>\n",
       "      <td>2.70201</td>\n",
       "    </tr>\n",
       "    <tr>\n",
       "      <th>2</th>\n",
       "      <td>Denmark</td>\n",
       "      <td>Western Europe</td>\n",
       "      <td>3</td>\n",
       "      <td>7.527</td>\n",
       "      <td>0.03328</td>\n",
       "      <td>1.32548</td>\n",
       "      <td>1.36058</td>\n",
       "      <td>0.87464</td>\n",
       "      <td>0.64938</td>\n",
       "      <td>0.48357</td>\n",
       "      <td>0.34139</td>\n",
       "      <td>2.49204</td>\n",
       "    </tr>\n",
       "    <tr>\n",
       "      <th>3</th>\n",
       "      <td>Norway</td>\n",
       "      <td>Western Europe</td>\n",
       "      <td>4</td>\n",
       "      <td>7.522</td>\n",
       "      <td>0.03880</td>\n",
       "      <td>1.45900</td>\n",
       "      <td>1.33095</td>\n",
       "      <td>0.88521</td>\n",
       "      <td>0.66973</td>\n",
       "      <td>0.36503</td>\n",
       "      <td>0.34699</td>\n",
       "      <td>2.46531</td>\n",
       "    </tr>\n",
       "    <tr>\n",
       "      <th>4</th>\n",
       "      <td>Canada</td>\n",
       "      <td>North America</td>\n",
       "      <td>5</td>\n",
       "      <td>7.427</td>\n",
       "      <td>0.03553</td>\n",
       "      <td>1.32629</td>\n",
       "      <td>1.32261</td>\n",
       "      <td>0.90563</td>\n",
       "      <td>0.63297</td>\n",
       "      <td>0.32957</td>\n",
       "      <td>0.45811</td>\n",
       "      <td>2.45176</td>\n",
       "    </tr>\n",
       "    <tr>\n",
       "      <th>...</th>\n",
       "      <td>...</td>\n",
       "      <td>...</td>\n",
       "      <td>...</td>\n",
       "      <td>...</td>\n",
       "      <td>...</td>\n",
       "      <td>...</td>\n",
       "      <td>...</td>\n",
       "      <td>...</td>\n",
       "      <td>...</td>\n",
       "      <td>...</td>\n",
       "      <td>...</td>\n",
       "      <td>...</td>\n",
       "    </tr>\n",
       "    <tr>\n",
       "      <th>153</th>\n",
       "      <td>Rwanda</td>\n",
       "      <td>Sub-Saharan Africa</td>\n",
       "      <td>154</td>\n",
       "      <td>3.465</td>\n",
       "      <td>0.03464</td>\n",
       "      <td>0.22208</td>\n",
       "      <td>0.77370</td>\n",
       "      <td>0.42864</td>\n",
       "      <td>0.59201</td>\n",
       "      <td>0.55191</td>\n",
       "      <td>0.22628</td>\n",
       "      <td>0.67042</td>\n",
       "    </tr>\n",
       "    <tr>\n",
       "      <th>154</th>\n",
       "      <td>Benin</td>\n",
       "      <td>Sub-Saharan Africa</td>\n",
       "      <td>155</td>\n",
       "      <td>3.340</td>\n",
       "      <td>0.03656</td>\n",
       "      <td>0.28665</td>\n",
       "      <td>0.35386</td>\n",
       "      <td>0.31910</td>\n",
       "      <td>0.48450</td>\n",
       "      <td>0.08010</td>\n",
       "      <td>0.18260</td>\n",
       "      <td>1.63328</td>\n",
       "    </tr>\n",
       "    <tr>\n",
       "      <th>155</th>\n",
       "      <td>Syria</td>\n",
       "      <td>Middle East and Northern Africa</td>\n",
       "      <td>156</td>\n",
       "      <td>3.006</td>\n",
       "      <td>0.05015</td>\n",
       "      <td>0.66320</td>\n",
       "      <td>0.47489</td>\n",
       "      <td>0.72193</td>\n",
       "      <td>0.15684</td>\n",
       "      <td>0.18906</td>\n",
       "      <td>0.47179</td>\n",
       "      <td>0.32858</td>\n",
       "    </tr>\n",
       "    <tr>\n",
       "      <th>156</th>\n",
       "      <td>Burundi</td>\n",
       "      <td>Sub-Saharan Africa</td>\n",
       "      <td>157</td>\n",
       "      <td>2.905</td>\n",
       "      <td>0.08658</td>\n",
       "      <td>0.01530</td>\n",
       "      <td>0.41587</td>\n",
       "      <td>0.22396</td>\n",
       "      <td>0.11850</td>\n",
       "      <td>0.10062</td>\n",
       "      <td>0.19727</td>\n",
       "      <td>1.83302</td>\n",
       "    </tr>\n",
       "    <tr>\n",
       "      <th>157</th>\n",
       "      <td>Togo</td>\n",
       "      <td>Sub-Saharan Africa</td>\n",
       "      <td>158</td>\n",
       "      <td>2.839</td>\n",
       "      <td>0.06727</td>\n",
       "      <td>0.20868</td>\n",
       "      <td>0.13995</td>\n",
       "      <td>0.28443</td>\n",
       "      <td>0.36453</td>\n",
       "      <td>0.10731</td>\n",
       "      <td>0.16681</td>\n",
       "      <td>1.56726</td>\n",
       "    </tr>\n",
       "  </tbody>\n",
       "</table>\n",
       "<p>158 rows × 12 columns</p>\n",
       "</div>"
      ],
      "text/plain": [
       "         Country                           Region  Happiness Rank  \\\n",
       "0    Switzerland                   Western Europe               1   \n",
       "1        Iceland                   Western Europe               2   \n",
       "2        Denmark                   Western Europe               3   \n",
       "3         Norway                   Western Europe               4   \n",
       "4         Canada                    North America               5   \n",
       "..           ...                              ...             ...   \n",
       "153       Rwanda               Sub-Saharan Africa             154   \n",
       "154        Benin               Sub-Saharan Africa             155   \n",
       "155        Syria  Middle East and Northern Africa             156   \n",
       "156      Burundi               Sub-Saharan Africa             157   \n",
       "157         Togo               Sub-Saharan Africa             158   \n",
       "\n",
       "     Happiness Score  Standard Error  Economy (GDP per Capita)   Family  \\\n",
       "0              7.587         0.03411                   1.39651  1.34951   \n",
       "1              7.561         0.04884                   1.30232  1.40223   \n",
       "2              7.527         0.03328                   1.32548  1.36058   \n",
       "3              7.522         0.03880                   1.45900  1.33095   \n",
       "4              7.427         0.03553                   1.32629  1.32261   \n",
       "..               ...             ...                       ...      ...   \n",
       "153            3.465         0.03464                   0.22208  0.77370   \n",
       "154            3.340         0.03656                   0.28665  0.35386   \n",
       "155            3.006         0.05015                   0.66320  0.47489   \n",
       "156            2.905         0.08658                   0.01530  0.41587   \n",
       "157            2.839         0.06727                   0.20868  0.13995   \n",
       "\n",
       "     Health (Life Expectancy)  Freedom  Trust (Government Corruption)  \\\n",
       "0                     0.94143  0.66557                        0.41978   \n",
       "1                     0.94784  0.62877                        0.14145   \n",
       "2                     0.87464  0.64938                        0.48357   \n",
       "3                     0.88521  0.66973                        0.36503   \n",
       "4                     0.90563  0.63297                        0.32957   \n",
       "..                        ...      ...                            ...   \n",
       "153                   0.42864  0.59201                        0.55191   \n",
       "154                   0.31910  0.48450                        0.08010   \n",
       "155                   0.72193  0.15684                        0.18906   \n",
       "156                   0.22396  0.11850                        0.10062   \n",
       "157                   0.28443  0.36453                        0.10731   \n",
       "\n",
       "     Generosity  Dystopia Residual  \n",
       "0       0.29678            2.51738  \n",
       "1       0.43630            2.70201  \n",
       "2       0.34139            2.49204  \n",
       "3       0.34699            2.46531  \n",
       "4       0.45811            2.45176  \n",
       "..          ...                ...  \n",
       "153     0.22628            0.67042  \n",
       "154     0.18260            1.63328  \n",
       "155     0.47179            0.32858  \n",
       "156     0.19727            1.83302  \n",
       "157     0.16681            1.56726  \n",
       "\n",
       "[158 rows x 12 columns]"
      ]
     },
     "execution_count": 3,
     "metadata": {},
     "output_type": "execute_result"
    }
   ],
   "source": [
    "df"
   ]
  },
  {
   "cell_type": "markdown",
   "id": "8aedb2d2",
   "metadata": {},
   "source": [
    "#### Observation:- Since Happiness Rank is a order from 1 to 158 converting it to insex"
   ]
  },
  {
   "cell_type": "code",
   "execution_count": 4,
   "id": "dc9b6131",
   "metadata": {},
   "outputs": [],
   "source": [
    "df = df.set_index('Happiness Rank')"
   ]
  },
  {
   "cell_type": "code",
   "execution_count": 5,
   "id": "b4196163",
   "metadata": {},
   "outputs": [
    {
     "data": {
      "text/html": [
       "<div>\n",
       "<style scoped>\n",
       "    .dataframe tbody tr th:only-of-type {\n",
       "        vertical-align: middle;\n",
       "    }\n",
       "\n",
       "    .dataframe tbody tr th {\n",
       "        vertical-align: top;\n",
       "    }\n",
       "\n",
       "    .dataframe thead th {\n",
       "        text-align: right;\n",
       "    }\n",
       "</style>\n",
       "<table border=\"1\" class=\"dataframe\">\n",
       "  <thead>\n",
       "    <tr style=\"text-align: right;\">\n",
       "      <th></th>\n",
       "      <th>Country</th>\n",
       "      <th>Region</th>\n",
       "      <th>Happiness Score</th>\n",
       "      <th>Standard Error</th>\n",
       "      <th>Economy (GDP per Capita)</th>\n",
       "      <th>Family</th>\n",
       "      <th>Health (Life Expectancy)</th>\n",
       "      <th>Freedom</th>\n",
       "      <th>Trust (Government Corruption)</th>\n",
       "      <th>Generosity</th>\n",
       "      <th>Dystopia Residual</th>\n",
       "    </tr>\n",
       "    <tr>\n",
       "      <th>Happiness Rank</th>\n",
       "      <th></th>\n",
       "      <th></th>\n",
       "      <th></th>\n",
       "      <th></th>\n",
       "      <th></th>\n",
       "      <th></th>\n",
       "      <th></th>\n",
       "      <th></th>\n",
       "      <th></th>\n",
       "      <th></th>\n",
       "      <th></th>\n",
       "    </tr>\n",
       "  </thead>\n",
       "  <tbody>\n",
       "    <tr>\n",
       "      <th>1</th>\n",
       "      <td>Switzerland</td>\n",
       "      <td>Western Europe</td>\n",
       "      <td>7.587</td>\n",
       "      <td>0.03411</td>\n",
       "      <td>1.39651</td>\n",
       "      <td>1.34951</td>\n",
       "      <td>0.94143</td>\n",
       "      <td>0.66557</td>\n",
       "      <td>0.41978</td>\n",
       "      <td>0.29678</td>\n",
       "      <td>2.51738</td>\n",
       "    </tr>\n",
       "    <tr>\n",
       "      <th>2</th>\n",
       "      <td>Iceland</td>\n",
       "      <td>Western Europe</td>\n",
       "      <td>7.561</td>\n",
       "      <td>0.04884</td>\n",
       "      <td>1.30232</td>\n",
       "      <td>1.40223</td>\n",
       "      <td>0.94784</td>\n",
       "      <td>0.62877</td>\n",
       "      <td>0.14145</td>\n",
       "      <td>0.43630</td>\n",
       "      <td>2.70201</td>\n",
       "    </tr>\n",
       "    <tr>\n",
       "      <th>3</th>\n",
       "      <td>Denmark</td>\n",
       "      <td>Western Europe</td>\n",
       "      <td>7.527</td>\n",
       "      <td>0.03328</td>\n",
       "      <td>1.32548</td>\n",
       "      <td>1.36058</td>\n",
       "      <td>0.87464</td>\n",
       "      <td>0.64938</td>\n",
       "      <td>0.48357</td>\n",
       "      <td>0.34139</td>\n",
       "      <td>2.49204</td>\n",
       "    </tr>\n",
       "    <tr>\n",
       "      <th>4</th>\n",
       "      <td>Norway</td>\n",
       "      <td>Western Europe</td>\n",
       "      <td>7.522</td>\n",
       "      <td>0.03880</td>\n",
       "      <td>1.45900</td>\n",
       "      <td>1.33095</td>\n",
       "      <td>0.88521</td>\n",
       "      <td>0.66973</td>\n",
       "      <td>0.36503</td>\n",
       "      <td>0.34699</td>\n",
       "      <td>2.46531</td>\n",
       "    </tr>\n",
       "    <tr>\n",
       "      <th>5</th>\n",
       "      <td>Canada</td>\n",
       "      <td>North America</td>\n",
       "      <td>7.427</td>\n",
       "      <td>0.03553</td>\n",
       "      <td>1.32629</td>\n",
       "      <td>1.32261</td>\n",
       "      <td>0.90563</td>\n",
       "      <td>0.63297</td>\n",
       "      <td>0.32957</td>\n",
       "      <td>0.45811</td>\n",
       "      <td>2.45176</td>\n",
       "    </tr>\n",
       "    <tr>\n",
       "      <th>...</th>\n",
       "      <td>...</td>\n",
       "      <td>...</td>\n",
       "      <td>...</td>\n",
       "      <td>...</td>\n",
       "      <td>...</td>\n",
       "      <td>...</td>\n",
       "      <td>...</td>\n",
       "      <td>...</td>\n",
       "      <td>...</td>\n",
       "      <td>...</td>\n",
       "      <td>...</td>\n",
       "    </tr>\n",
       "    <tr>\n",
       "      <th>154</th>\n",
       "      <td>Rwanda</td>\n",
       "      <td>Sub-Saharan Africa</td>\n",
       "      <td>3.465</td>\n",
       "      <td>0.03464</td>\n",
       "      <td>0.22208</td>\n",
       "      <td>0.77370</td>\n",
       "      <td>0.42864</td>\n",
       "      <td>0.59201</td>\n",
       "      <td>0.55191</td>\n",
       "      <td>0.22628</td>\n",
       "      <td>0.67042</td>\n",
       "    </tr>\n",
       "    <tr>\n",
       "      <th>155</th>\n",
       "      <td>Benin</td>\n",
       "      <td>Sub-Saharan Africa</td>\n",
       "      <td>3.340</td>\n",
       "      <td>0.03656</td>\n",
       "      <td>0.28665</td>\n",
       "      <td>0.35386</td>\n",
       "      <td>0.31910</td>\n",
       "      <td>0.48450</td>\n",
       "      <td>0.08010</td>\n",
       "      <td>0.18260</td>\n",
       "      <td>1.63328</td>\n",
       "    </tr>\n",
       "    <tr>\n",
       "      <th>156</th>\n",
       "      <td>Syria</td>\n",
       "      <td>Middle East and Northern Africa</td>\n",
       "      <td>3.006</td>\n",
       "      <td>0.05015</td>\n",
       "      <td>0.66320</td>\n",
       "      <td>0.47489</td>\n",
       "      <td>0.72193</td>\n",
       "      <td>0.15684</td>\n",
       "      <td>0.18906</td>\n",
       "      <td>0.47179</td>\n",
       "      <td>0.32858</td>\n",
       "    </tr>\n",
       "    <tr>\n",
       "      <th>157</th>\n",
       "      <td>Burundi</td>\n",
       "      <td>Sub-Saharan Africa</td>\n",
       "      <td>2.905</td>\n",
       "      <td>0.08658</td>\n",
       "      <td>0.01530</td>\n",
       "      <td>0.41587</td>\n",
       "      <td>0.22396</td>\n",
       "      <td>0.11850</td>\n",
       "      <td>0.10062</td>\n",
       "      <td>0.19727</td>\n",
       "      <td>1.83302</td>\n",
       "    </tr>\n",
       "    <tr>\n",
       "      <th>158</th>\n",
       "      <td>Togo</td>\n",
       "      <td>Sub-Saharan Africa</td>\n",
       "      <td>2.839</td>\n",
       "      <td>0.06727</td>\n",
       "      <td>0.20868</td>\n",
       "      <td>0.13995</td>\n",
       "      <td>0.28443</td>\n",
       "      <td>0.36453</td>\n",
       "      <td>0.10731</td>\n",
       "      <td>0.16681</td>\n",
       "      <td>1.56726</td>\n",
       "    </tr>\n",
       "  </tbody>\n",
       "</table>\n",
       "<p>158 rows × 11 columns</p>\n",
       "</div>"
      ],
      "text/plain": [
       "                    Country                           Region  Happiness Score  \\\n",
       "Happiness Rank                                                                  \n",
       "1               Switzerland                   Western Europe            7.587   \n",
       "2                   Iceland                   Western Europe            7.561   \n",
       "3                   Denmark                   Western Europe            7.527   \n",
       "4                    Norway                   Western Europe            7.522   \n",
       "5                    Canada                    North America            7.427   \n",
       "...                     ...                              ...              ...   \n",
       "154                  Rwanda               Sub-Saharan Africa            3.465   \n",
       "155                   Benin               Sub-Saharan Africa            3.340   \n",
       "156                   Syria  Middle East and Northern Africa            3.006   \n",
       "157                 Burundi               Sub-Saharan Africa            2.905   \n",
       "158                    Togo               Sub-Saharan Africa            2.839   \n",
       "\n",
       "                Standard Error  Economy (GDP per Capita)   Family  \\\n",
       "Happiness Rank                                                      \n",
       "1                      0.03411                   1.39651  1.34951   \n",
       "2                      0.04884                   1.30232  1.40223   \n",
       "3                      0.03328                   1.32548  1.36058   \n",
       "4                      0.03880                   1.45900  1.33095   \n",
       "5                      0.03553                   1.32629  1.32261   \n",
       "...                        ...                       ...      ...   \n",
       "154                    0.03464                   0.22208  0.77370   \n",
       "155                    0.03656                   0.28665  0.35386   \n",
       "156                    0.05015                   0.66320  0.47489   \n",
       "157                    0.08658                   0.01530  0.41587   \n",
       "158                    0.06727                   0.20868  0.13995   \n",
       "\n",
       "                Health (Life Expectancy)  Freedom  \\\n",
       "Happiness Rank                                      \n",
       "1                                0.94143  0.66557   \n",
       "2                                0.94784  0.62877   \n",
       "3                                0.87464  0.64938   \n",
       "4                                0.88521  0.66973   \n",
       "5                                0.90563  0.63297   \n",
       "...                                  ...      ...   \n",
       "154                              0.42864  0.59201   \n",
       "155                              0.31910  0.48450   \n",
       "156                              0.72193  0.15684   \n",
       "157                              0.22396  0.11850   \n",
       "158                              0.28443  0.36453   \n",
       "\n",
       "                Trust (Government Corruption)  Generosity  Dystopia Residual  \n",
       "Happiness Rank                                                                \n",
       "1                                     0.41978     0.29678            2.51738  \n",
       "2                                     0.14145     0.43630            2.70201  \n",
       "3                                     0.48357     0.34139            2.49204  \n",
       "4                                     0.36503     0.34699            2.46531  \n",
       "5                                     0.32957     0.45811            2.45176  \n",
       "...                                       ...         ...                ...  \n",
       "154                                   0.55191     0.22628            0.67042  \n",
       "155                                   0.08010     0.18260            1.63328  \n",
       "156                                   0.18906     0.47179            0.32858  \n",
       "157                                   0.10062     0.19727            1.83302  \n",
       "158                                   0.10731     0.16681            1.56726  \n",
       "\n",
       "[158 rows x 11 columns]"
      ]
     },
     "execution_count": 5,
     "metadata": {},
     "output_type": "execute_result"
    }
   ],
   "source": [
    "df"
   ]
  },
  {
   "cell_type": "code",
   "execution_count": 6,
   "id": "df5d8051",
   "metadata": {},
   "outputs": [
    {
     "data": {
      "text/plain": [
       "(158, 11)"
      ]
     },
     "execution_count": 6,
     "metadata": {},
     "output_type": "execute_result"
    }
   ],
   "source": [
    "df.shape"
   ]
  },
  {
   "cell_type": "markdown",
   "id": "bf552a0a",
   "metadata": {},
   "source": [
    "#### Observation:- \n",
    "#### 158 rows and 11 columns\n",
    "#### Country and Region seems to be categorical column and others are continuous\n",
    "#### Happiness Score is label and others are features "
   ]
  },
  {
   "cell_type": "code",
   "execution_count": 7,
   "id": "1b173681",
   "metadata": {},
   "outputs": [
    {
     "data": {
      "text/plain": [
       "Index(['Country', 'Region', 'Happiness Score', 'Standard Error',\n",
       "       'Economy (GDP per Capita)', 'Family', 'Health (Life Expectancy)',\n",
       "       'Freedom', 'Trust (Government Corruption)', 'Generosity',\n",
       "       'Dystopia Residual'],\n",
       "      dtype='object')"
      ]
     },
     "execution_count": 7,
     "metadata": {},
     "output_type": "execute_result"
    }
   ],
   "source": [
    "df.columns"
   ]
  },
  {
   "cell_type": "code",
   "execution_count": 8,
   "id": "383cbbf1",
   "metadata": {},
   "outputs": [
    {
     "data": {
      "text/html": [
       "<div>\n",
       "<style scoped>\n",
       "    .dataframe tbody tr th:only-of-type {\n",
       "        vertical-align: middle;\n",
       "    }\n",
       "\n",
       "    .dataframe tbody tr th {\n",
       "        vertical-align: top;\n",
       "    }\n",
       "\n",
       "    .dataframe thead th {\n",
       "        text-align: right;\n",
       "    }\n",
       "</style>\n",
       "<table border=\"1\" class=\"dataframe\">\n",
       "  <thead>\n",
       "    <tr style=\"text-align: right;\">\n",
       "      <th></th>\n",
       "      <th>Country</th>\n",
       "      <th>Region</th>\n",
       "      <th>Happiness Score</th>\n",
       "      <th>Standard Error</th>\n",
       "      <th>Economy (GDP per Capita)</th>\n",
       "      <th>Family</th>\n",
       "      <th>Health (Life Expectancy)</th>\n",
       "      <th>Freedom</th>\n",
       "      <th>Trust (Government Corruption)</th>\n",
       "      <th>Generosity</th>\n",
       "      <th>Dystopia Residual</th>\n",
       "    </tr>\n",
       "    <tr>\n",
       "      <th>Happiness Rank</th>\n",
       "      <th></th>\n",
       "      <th></th>\n",
       "      <th></th>\n",
       "      <th></th>\n",
       "      <th></th>\n",
       "      <th></th>\n",
       "      <th></th>\n",
       "      <th></th>\n",
       "      <th></th>\n",
       "      <th></th>\n",
       "      <th></th>\n",
       "    </tr>\n",
       "  </thead>\n",
       "  <tbody>\n",
       "    <tr>\n",
       "      <th>1</th>\n",
       "      <td>Switzerland</td>\n",
       "      <td>Western Europe</td>\n",
       "      <td>7.587</td>\n",
       "      <td>0.03411</td>\n",
       "      <td>1.39651</td>\n",
       "      <td>1.34951</td>\n",
       "      <td>0.94143</td>\n",
       "      <td>0.66557</td>\n",
       "      <td>0.41978</td>\n",
       "      <td>0.29678</td>\n",
       "      <td>2.51738</td>\n",
       "    </tr>\n",
       "    <tr>\n",
       "      <th>2</th>\n",
       "      <td>Iceland</td>\n",
       "      <td>Western Europe</td>\n",
       "      <td>7.561</td>\n",
       "      <td>0.04884</td>\n",
       "      <td>1.30232</td>\n",
       "      <td>1.40223</td>\n",
       "      <td>0.94784</td>\n",
       "      <td>0.62877</td>\n",
       "      <td>0.14145</td>\n",
       "      <td>0.43630</td>\n",
       "      <td>2.70201</td>\n",
       "    </tr>\n",
       "    <tr>\n",
       "      <th>3</th>\n",
       "      <td>Denmark</td>\n",
       "      <td>Western Europe</td>\n",
       "      <td>7.527</td>\n",
       "      <td>0.03328</td>\n",
       "      <td>1.32548</td>\n",
       "      <td>1.36058</td>\n",
       "      <td>0.87464</td>\n",
       "      <td>0.64938</td>\n",
       "      <td>0.48357</td>\n",
       "      <td>0.34139</td>\n",
       "      <td>2.49204</td>\n",
       "    </tr>\n",
       "    <tr>\n",
       "      <th>4</th>\n",
       "      <td>Norway</td>\n",
       "      <td>Western Europe</td>\n",
       "      <td>7.522</td>\n",
       "      <td>0.03880</td>\n",
       "      <td>1.45900</td>\n",
       "      <td>1.33095</td>\n",
       "      <td>0.88521</td>\n",
       "      <td>0.66973</td>\n",
       "      <td>0.36503</td>\n",
       "      <td>0.34699</td>\n",
       "      <td>2.46531</td>\n",
       "    </tr>\n",
       "    <tr>\n",
       "      <th>5</th>\n",
       "      <td>Canada</td>\n",
       "      <td>North America</td>\n",
       "      <td>7.427</td>\n",
       "      <td>0.03553</td>\n",
       "      <td>1.32629</td>\n",
       "      <td>1.32261</td>\n",
       "      <td>0.90563</td>\n",
       "      <td>0.63297</td>\n",
       "      <td>0.32957</td>\n",
       "      <td>0.45811</td>\n",
       "      <td>2.45176</td>\n",
       "    </tr>\n",
       "    <tr>\n",
       "      <th>6</th>\n",
       "      <td>Finland</td>\n",
       "      <td>Western Europe</td>\n",
       "      <td>7.406</td>\n",
       "      <td>0.03140</td>\n",
       "      <td>1.29025</td>\n",
       "      <td>1.31826</td>\n",
       "      <td>0.88911</td>\n",
       "      <td>0.64169</td>\n",
       "      <td>0.41372</td>\n",
       "      <td>0.23351</td>\n",
       "      <td>2.61955</td>\n",
       "    </tr>\n",
       "    <tr>\n",
       "      <th>7</th>\n",
       "      <td>Netherlands</td>\n",
       "      <td>Western Europe</td>\n",
       "      <td>7.378</td>\n",
       "      <td>0.02799</td>\n",
       "      <td>1.32944</td>\n",
       "      <td>1.28017</td>\n",
       "      <td>0.89284</td>\n",
       "      <td>0.61576</td>\n",
       "      <td>0.31814</td>\n",
       "      <td>0.47610</td>\n",
       "      <td>2.46570</td>\n",
       "    </tr>\n",
       "    <tr>\n",
       "      <th>8</th>\n",
       "      <td>Sweden</td>\n",
       "      <td>Western Europe</td>\n",
       "      <td>7.364</td>\n",
       "      <td>0.03157</td>\n",
       "      <td>1.33171</td>\n",
       "      <td>1.28907</td>\n",
       "      <td>0.91087</td>\n",
       "      <td>0.65980</td>\n",
       "      <td>0.43844</td>\n",
       "      <td>0.36262</td>\n",
       "      <td>2.37119</td>\n",
       "    </tr>\n",
       "    <tr>\n",
       "      <th>9</th>\n",
       "      <td>New Zealand</td>\n",
       "      <td>Australia and New Zealand</td>\n",
       "      <td>7.286</td>\n",
       "      <td>0.03371</td>\n",
       "      <td>1.25018</td>\n",
       "      <td>1.31967</td>\n",
       "      <td>0.90837</td>\n",
       "      <td>0.63938</td>\n",
       "      <td>0.42922</td>\n",
       "      <td>0.47501</td>\n",
       "      <td>2.26425</td>\n",
       "    </tr>\n",
       "    <tr>\n",
       "      <th>10</th>\n",
       "      <td>Australia</td>\n",
       "      <td>Australia and New Zealand</td>\n",
       "      <td>7.284</td>\n",
       "      <td>0.04083</td>\n",
       "      <td>1.33358</td>\n",
       "      <td>1.30923</td>\n",
       "      <td>0.93156</td>\n",
       "      <td>0.65124</td>\n",
       "      <td>0.35637</td>\n",
       "      <td>0.43562</td>\n",
       "      <td>2.26646</td>\n",
       "    </tr>\n",
       "  </tbody>\n",
       "</table>\n",
       "</div>"
      ],
      "text/plain": [
       "                    Country                     Region  Happiness Score  \\\n",
       "Happiness Rank                                                            \n",
       "1               Switzerland             Western Europe            7.587   \n",
       "2                   Iceland             Western Europe            7.561   \n",
       "3                   Denmark             Western Europe            7.527   \n",
       "4                    Norway             Western Europe            7.522   \n",
       "5                    Canada              North America            7.427   \n",
       "6                   Finland             Western Europe            7.406   \n",
       "7               Netherlands             Western Europe            7.378   \n",
       "8                    Sweden             Western Europe            7.364   \n",
       "9               New Zealand  Australia and New Zealand            7.286   \n",
       "10                Australia  Australia and New Zealand            7.284   \n",
       "\n",
       "                Standard Error  Economy (GDP per Capita)   Family  \\\n",
       "Happiness Rank                                                      \n",
       "1                      0.03411                   1.39651  1.34951   \n",
       "2                      0.04884                   1.30232  1.40223   \n",
       "3                      0.03328                   1.32548  1.36058   \n",
       "4                      0.03880                   1.45900  1.33095   \n",
       "5                      0.03553                   1.32629  1.32261   \n",
       "6                      0.03140                   1.29025  1.31826   \n",
       "7                      0.02799                   1.32944  1.28017   \n",
       "8                      0.03157                   1.33171  1.28907   \n",
       "9                      0.03371                   1.25018  1.31967   \n",
       "10                     0.04083                   1.33358  1.30923   \n",
       "\n",
       "                Health (Life Expectancy)  Freedom  \\\n",
       "Happiness Rank                                      \n",
       "1                                0.94143  0.66557   \n",
       "2                                0.94784  0.62877   \n",
       "3                                0.87464  0.64938   \n",
       "4                                0.88521  0.66973   \n",
       "5                                0.90563  0.63297   \n",
       "6                                0.88911  0.64169   \n",
       "7                                0.89284  0.61576   \n",
       "8                                0.91087  0.65980   \n",
       "9                                0.90837  0.63938   \n",
       "10                               0.93156  0.65124   \n",
       "\n",
       "                Trust (Government Corruption)  Generosity  Dystopia Residual  \n",
       "Happiness Rank                                                                \n",
       "1                                     0.41978     0.29678            2.51738  \n",
       "2                                     0.14145     0.43630            2.70201  \n",
       "3                                     0.48357     0.34139            2.49204  \n",
       "4                                     0.36503     0.34699            2.46531  \n",
       "5                                     0.32957     0.45811            2.45176  \n",
       "6                                     0.41372     0.23351            2.61955  \n",
       "7                                     0.31814     0.47610            2.46570  \n",
       "8                                     0.43844     0.36262            2.37119  \n",
       "9                                     0.42922     0.47501            2.26425  \n",
       "10                                    0.35637     0.43562            2.26646  "
      ]
     },
     "execution_count": 8,
     "metadata": {},
     "output_type": "execute_result"
    }
   ],
   "source": [
    "df.head(10)"
   ]
  },
  {
   "cell_type": "code",
   "execution_count": 9,
   "id": "f44356a9",
   "metadata": {},
   "outputs": [
    {
     "data": {
      "text/html": [
       "<div>\n",
       "<style scoped>\n",
       "    .dataframe tbody tr th:only-of-type {\n",
       "        vertical-align: middle;\n",
       "    }\n",
       "\n",
       "    .dataframe tbody tr th {\n",
       "        vertical-align: top;\n",
       "    }\n",
       "\n",
       "    .dataframe thead th {\n",
       "        text-align: right;\n",
       "    }\n",
       "</style>\n",
       "<table border=\"1\" class=\"dataframe\">\n",
       "  <thead>\n",
       "    <tr style=\"text-align: right;\">\n",
       "      <th></th>\n",
       "      <th>Country</th>\n",
       "      <th>Region</th>\n",
       "      <th>Happiness Score</th>\n",
       "      <th>Standard Error</th>\n",
       "      <th>Economy (GDP per Capita)</th>\n",
       "      <th>Family</th>\n",
       "      <th>Health (Life Expectancy)</th>\n",
       "      <th>Freedom</th>\n",
       "      <th>Trust (Government Corruption)</th>\n",
       "      <th>Generosity</th>\n",
       "      <th>Dystopia Residual</th>\n",
       "    </tr>\n",
       "    <tr>\n",
       "      <th>Happiness Rank</th>\n",
       "      <th></th>\n",
       "      <th></th>\n",
       "      <th></th>\n",
       "      <th></th>\n",
       "      <th></th>\n",
       "      <th></th>\n",
       "      <th></th>\n",
       "      <th></th>\n",
       "      <th></th>\n",
       "      <th></th>\n",
       "      <th></th>\n",
       "    </tr>\n",
       "  </thead>\n",
       "  <tbody>\n",
       "    <tr>\n",
       "      <th>149</th>\n",
       "      <td>Chad</td>\n",
       "      <td>Sub-Saharan Africa</td>\n",
       "      <td>3.667</td>\n",
       "      <td>0.03830</td>\n",
       "      <td>0.34193</td>\n",
       "      <td>0.76062</td>\n",
       "      <td>0.15010</td>\n",
       "      <td>0.23501</td>\n",
       "      <td>0.05269</td>\n",
       "      <td>0.18386</td>\n",
       "      <td>1.94296</td>\n",
       "    </tr>\n",
       "    <tr>\n",
       "      <th>150</th>\n",
       "      <td>Guinea</td>\n",
       "      <td>Sub-Saharan Africa</td>\n",
       "      <td>3.656</td>\n",
       "      <td>0.03590</td>\n",
       "      <td>0.17417</td>\n",
       "      <td>0.46475</td>\n",
       "      <td>0.24009</td>\n",
       "      <td>0.37725</td>\n",
       "      <td>0.12139</td>\n",
       "      <td>0.28657</td>\n",
       "      <td>1.99172</td>\n",
       "    </tr>\n",
       "    <tr>\n",
       "      <th>151</th>\n",
       "      <td>Ivory Coast</td>\n",
       "      <td>Sub-Saharan Africa</td>\n",
       "      <td>3.655</td>\n",
       "      <td>0.05141</td>\n",
       "      <td>0.46534</td>\n",
       "      <td>0.77115</td>\n",
       "      <td>0.15185</td>\n",
       "      <td>0.46866</td>\n",
       "      <td>0.17922</td>\n",
       "      <td>0.20165</td>\n",
       "      <td>1.41723</td>\n",
       "    </tr>\n",
       "    <tr>\n",
       "      <th>152</th>\n",
       "      <td>Burkina Faso</td>\n",
       "      <td>Sub-Saharan Africa</td>\n",
       "      <td>3.587</td>\n",
       "      <td>0.04324</td>\n",
       "      <td>0.25812</td>\n",
       "      <td>0.85188</td>\n",
       "      <td>0.27125</td>\n",
       "      <td>0.39493</td>\n",
       "      <td>0.12832</td>\n",
       "      <td>0.21747</td>\n",
       "      <td>1.46494</td>\n",
       "    </tr>\n",
       "    <tr>\n",
       "      <th>153</th>\n",
       "      <td>Afghanistan</td>\n",
       "      <td>Southern Asia</td>\n",
       "      <td>3.575</td>\n",
       "      <td>0.03084</td>\n",
       "      <td>0.31982</td>\n",
       "      <td>0.30285</td>\n",
       "      <td>0.30335</td>\n",
       "      <td>0.23414</td>\n",
       "      <td>0.09719</td>\n",
       "      <td>0.36510</td>\n",
       "      <td>1.95210</td>\n",
       "    </tr>\n",
       "    <tr>\n",
       "      <th>154</th>\n",
       "      <td>Rwanda</td>\n",
       "      <td>Sub-Saharan Africa</td>\n",
       "      <td>3.465</td>\n",
       "      <td>0.03464</td>\n",
       "      <td>0.22208</td>\n",
       "      <td>0.77370</td>\n",
       "      <td>0.42864</td>\n",
       "      <td>0.59201</td>\n",
       "      <td>0.55191</td>\n",
       "      <td>0.22628</td>\n",
       "      <td>0.67042</td>\n",
       "    </tr>\n",
       "    <tr>\n",
       "      <th>155</th>\n",
       "      <td>Benin</td>\n",
       "      <td>Sub-Saharan Africa</td>\n",
       "      <td>3.340</td>\n",
       "      <td>0.03656</td>\n",
       "      <td>0.28665</td>\n",
       "      <td>0.35386</td>\n",
       "      <td>0.31910</td>\n",
       "      <td>0.48450</td>\n",
       "      <td>0.08010</td>\n",
       "      <td>0.18260</td>\n",
       "      <td>1.63328</td>\n",
       "    </tr>\n",
       "    <tr>\n",
       "      <th>156</th>\n",
       "      <td>Syria</td>\n",
       "      <td>Middle East and Northern Africa</td>\n",
       "      <td>3.006</td>\n",
       "      <td>0.05015</td>\n",
       "      <td>0.66320</td>\n",
       "      <td>0.47489</td>\n",
       "      <td>0.72193</td>\n",
       "      <td>0.15684</td>\n",
       "      <td>0.18906</td>\n",
       "      <td>0.47179</td>\n",
       "      <td>0.32858</td>\n",
       "    </tr>\n",
       "    <tr>\n",
       "      <th>157</th>\n",
       "      <td>Burundi</td>\n",
       "      <td>Sub-Saharan Africa</td>\n",
       "      <td>2.905</td>\n",
       "      <td>0.08658</td>\n",
       "      <td>0.01530</td>\n",
       "      <td>0.41587</td>\n",
       "      <td>0.22396</td>\n",
       "      <td>0.11850</td>\n",
       "      <td>0.10062</td>\n",
       "      <td>0.19727</td>\n",
       "      <td>1.83302</td>\n",
       "    </tr>\n",
       "    <tr>\n",
       "      <th>158</th>\n",
       "      <td>Togo</td>\n",
       "      <td>Sub-Saharan Africa</td>\n",
       "      <td>2.839</td>\n",
       "      <td>0.06727</td>\n",
       "      <td>0.20868</td>\n",
       "      <td>0.13995</td>\n",
       "      <td>0.28443</td>\n",
       "      <td>0.36453</td>\n",
       "      <td>0.10731</td>\n",
       "      <td>0.16681</td>\n",
       "      <td>1.56726</td>\n",
       "    </tr>\n",
       "  </tbody>\n",
       "</table>\n",
       "</div>"
      ],
      "text/plain": [
       "                     Country                           Region  \\\n",
       "Happiness Rank                                                  \n",
       "149                     Chad               Sub-Saharan Africa   \n",
       "150                   Guinea               Sub-Saharan Africa   \n",
       "151              Ivory Coast               Sub-Saharan Africa   \n",
       "152             Burkina Faso               Sub-Saharan Africa   \n",
       "153              Afghanistan                    Southern Asia   \n",
       "154                   Rwanda               Sub-Saharan Africa   \n",
       "155                    Benin               Sub-Saharan Africa   \n",
       "156                    Syria  Middle East and Northern Africa   \n",
       "157                  Burundi               Sub-Saharan Africa   \n",
       "158                     Togo               Sub-Saharan Africa   \n",
       "\n",
       "                Happiness Score  Standard Error  Economy (GDP per Capita)  \\\n",
       "Happiness Rank                                                              \n",
       "149                       3.667         0.03830                   0.34193   \n",
       "150                       3.656         0.03590                   0.17417   \n",
       "151                       3.655         0.05141                   0.46534   \n",
       "152                       3.587         0.04324                   0.25812   \n",
       "153                       3.575         0.03084                   0.31982   \n",
       "154                       3.465         0.03464                   0.22208   \n",
       "155                       3.340         0.03656                   0.28665   \n",
       "156                       3.006         0.05015                   0.66320   \n",
       "157                       2.905         0.08658                   0.01530   \n",
       "158                       2.839         0.06727                   0.20868   \n",
       "\n",
       "                 Family  Health (Life Expectancy)  Freedom  \\\n",
       "Happiness Rank                                               \n",
       "149             0.76062                   0.15010  0.23501   \n",
       "150             0.46475                   0.24009  0.37725   \n",
       "151             0.77115                   0.15185  0.46866   \n",
       "152             0.85188                   0.27125  0.39493   \n",
       "153             0.30285                   0.30335  0.23414   \n",
       "154             0.77370                   0.42864  0.59201   \n",
       "155             0.35386                   0.31910  0.48450   \n",
       "156             0.47489                   0.72193  0.15684   \n",
       "157             0.41587                   0.22396  0.11850   \n",
       "158             0.13995                   0.28443  0.36453   \n",
       "\n",
       "                Trust (Government Corruption)  Generosity  Dystopia Residual  \n",
       "Happiness Rank                                                                \n",
       "149                                   0.05269     0.18386            1.94296  \n",
       "150                                   0.12139     0.28657            1.99172  \n",
       "151                                   0.17922     0.20165            1.41723  \n",
       "152                                   0.12832     0.21747            1.46494  \n",
       "153                                   0.09719     0.36510            1.95210  \n",
       "154                                   0.55191     0.22628            0.67042  \n",
       "155                                   0.08010     0.18260            1.63328  \n",
       "156                                   0.18906     0.47179            0.32858  \n",
       "157                                   0.10062     0.19727            1.83302  \n",
       "158                                   0.10731     0.16681            1.56726  "
      ]
     },
     "execution_count": 9,
     "metadata": {},
     "output_type": "execute_result"
    }
   ],
   "source": [
    "df.tail(10)"
   ]
  },
  {
   "cell_type": "markdown",
   "id": "358df760",
   "metadata": {},
   "source": [
    "### Step 3) Checking Data Types"
   ]
  },
  {
   "cell_type": "code",
   "execution_count": 10,
   "id": "586edca8",
   "metadata": {},
   "outputs": [
    {
     "data": {
      "text/plain": [
       "Country                           object\n",
       "Region                            object\n",
       "Happiness Score                  float64\n",
       "Standard Error                   float64\n",
       "Economy (GDP per Capita)         float64\n",
       "Family                           float64\n",
       "Health (Life Expectancy)         float64\n",
       "Freedom                          float64\n",
       "Trust (Government Corruption)    float64\n",
       "Generosity                       float64\n",
       "Dystopia Residual                float64\n",
       "dtype: object"
      ]
     },
     "execution_count": 10,
     "metadata": {},
     "output_type": "execute_result"
    }
   ],
   "source": [
    "df.dtypes"
   ]
  },
  {
   "cell_type": "markdown",
   "id": "1d4c9e5f",
   "metadata": {},
   "source": [
    "#### Observation: Country and region are object data types and others are float"
   ]
  },
  {
   "cell_type": "markdown",
   "id": "c9582697",
   "metadata": {},
   "source": [
    "### Step 4) Info of Data Set"
   ]
  },
  {
   "cell_type": "code",
   "execution_count": 11,
   "id": "760f5972",
   "metadata": {},
   "outputs": [
    {
     "name": "stdout",
     "output_type": "stream",
     "text": [
      "<class 'pandas.core.frame.DataFrame'>\n",
      "Int64Index: 158 entries, 1 to 158\n",
      "Data columns (total 11 columns):\n",
      " #   Column                         Non-Null Count  Dtype  \n",
      "---  ------                         --------------  -----  \n",
      " 0   Country                        158 non-null    object \n",
      " 1   Region                         158 non-null    object \n",
      " 2   Happiness Score                158 non-null    float64\n",
      " 3   Standard Error                 158 non-null    float64\n",
      " 4   Economy (GDP per Capita)       158 non-null    float64\n",
      " 5   Family                         158 non-null    float64\n",
      " 6   Health (Life Expectancy)       158 non-null    float64\n",
      " 7   Freedom                        158 non-null    float64\n",
      " 8   Trust (Government Corruption)  158 non-null    float64\n",
      " 9   Generosity                     158 non-null    float64\n",
      " 10  Dystopia Residual              158 non-null    float64\n",
      "dtypes: float64(9), object(2)\n",
      "memory usage: 14.8+ KB\n"
     ]
    }
   ],
   "source": [
    "df.info()"
   ]
  },
  {
   "cell_type": "markdown",
   "id": "704ead97",
   "metadata": {},
   "source": [
    "#### Observation:\n",
    "#### Memory usage 14.8 KB\n",
    "#### 158 non-null which is equal to no of rows and hence no null values"
   ]
  },
  {
   "cell_type": "markdown",
   "id": "60a889fc",
   "metadata": {},
   "source": [
    "### Step 5) Checking if there are blanks in dataset"
   ]
  },
  {
   "cell_type": "code",
   "execution_count": 12,
   "id": "b284da84",
   "metadata": {},
   "outputs": [
    {
     "name": "stdout",
     "output_type": "stream",
     "text": [
      "Switzerland    1\n",
      "Bangladesh     1\n",
      "Greece         1\n",
      "Lebanon        1\n",
      "Hungary        1\n",
      "              ..\n",
      "Kazakhstan     1\n",
      "Slovenia       1\n",
      "Lithuania      1\n",
      "Nicaragua      1\n",
      "Togo           1\n",
      "Name: Country, Length: 158, dtype: int64\n",
      "\n",
      "\n",
      "Sub-Saharan Africa                 40\n",
      "Central and Eastern Europe         29\n",
      "Latin America and Caribbean        22\n",
      "Western Europe                     21\n",
      "Middle East and Northern Africa    20\n",
      "Southeastern Asia                   9\n",
      "Southern Asia                       7\n",
      "Eastern Asia                        6\n",
      "North America                       2\n",
      "Australia and New Zealand           2\n",
      "Name: Region, dtype: int64\n",
      "\n",
      "\n",
      "5.192    2\n",
      "7.587    1\n",
      "4.686    1\n",
      "4.839    1\n",
      "4.800    1\n",
      "        ..\n",
      "5.855    1\n",
      "5.848    1\n",
      "5.833    1\n",
      "5.828    1\n",
      "2.839    1\n",
      "Name: Happiness Score, Length: 157, dtype: int64\n",
      "\n",
      "\n",
      "0.03780    2\n",
      "0.03751    2\n",
      "0.04394    2\n",
      "0.05051    2\n",
      "0.04934    2\n",
      "          ..\n",
      "0.04114    1\n",
      "0.04251    1\n",
      "0.03843    1\n",
      "0.05371    1\n",
      "0.06727    1\n",
      "Name: Standard Error, Length: 153, dtype: int64\n",
      "\n",
      "\n",
      "1.39651    1\n",
      "0.39753    1\n",
      "1.15406    1\n",
      "1.02564    1\n",
      "1.12094    1\n",
      "          ..\n",
      "1.12254    1\n",
      "1.18498    1\n",
      "1.14723    1\n",
      "0.59325    1\n",
      "0.20868    1\n",
      "Name: Economy (GDP per Capita), Length: 158, dtype: int64\n",
      "\n",
      "\n",
      "1.34951    1\n",
      "0.43106    1\n",
      "0.92933    1\n",
      "0.80001    1\n",
      "1.20215    1\n",
      "          ..\n",
      "1.12241    1\n",
      "1.27385    1\n",
      "1.25745    1\n",
      "1.14184    1\n",
      "0.13995    1\n",
      "Name: Family, Length: 158, dtype: int64\n",
      "\n",
      "\n",
      "0.92356    2\n",
      "0.94143    1\n",
      "0.60268    1\n",
      "0.88213    1\n",
      "0.83947    1\n",
      "          ..\n",
      "0.66098    1\n",
      "0.64368    1\n",
      "0.87337    1\n",
      "0.73128    1\n",
      "0.28443    1\n",
      "Name: Health (Life Expectancy), Length: 157, dtype: int64\n",
      "\n",
      "\n",
      "0.66557    1\n",
      "0.40820    1\n",
      "0.07699    1\n",
      "0.33916    1\n",
      "0.32112    1\n",
      "          ..\n",
      "0.51649    1\n",
      "0.60855    1\n",
      "0.21342    1\n",
      "0.55475    1\n",
      "0.36453    1\n",
      "Name: Freedom, Length: 158, dtype: int64\n",
      "\n",
      "\n",
      "0.32524    2\n",
      "0.07625    1\n",
      "0.01397    1\n",
      "0.04582    1\n",
      "0.02758    1\n",
      "          ..\n",
      "0.03787    1\n",
      "0.01031    1\n",
      "0.19317    1\n",
      "0.05989    1\n",
      "0.10731    1\n",
      "Name: Trust (Government Corruption), Length: 157, dtype: int64\n",
      "\n",
      "\n",
      "0.29678    1\n",
      "0.21222    1\n",
      "0.00000    1\n",
      "0.21854    1\n",
      "0.12800    1\n",
      "          ..\n",
      "0.11827    1\n",
      "0.25328    1\n",
      "0.02641    1\n",
      "0.27815    1\n",
      "0.16681    1\n",
      "Name: Generosity, Length: 158, dtype: int64\n",
      "\n",
      "\n",
      "2.51738    1\n",
      "2.51767    1\n",
      "1.80101    1\n",
      "1.57059    1\n",
      "1.24074    1\n",
      "          ..\n",
      "2.24729    1\n",
      "1.61583    1\n",
      "2.44649    1\n",
      "2.32407    1\n",
      "1.56726    1\n",
      "Name: Dystopia Residual, Length: 158, dtype: int64\n",
      "\n",
      "\n"
     ]
    }
   ],
   "source": [
    "for i in df.columns:\n",
    "    print(df[i].value_counts())\n",
    "    print('\\n')"
   ]
  },
  {
   "cell_type": "code",
   "execution_count": 13,
   "id": "beb84bf3",
   "metadata": {},
   "outputs": [
    {
     "data": {
      "text/html": [
       "<div>\n",
       "<style scoped>\n",
       "    .dataframe tbody tr th:only-of-type {\n",
       "        vertical-align: middle;\n",
       "    }\n",
       "\n",
       "    .dataframe tbody tr th {\n",
       "        vertical-align: top;\n",
       "    }\n",
       "\n",
       "    .dataframe thead th {\n",
       "        text-align: right;\n",
       "    }\n",
       "</style>\n",
       "<table border=\"1\" class=\"dataframe\">\n",
       "  <thead>\n",
       "    <tr style=\"text-align: right;\">\n",
       "      <th></th>\n",
       "      <th>No of Unique Values</th>\n",
       "    </tr>\n",
       "  </thead>\n",
       "  <tbody>\n",
       "    <tr>\n",
       "      <th>Country</th>\n",
       "      <td>158</td>\n",
       "    </tr>\n",
       "    <tr>\n",
       "      <th>Region</th>\n",
       "      <td>10</td>\n",
       "    </tr>\n",
       "    <tr>\n",
       "      <th>Happiness Score</th>\n",
       "      <td>157</td>\n",
       "    </tr>\n",
       "    <tr>\n",
       "      <th>Standard Error</th>\n",
       "      <td>153</td>\n",
       "    </tr>\n",
       "    <tr>\n",
       "      <th>Economy (GDP per Capita)</th>\n",
       "      <td>158</td>\n",
       "    </tr>\n",
       "    <tr>\n",
       "      <th>Family</th>\n",
       "      <td>158</td>\n",
       "    </tr>\n",
       "    <tr>\n",
       "      <th>Health (Life Expectancy)</th>\n",
       "      <td>157</td>\n",
       "    </tr>\n",
       "    <tr>\n",
       "      <th>Freedom</th>\n",
       "      <td>158</td>\n",
       "    </tr>\n",
       "    <tr>\n",
       "      <th>Trust (Government Corruption)</th>\n",
       "      <td>157</td>\n",
       "    </tr>\n",
       "    <tr>\n",
       "      <th>Generosity</th>\n",
       "      <td>158</td>\n",
       "    </tr>\n",
       "    <tr>\n",
       "      <th>Dystopia Residual</th>\n",
       "      <td>158</td>\n",
       "    </tr>\n",
       "  </tbody>\n",
       "</table>\n",
       "</div>"
      ],
      "text/plain": [
       "                               No of Unique Values\n",
       "Country                                        158\n",
       "Region                                          10\n",
       "Happiness Score                                157\n",
       "Standard Error                                 153\n",
       "Economy (GDP per Capita)                       158\n",
       "Family                                         158\n",
       "Health (Life Expectancy)                       157\n",
       "Freedom                                        158\n",
       "Trust (Government Corruption)                  157\n",
       "Generosity                                     158\n",
       "Dystopia Residual                              158"
      ]
     },
     "execution_count": 13,
     "metadata": {},
     "output_type": "execute_result"
    }
   ],
   "source": [
    "df.nunique().to_frame('No of Unique Values')"
   ]
  },
  {
   "cell_type": "markdown",
   "id": "94a1690c",
   "metadata": {},
   "source": [
    "#### Observation:Happiness Score, Standard Error, health and Trust seems to have blank row"
   ]
  },
  {
   "cell_type": "markdown",
   "id": "451a3edd",
   "metadata": {},
   "source": [
    "### Step 6) handling the blank row"
   ]
  },
  {
   "cell_type": "code",
   "execution_count": 14,
   "id": "7b0fa25e",
   "metadata": {},
   "outputs": [
    {
     "data": {
      "text/html": [
       "<div>\n",
       "<style scoped>\n",
       "    .dataframe tbody tr th:only-of-type {\n",
       "        vertical-align: middle;\n",
       "    }\n",
       "\n",
       "    .dataframe tbody tr th {\n",
       "        vertical-align: top;\n",
       "    }\n",
       "\n",
       "    .dataframe thead th {\n",
       "        text-align: right;\n",
       "    }\n",
       "</style>\n",
       "<table border=\"1\" class=\"dataframe\">\n",
       "  <thead>\n",
       "    <tr style=\"text-align: right;\">\n",
       "      <th></th>\n",
       "      <th>Country</th>\n",
       "      <th>Region</th>\n",
       "      <th>Happiness Score</th>\n",
       "      <th>Standard Error</th>\n",
       "      <th>Economy (GDP per Capita)</th>\n",
       "      <th>Family</th>\n",
       "      <th>Health (Life Expectancy)</th>\n",
       "      <th>Freedom</th>\n",
       "      <th>Trust (Government Corruption)</th>\n",
       "      <th>Generosity</th>\n",
       "      <th>Dystopia Residual</th>\n",
       "    </tr>\n",
       "    <tr>\n",
       "      <th>Happiness Rank</th>\n",
       "      <th></th>\n",
       "      <th></th>\n",
       "      <th></th>\n",
       "      <th></th>\n",
       "      <th></th>\n",
       "      <th></th>\n",
       "      <th></th>\n",
       "      <th></th>\n",
       "      <th></th>\n",
       "      <th></th>\n",
       "      <th></th>\n",
       "    </tr>\n",
       "  </thead>\n",
       "  <tbody>\n",
       "  </tbody>\n",
       "</table>\n",
       "</div>"
      ],
      "text/plain": [
       "Empty DataFrame\n",
       "Columns: [Country, Region, Happiness Score, Standard Error, Economy (GDP per Capita), Family, Health (Life Expectancy), Freedom, Trust (Government Corruption), Generosity, Dystopia Residual]\n",
       "Index: []"
      ]
     },
     "execution_count": 14,
     "metadata": {},
     "output_type": "execute_result"
    }
   ],
   "source": [
    "df.loc[df['Happiness Score'] == \" \"]"
   ]
  },
  {
   "cell_type": "code",
   "execution_count": 15,
   "id": "f01c2a44",
   "metadata": {},
   "outputs": [
    {
     "data": {
      "text/html": [
       "<div>\n",
       "<style scoped>\n",
       "    .dataframe tbody tr th:only-of-type {\n",
       "        vertical-align: middle;\n",
       "    }\n",
       "\n",
       "    .dataframe tbody tr th {\n",
       "        vertical-align: top;\n",
       "    }\n",
       "\n",
       "    .dataframe thead th {\n",
       "        text-align: right;\n",
       "    }\n",
       "</style>\n",
       "<table border=\"1\" class=\"dataframe\">\n",
       "  <thead>\n",
       "    <tr style=\"text-align: right;\">\n",
       "      <th></th>\n",
       "      <th>Country</th>\n",
       "      <th>Region</th>\n",
       "      <th>Happiness Score</th>\n",
       "      <th>Standard Error</th>\n",
       "      <th>Economy (GDP per Capita)</th>\n",
       "      <th>Family</th>\n",
       "      <th>Health (Life Expectancy)</th>\n",
       "      <th>Freedom</th>\n",
       "      <th>Trust (Government Corruption)</th>\n",
       "      <th>Generosity</th>\n",
       "      <th>Dystopia Residual</th>\n",
       "    </tr>\n",
       "    <tr>\n",
       "      <th>Happiness Rank</th>\n",
       "      <th></th>\n",
       "      <th></th>\n",
       "      <th></th>\n",
       "      <th></th>\n",
       "      <th></th>\n",
       "      <th></th>\n",
       "      <th></th>\n",
       "      <th></th>\n",
       "      <th></th>\n",
       "      <th></th>\n",
       "      <th></th>\n",
       "    </tr>\n",
       "  </thead>\n",
       "  <tbody>\n",
       "  </tbody>\n",
       "</table>\n",
       "</div>"
      ],
      "text/plain": [
       "Empty DataFrame\n",
       "Columns: [Country, Region, Happiness Score, Standard Error, Economy (GDP per Capita), Family, Health (Life Expectancy), Freedom, Trust (Government Corruption), Generosity, Dystopia Residual]\n",
       "Index: []"
      ]
     },
     "execution_count": 15,
     "metadata": {},
     "output_type": "execute_result"
    }
   ],
   "source": [
    "df.loc[df['Health (Life Expectancy)']== \" \"]"
   ]
  },
  {
   "cell_type": "code",
   "execution_count": 16,
   "id": "388f6484",
   "metadata": {},
   "outputs": [
    {
     "data": {
      "text/html": [
       "<div>\n",
       "<style scoped>\n",
       "    .dataframe tbody tr th:only-of-type {\n",
       "        vertical-align: middle;\n",
       "    }\n",
       "\n",
       "    .dataframe tbody tr th {\n",
       "        vertical-align: top;\n",
       "    }\n",
       "\n",
       "    .dataframe thead th {\n",
       "        text-align: right;\n",
       "    }\n",
       "</style>\n",
       "<table border=\"1\" class=\"dataframe\">\n",
       "  <thead>\n",
       "    <tr style=\"text-align: right;\">\n",
       "      <th></th>\n",
       "      <th>Country</th>\n",
       "      <th>Region</th>\n",
       "      <th>Happiness Score</th>\n",
       "      <th>Standard Error</th>\n",
       "      <th>Economy (GDP per Capita)</th>\n",
       "      <th>Family</th>\n",
       "      <th>Health (Life Expectancy)</th>\n",
       "      <th>Freedom</th>\n",
       "      <th>Trust (Government Corruption)</th>\n",
       "      <th>Generosity</th>\n",
       "      <th>Dystopia Residual</th>\n",
       "    </tr>\n",
       "    <tr>\n",
       "      <th>Happiness Rank</th>\n",
       "      <th></th>\n",
       "      <th></th>\n",
       "      <th></th>\n",
       "      <th></th>\n",
       "      <th></th>\n",
       "      <th></th>\n",
       "      <th></th>\n",
       "      <th></th>\n",
       "      <th></th>\n",
       "      <th></th>\n",
       "      <th></th>\n",
       "    </tr>\n",
       "  </thead>\n",
       "  <tbody>\n",
       "  </tbody>\n",
       "</table>\n",
       "</div>"
      ],
      "text/plain": [
       "Empty DataFrame\n",
       "Columns: [Country, Region, Happiness Score, Standard Error, Economy (GDP per Capita), Family, Health (Life Expectancy), Freedom, Trust (Government Corruption), Generosity, Dystopia Residual]\n",
       "Index: []"
      ]
     },
     "execution_count": 16,
     "metadata": {},
     "output_type": "execute_result"
    }
   ],
   "source": [
    "df.loc[df['Standard Error'] == \" \"]"
   ]
  },
  {
   "cell_type": "markdown",
   "id": "afbaefae",
   "metadata": {},
   "source": [
    "#### Observation: This analysis shows no blank space"
   ]
  },
  {
   "cell_type": "markdown",
   "id": "771a5eb7",
   "metadata": {},
   "source": [
    "### Step 7) Checking for duplicate rows"
   ]
  },
  {
   "cell_type": "code",
   "execution_count": 17,
   "id": "1c4fb41b",
   "metadata": {},
   "outputs": [
    {
     "data": {
      "text/plain": [
       "0"
      ]
     },
     "execution_count": 17,
     "metadata": {},
     "output_type": "execute_result"
    }
   ],
   "source": [
    "df.duplicated().sum()"
   ]
  },
  {
   "cell_type": "markdown",
   "id": "9714c513",
   "metadata": {},
   "source": [
    "#### Observation: No duplicate rows"
   ]
  },
  {
   "cell_type": "markdown",
   "id": "4b078c34",
   "metadata": {},
   "source": [
    "### Step 8) Statistical Details"
   ]
  },
  {
   "cell_type": "code",
   "execution_count": 18,
   "id": "c15e3b6b",
   "metadata": {},
   "outputs": [
    {
     "data": {
      "text/html": [
       "<div>\n",
       "<style scoped>\n",
       "    .dataframe tbody tr th:only-of-type {\n",
       "        vertical-align: middle;\n",
       "    }\n",
       "\n",
       "    .dataframe tbody tr th {\n",
       "        vertical-align: top;\n",
       "    }\n",
       "\n",
       "    .dataframe thead th {\n",
       "        text-align: right;\n",
       "    }\n",
       "</style>\n",
       "<table border=\"1\" class=\"dataframe\">\n",
       "  <thead>\n",
       "    <tr style=\"text-align: right;\">\n",
       "      <th></th>\n",
       "      <th>Happiness Score</th>\n",
       "      <th>Standard Error</th>\n",
       "      <th>Economy (GDP per Capita)</th>\n",
       "      <th>Family</th>\n",
       "      <th>Health (Life Expectancy)</th>\n",
       "      <th>Freedom</th>\n",
       "      <th>Trust (Government Corruption)</th>\n",
       "      <th>Generosity</th>\n",
       "      <th>Dystopia Residual</th>\n",
       "    </tr>\n",
       "  </thead>\n",
       "  <tbody>\n",
       "    <tr>\n",
       "      <th>count</th>\n",
       "      <td>158.000000</td>\n",
       "      <td>158.000000</td>\n",
       "      <td>158.000000</td>\n",
       "      <td>158.000000</td>\n",
       "      <td>158.000000</td>\n",
       "      <td>158.000000</td>\n",
       "      <td>158.000000</td>\n",
       "      <td>158.000000</td>\n",
       "      <td>158.000000</td>\n",
       "    </tr>\n",
       "    <tr>\n",
       "      <th>mean</th>\n",
       "      <td>5.375734</td>\n",
       "      <td>0.047885</td>\n",
       "      <td>0.846137</td>\n",
       "      <td>0.991046</td>\n",
       "      <td>0.630259</td>\n",
       "      <td>0.428615</td>\n",
       "      <td>0.143422</td>\n",
       "      <td>0.237296</td>\n",
       "      <td>2.098977</td>\n",
       "    </tr>\n",
       "    <tr>\n",
       "      <th>std</th>\n",
       "      <td>1.145010</td>\n",
       "      <td>0.017146</td>\n",
       "      <td>0.403121</td>\n",
       "      <td>0.272369</td>\n",
       "      <td>0.247078</td>\n",
       "      <td>0.150693</td>\n",
       "      <td>0.120034</td>\n",
       "      <td>0.126685</td>\n",
       "      <td>0.553550</td>\n",
       "    </tr>\n",
       "    <tr>\n",
       "      <th>min</th>\n",
       "      <td>2.839000</td>\n",
       "      <td>0.018480</td>\n",
       "      <td>0.000000</td>\n",
       "      <td>0.000000</td>\n",
       "      <td>0.000000</td>\n",
       "      <td>0.000000</td>\n",
       "      <td>0.000000</td>\n",
       "      <td>0.000000</td>\n",
       "      <td>0.328580</td>\n",
       "    </tr>\n",
       "    <tr>\n",
       "      <th>25%</th>\n",
       "      <td>4.526000</td>\n",
       "      <td>0.037268</td>\n",
       "      <td>0.545808</td>\n",
       "      <td>0.856823</td>\n",
       "      <td>0.439185</td>\n",
       "      <td>0.328330</td>\n",
       "      <td>0.061675</td>\n",
       "      <td>0.150553</td>\n",
       "      <td>1.759410</td>\n",
       "    </tr>\n",
       "    <tr>\n",
       "      <th>50%</th>\n",
       "      <td>5.232500</td>\n",
       "      <td>0.043940</td>\n",
       "      <td>0.910245</td>\n",
       "      <td>1.029510</td>\n",
       "      <td>0.696705</td>\n",
       "      <td>0.435515</td>\n",
       "      <td>0.107220</td>\n",
       "      <td>0.216130</td>\n",
       "      <td>2.095415</td>\n",
       "    </tr>\n",
       "    <tr>\n",
       "      <th>75%</th>\n",
       "      <td>6.243750</td>\n",
       "      <td>0.052300</td>\n",
       "      <td>1.158448</td>\n",
       "      <td>1.214405</td>\n",
       "      <td>0.811013</td>\n",
       "      <td>0.549092</td>\n",
       "      <td>0.180255</td>\n",
       "      <td>0.309883</td>\n",
       "      <td>2.462415</td>\n",
       "    </tr>\n",
       "    <tr>\n",
       "      <th>max</th>\n",
       "      <td>7.587000</td>\n",
       "      <td>0.136930</td>\n",
       "      <td>1.690420</td>\n",
       "      <td>1.402230</td>\n",
       "      <td>1.025250</td>\n",
       "      <td>0.669730</td>\n",
       "      <td>0.551910</td>\n",
       "      <td>0.795880</td>\n",
       "      <td>3.602140</td>\n",
       "    </tr>\n",
       "  </tbody>\n",
       "</table>\n",
       "</div>"
      ],
      "text/plain": [
       "       Happiness Score  Standard Error  Economy (GDP per Capita)      Family  \\\n",
       "count       158.000000      158.000000                158.000000  158.000000   \n",
       "mean          5.375734        0.047885                  0.846137    0.991046   \n",
       "std           1.145010        0.017146                  0.403121    0.272369   \n",
       "min           2.839000        0.018480                  0.000000    0.000000   \n",
       "25%           4.526000        0.037268                  0.545808    0.856823   \n",
       "50%           5.232500        0.043940                  0.910245    1.029510   \n",
       "75%           6.243750        0.052300                  1.158448    1.214405   \n",
       "max           7.587000        0.136930                  1.690420    1.402230   \n",
       "\n",
       "       Health (Life Expectancy)     Freedom  Trust (Government Corruption)  \\\n",
       "count                158.000000  158.000000                     158.000000   \n",
       "mean                   0.630259    0.428615                       0.143422   \n",
       "std                    0.247078    0.150693                       0.120034   \n",
       "min                    0.000000    0.000000                       0.000000   \n",
       "25%                    0.439185    0.328330                       0.061675   \n",
       "50%                    0.696705    0.435515                       0.107220   \n",
       "75%                    0.811013    0.549092                       0.180255   \n",
       "max                    1.025250    0.669730                       0.551910   \n",
       "\n",
       "       Generosity  Dystopia Residual  \n",
       "count  158.000000         158.000000  \n",
       "mean     0.237296           2.098977  \n",
       "std      0.126685           0.553550  \n",
       "min      0.000000           0.328580  \n",
       "25%      0.150553           1.759410  \n",
       "50%      0.216130           2.095415  \n",
       "75%      0.309883           2.462415  \n",
       "max      0.795880           3.602140  "
      ]
     },
     "execution_count": 18,
     "metadata": {},
     "output_type": "execute_result"
    }
   ],
   "source": [
    "df.describe()"
   ]
  },
  {
   "cell_type": "markdown",
   "id": "82ac5a1e",
   "metadata": {},
   "source": [
    "#### Observation:\n",
    "#### Count of all variables same hence no null values\n",
    "#### in all the features mean is almost equal to mean\n",
    "#### Prima Facia doest seem to have outliers but will check further presence of outlier if any"
   ]
  },
  {
   "cell_type": "markdown",
   "id": "9ef319fb",
   "metadata": {},
   "source": [
    "### Step 9) Visualization Analysis "
   ]
  },
  {
   "cell_type": "code",
   "execution_count": 19,
   "id": "391405a9",
   "metadata": {},
   "outputs": [
    {
     "data": {
      "text/plain": [
       "<AxesSubplot:xlabel='Happiness Score', ylabel='Region'>"
      ]
     },
     "execution_count": 19,
     "metadata": {},
     "output_type": "execute_result"
    },
    {
     "data": {
      "image/png": "[encoded data removed]",
      "text/plain": [
       "<Figure size 432x288 with 1 Axes>"
      ]
     },
     "metadata": {
      "needs_background": "light"
     },
     "output_type": "display_data"
    }
   ],
   "source": [
    "sns.scatterplot(x='Happiness Score',y='Region',data=df,palette ='Set2')"
   ]
  },
  {
   "cell_type": "markdown",
   "id": "5bc94fa5",
   "metadata": {},
   "source": [
    "#### Observation: Region has no relation with the happiness score"
   ]
  },
  {
   "cell_type": "code",
   "execution_count": 20,
   "id": "390886ee",
   "metadata": {},
   "outputs": [
    {
     "data": {
      "image/png": "[encoded data removed]",
      "text/plain": [
       "<Figure size 432x288 with 2 Axes>"
      ]
     },
     "metadata": {
      "needs_background": "light"
     },
     "output_type": "display_data"
    }
   ],
   "source": [
    "upper_triangle=np.tril(df.corr())\n",
    "sns.heatmap(df.corr(),vmin=-1,vmax=1,annot=True,annot_kws={'size':10},cmap='Spectral',mask=upper_triangle)\n",
    "plt.show()"
   ]
  },
  {
   "cell_type": "markdown",
   "id": "4cb50c0d",
   "metadata": {},
   "source": [
    "#### Observation:\n",
    "#### Happiness Score has strong correlation with Economy, Family, Health and moderate relation with Freedom,trust and Dystopia\n",
    "#### Economy has strong correlation with family, health and moderation relation with freesom\n",
    "#### Family has moderate relation with Health and Freedom\n",
    "#### Health has moderate relation with Freedom\n",
    "#### Freedom has moderate relation with Trust and generosity"
   ]
  },
  {
   "cell_type": "code",
   "execution_count": 21,
   "id": "b49a6cd8",
   "metadata": {},
   "outputs": [
    {
     "data": {
      "image/png": "[encoded data removed]",
      "text/plain": [
       "<Figure size 1440x720 with 2 Axes>"
      ]
     },
     "metadata": {
      "needs_background": "light"
     },
     "output_type": "display_data"
    }
   ],
   "source": [
    "corr_hmap=df.corr()\n",
    "plt.figure(figsize=(20,10))\n",
    "sns.heatmap(corr_hmap,annot=True,cmap='gist_earth')\n",
    "plt.show()"
   ]
  },
  {
   "cell_type": "markdown",
   "id": "f7f65cae",
   "metadata": {},
   "source": [
    "#### Observation:\n",
    "#### Standard Error and Health are moderately in -ve correlaton"
   ]
  },
  {
   "cell_type": "code",
   "execution_count": 22,
   "id": "3713fc1a",
   "metadata": {},
   "outputs": [
    {
     "name": "stdout",
     "output_type": "stream",
     "text": [
      "Numerical Columns  ['Happiness Score', 'Standard Error', 'Economy (GDP per Capita)', 'Family', 'Health (Life Expectancy)', 'Freedom', 'Trust (Government Corruption)', 'Generosity', 'Dystopia Residual']\n"
     ]
    }
   ],
   "source": [
    "numerical_col = []\n",
    "for i in df.dtypes.index:\n",
    "    if df.dtypes[i]!= 'object':\n",
    "        numerical_col.append(i)\n",
    "print('Numerical Columns ',numerical_col)"
   ]
  },
  {
   "cell_type": "code",
   "execution_count": 23,
   "id": "acb4569f",
   "metadata": {},
   "outputs": [
    {
     "data": {
      "text/plain": [
       "<Figure size 1440x1080 with 0 Axes>"
      ]
     },
     "metadata": {},
     "output_type": "display_data"
    },
    {
     "data": {
      "image/png": "[encoded data removed]",
      "text/plain": [
       "<Figure size 432x288 with 9 Axes>"
      ]
     },
     "metadata": {
      "needs_background": "light"
     },
     "output_type": "display_data"
    }
   ],
   "source": [
    "plt.figure(figsize=(20,15))\n",
    "df.hist(bins=20,color='blue',density=True,label='Value',histtype='bar')\n",
    "plt.tight_layout()\n",
    "plt.show()\n"
   ]
  },
  {
   "cell_type": "markdown",
   "id": "4ebfd057",
   "metadata": {},
   "source": [
    "#### Observation: Most of the features have skewness"
   ]
  },
  {
   "cell_type": "markdown",
   "id": "594486ba",
   "metadata": {},
   "source": [
    "### Step 10) Checking for outliers"
   ]
  },
  {
   "cell_type": "code",
   "execution_count": 24,
   "id": "a589bc98",
   "metadata": {},
   "outputs": [
    {
     "data": {
      "text/plain": [
       "Happiness Score                     AxesSubplot(0.125,0.749828;0.0945122x0.130172)\n",
       "Standard Error                   AxesSubplot(0.238415,0.749828;0.0945122x0.130172)\n",
       "Economy (GDP per Capita)         AxesSubplot(0.351829,0.749828;0.0945122x0.130172)\n",
       "Family                           AxesSubplot(0.465244,0.749828;0.0945122x0.130172)\n",
       "Health (Life Expectancy)         AxesSubplot(0.578659,0.749828;0.0945122x0.130172)\n",
       "Freedom                          AxesSubplot(0.692073,0.749828;0.0945122x0.130172)\n",
       "Trust (Government Corruption)    AxesSubplot(0.805488,0.749828;0.0945122x0.130172)\n",
       "Generosity                          AxesSubplot(0.125,0.593621;0.0945122x0.130172)\n",
       "Dystopia Residual                AxesSubplot(0.238415,0.593621;0.0945122x0.130172)\n",
       "dtype: object"
      ]
     },
     "execution_count": 24,
     "metadata": {},
     "output_type": "execute_result"
    },
    {
     "data": {
      "image/png": "[encoded data removed]",
      "text/plain": [
       "<Figure size 1440x1440 with 35 Axes>"
      ]
     },
     "metadata": {
      "needs_background": "light"
     },
     "output_type": "display_data"
    }
   ],
   "source": [
    "df.plot(kind='box',subplots=True,layout=(5,7),figsize=(20,20))"
   ]
  },
  {
   "cell_type": "markdown",
   "id": "e99b0aab",
   "metadata": {},
   "source": [
    "#### Observation: Standard error, Generosity, Dystopia and Trust has outliers"
   ]
  },
  {
   "cell_type": "markdown",
   "id": "31850a6e",
   "metadata": {},
   "source": [
    "### Step 11) Removing Outliers"
   ]
  },
  {
   "cell_type": "code",
   "execution_count": 25,
   "id": "257eee76",
   "metadata": {},
   "outputs": [],
   "source": [
    "from scipy.stats import zscore\n",
    "out_features = df[['Standard Error','Family','Trust (Government Corruption)','Generosity','Dystopia Residual']]\n",
    "z = np.abs(zscore(out_features))"
   ]
  },
  {
   "cell_type": "code",
   "execution_count": 26,
   "id": "c9445849",
   "metadata": {},
   "outputs": [
    {
     "data": {
      "text/plain": [
       "(array([ 27,  40,  64, 115, 128, 147, 153, 155, 157], dtype=int64),\n",
       " array([2, 0, 0, 0, 3, 1, 2, 4, 1], dtype=int64))"
      ]
     },
     "execution_count": 26,
     "metadata": {},
     "output_type": "execute_result"
    }
   ],
   "source": [
    "np.where(z>3)"
   ]
  },
  {
   "cell_type": "code",
   "execution_count": 27,
   "id": "c84cd6cc",
   "metadata": {},
   "outputs": [
    {
     "data": {
      "text/plain": [
       "(149, 11)"
      ]
     },
     "execution_count": 27,
     "metadata": {},
     "output_type": "execute_result"
    }
   ],
   "source": [
    "df1 = df[(z<3).all(axis=1)]\n",
    "df1.shape"
   ]
  },
  {
   "cell_type": "markdown",
   "id": "94b554dd",
   "metadata": {},
   "source": [
    "#### Percentage Data Loss"
   ]
  },
  {
   "cell_type": "code",
   "execution_count": 28,
   "id": "66eee9ce",
   "metadata": {},
   "outputs": [
    {
     "data": {
      "text/plain": [
       "5.69620253164557"
      ]
     },
     "execution_count": 28,
     "metadata": {},
     "output_type": "execute_result"
    }
   ],
   "source": [
    "data_loss=(158-149)/158*100\n",
    "data_loss"
   ]
  },
  {
   "cell_type": "markdown",
   "id": "f71e437c",
   "metadata": {},
   "source": [
    "#### Since data loss is just 5% hence droping the outliers"
   ]
  },
  {
   "cell_type": "code",
   "execution_count": 29,
   "id": "d2fe87f5",
   "metadata": {},
   "outputs": [],
   "source": [
    "df=df1"
   ]
  },
  {
   "cell_type": "code",
   "execution_count": 30,
   "id": "5d451e6a",
   "metadata": {},
   "outputs": [
    {
     "data": {
      "text/plain": [
       "(149, 11)"
      ]
     },
     "execution_count": 30,
     "metadata": {},
     "output_type": "execute_result"
    }
   ],
   "source": [
    "df.shape"
   ]
  },
  {
   "cell_type": "markdown",
   "id": "e1e70f3a",
   "metadata": {},
   "source": [
    "### Step 12) Checking Skewness"
   ]
  },
  {
   "cell_type": "code",
   "execution_count": 31,
   "id": "6121b387",
   "metadata": {},
   "outputs": [
    {
     "data": {
      "text/plain": [
       "Happiness Score                  0.169740\n",
       "Standard Error                   1.243048\n",
       "Economy (GDP per Capita)        -0.390657\n",
       "Family                          -0.811340\n",
       "Health (Life Expectancy)        -0.747711\n",
       "Freedom                         -0.400867\n",
       "Trust (Government Corruption)    1.272530\n",
       "Generosity                       0.654710\n",
       "Dystopia Residual               -0.021144\n",
       "dtype: float64"
      ]
     },
     "execution_count": 31,
     "metadata": {},
     "output_type": "execute_result"
    }
   ],
   "source": [
    "df.skew()"
   ]
  },
  {
   "cell_type": "code",
   "execution_count": 32,
   "id": "283a9ba8",
   "metadata": {},
   "outputs": [],
   "source": [
    "df['Standard Error'] = np.cbrt(df['Standard Error'])"
   ]
  },
  {
   "cell_type": "code",
   "execution_count": 33,
   "id": "518bd91f",
   "metadata": {},
   "outputs": [
    {
     "data": {
      "text/plain": [
       "Happiness Score                  0.169740\n",
       "Standard Error                   0.528395\n",
       "Economy (GDP per Capita)        -0.390657\n",
       "Family                          -0.811340\n",
       "Health (Life Expectancy)        -0.747711\n",
       "Freedom                         -0.400867\n",
       "Trust (Government Corruption)    1.272530\n",
       "Generosity                       0.654710\n",
       "Dystopia Residual               -0.021144\n",
       "dtype: float64"
      ]
     },
     "execution_count": 33,
     "metadata": {},
     "output_type": "execute_result"
    }
   ],
   "source": [
    "df.skew()"
   ]
  },
  {
   "cell_type": "code",
   "execution_count": 34,
   "id": "47af95c3",
   "metadata": {},
   "outputs": [],
   "source": [
    "df['Trust (Government Corruption)'] = np.cbrt(df['Trust (Government Corruption)'])"
   ]
  },
  {
   "cell_type": "code",
   "execution_count": 35,
   "id": "39fa163b",
   "metadata": {},
   "outputs": [
    {
     "data": {
      "text/plain": [
       "Happiness Score                  0.169740\n",
       "Standard Error                   0.528395\n",
       "Economy (GDP per Capita)        -0.390657\n",
       "Family                          -0.811340\n",
       "Health (Life Expectancy)        -0.747711\n",
       "Freedom                         -0.400867\n",
       "Trust (Government Corruption)   -0.064568\n",
       "Generosity                       0.654710\n",
       "Dystopia Residual               -0.021144\n",
       "dtype: float64"
      ]
     },
     "execution_count": 35,
     "metadata": {},
     "output_type": "execute_result"
    }
   ],
   "source": [
    "df.skew()"
   ]
  },
  {
   "cell_type": "code",
   "execution_count": 36,
   "id": "86e1b037",
   "metadata": {},
   "outputs": [],
   "source": [
    "df.drop(['Country','Region'],axis=1,inplace=True)"
   ]
  },
  {
   "cell_type": "code",
   "execution_count": 37,
   "id": "81bd673f",
   "metadata": {},
   "outputs": [
    {
     "data": {
      "text/html": [
       "<div>\n",
       "<style scoped>\n",
       "    .dataframe tbody tr th:only-of-type {\n",
       "        vertical-align: middle;\n",
       "    }\n",
       "\n",
       "    .dataframe tbody tr th {\n",
       "        vertical-align: top;\n",
       "    }\n",
       "\n",
       "    .dataframe thead th {\n",
       "        text-align: right;\n",
       "    }\n",
       "</style>\n",
       "<table border=\"1\" class=\"dataframe\">\n",
       "  <thead>\n",
       "    <tr style=\"text-align: right;\">\n",
       "      <th></th>\n",
       "      <th>Happiness Score</th>\n",
       "      <th>Standard Error</th>\n",
       "      <th>Economy (GDP per Capita)</th>\n",
       "      <th>Family</th>\n",
       "      <th>Health (Life Expectancy)</th>\n",
       "      <th>Freedom</th>\n",
       "      <th>Trust (Government Corruption)</th>\n",
       "      <th>Generosity</th>\n",
       "      <th>Dystopia Residual</th>\n",
       "    </tr>\n",
       "    <tr>\n",
       "      <th>Happiness Rank</th>\n",
       "      <th></th>\n",
       "      <th></th>\n",
       "      <th></th>\n",
       "      <th></th>\n",
       "      <th></th>\n",
       "      <th></th>\n",
       "      <th></th>\n",
       "      <th></th>\n",
       "      <th></th>\n",
       "    </tr>\n",
       "  </thead>\n",
       "  <tbody>\n",
       "    <tr>\n",
       "      <th>1</th>\n",
       "      <td>7.587</td>\n",
       "      <td>0.324310</td>\n",
       "      <td>1.39651</td>\n",
       "      <td>1.34951</td>\n",
       "      <td>0.94143</td>\n",
       "      <td>0.66557</td>\n",
       "      <td>0.748756</td>\n",
       "      <td>0.29678</td>\n",
       "      <td>2.51738</td>\n",
       "    </tr>\n",
       "    <tr>\n",
       "      <th>2</th>\n",
       "      <td>7.561</td>\n",
       "      <td>0.365532</td>\n",
       "      <td>1.30232</td>\n",
       "      <td>1.40223</td>\n",
       "      <td>0.94784</td>\n",
       "      <td>0.62877</td>\n",
       "      <td>0.521036</td>\n",
       "      <td>0.43630</td>\n",
       "      <td>2.70201</td>\n",
       "    </tr>\n",
       "    <tr>\n",
       "      <th>3</th>\n",
       "      <td>7.527</td>\n",
       "      <td>0.321658</td>\n",
       "      <td>1.32548</td>\n",
       "      <td>1.36058</td>\n",
       "      <td>0.87464</td>\n",
       "      <td>0.64938</td>\n",
       "      <td>0.784910</td>\n",
       "      <td>0.34139</td>\n",
       "      <td>2.49204</td>\n",
       "    </tr>\n",
       "    <tr>\n",
       "      <th>4</th>\n",
       "      <td>7.522</td>\n",
       "      <td>0.338540</td>\n",
       "      <td>1.45900</td>\n",
       "      <td>1.33095</td>\n",
       "      <td>0.88521</td>\n",
       "      <td>0.66973</td>\n",
       "      <td>0.714677</td>\n",
       "      <td>0.34699</td>\n",
       "      <td>2.46531</td>\n",
       "    </tr>\n",
       "    <tr>\n",
       "      <th>5</th>\n",
       "      <td>7.427</td>\n",
       "      <td>0.328749</td>\n",
       "      <td>1.32629</td>\n",
       "      <td>1.32261</td>\n",
       "      <td>0.90563</td>\n",
       "      <td>0.63297</td>\n",
       "      <td>0.690742</td>\n",
       "      <td>0.45811</td>\n",
       "      <td>2.45176</td>\n",
       "    </tr>\n",
       "    <tr>\n",
       "      <th>...</th>\n",
       "      <td>...</td>\n",
       "      <td>...</td>\n",
       "      <td>...</td>\n",
       "      <td>...</td>\n",
       "      <td>...</td>\n",
       "      <td>...</td>\n",
       "      <td>...</td>\n",
       "      <td>...</td>\n",
       "      <td>...</td>\n",
       "    </tr>\n",
       "    <tr>\n",
       "      <th>151</th>\n",
       "      <td>3.655</td>\n",
       "      <td>0.371834</td>\n",
       "      <td>0.46534</td>\n",
       "      <td>0.77115</td>\n",
       "      <td>0.15185</td>\n",
       "      <td>0.46866</td>\n",
       "      <td>0.563805</td>\n",
       "      <td>0.20165</td>\n",
       "      <td>1.41723</td>\n",
       "    </tr>\n",
       "    <tr>\n",
       "      <th>152</th>\n",
       "      <td>3.587</td>\n",
       "      <td>0.350990</td>\n",
       "      <td>0.25812</td>\n",
       "      <td>0.85188</td>\n",
       "      <td>0.27125</td>\n",
       "      <td>0.39493</td>\n",
       "      <td>0.504388</td>\n",
       "      <td>0.21747</td>\n",
       "      <td>1.46494</td>\n",
       "    </tr>\n",
       "    <tr>\n",
       "      <th>153</th>\n",
       "      <td>3.575</td>\n",
       "      <td>0.313597</td>\n",
       "      <td>0.31982</td>\n",
       "      <td>0.30285</td>\n",
       "      <td>0.30335</td>\n",
       "      <td>0.23414</td>\n",
       "      <td>0.459770</td>\n",
       "      <td>0.36510</td>\n",
       "      <td>1.95210</td>\n",
       "    </tr>\n",
       "    <tr>\n",
       "      <th>155</th>\n",
       "      <td>3.340</td>\n",
       "      <td>0.331896</td>\n",
       "      <td>0.28665</td>\n",
       "      <td>0.35386</td>\n",
       "      <td>0.31910</td>\n",
       "      <td>0.48450</td>\n",
       "      <td>0.431066</td>\n",
       "      <td>0.18260</td>\n",
       "      <td>1.63328</td>\n",
       "    </tr>\n",
       "    <tr>\n",
       "      <th>157</th>\n",
       "      <td>2.905</td>\n",
       "      <td>0.442391</td>\n",
       "      <td>0.01530</td>\n",
       "      <td>0.41587</td>\n",
       "      <td>0.22396</td>\n",
       "      <td>0.11850</td>\n",
       "      <td>0.465116</td>\n",
       "      <td>0.19727</td>\n",
       "      <td>1.83302</td>\n",
       "    </tr>\n",
       "  </tbody>\n",
       "</table>\n",
       "<p>149 rows × 9 columns</p>\n",
       "</div>"
      ],
      "text/plain": [
       "                Happiness Score  Standard Error  Economy (GDP per Capita)  \\\n",
       "Happiness Rank                                                              \n",
       "1                         7.587        0.324310                   1.39651   \n",
       "2                         7.561        0.365532                   1.30232   \n",
       "3                         7.527        0.321658                   1.32548   \n",
       "4                         7.522        0.338540                   1.45900   \n",
       "5                         7.427        0.328749                   1.32629   \n",
       "...                         ...             ...                       ...   \n",
       "151                       3.655        0.371834                   0.46534   \n",
       "152                       3.587        0.350990                   0.25812   \n",
       "153                       3.575        0.313597                   0.31982   \n",
       "155                       3.340        0.331896                   0.28665   \n",
       "157                       2.905        0.442391                   0.01530   \n",
       "\n",
       "                 Family  Health (Life Expectancy)  Freedom  \\\n",
       "Happiness Rank                                               \n",
       "1               1.34951                   0.94143  0.66557   \n",
       "2               1.40223                   0.94784  0.62877   \n",
       "3               1.36058                   0.87464  0.64938   \n",
       "4               1.33095                   0.88521  0.66973   \n",
       "5               1.32261                   0.90563  0.63297   \n",
       "...                 ...                       ...      ...   \n",
       "151             0.77115                   0.15185  0.46866   \n",
       "152             0.85188                   0.27125  0.39493   \n",
       "153             0.30285                   0.30335  0.23414   \n",
       "155             0.35386                   0.31910  0.48450   \n",
       "157             0.41587                   0.22396  0.11850   \n",
       "\n",
       "                Trust (Government Corruption)  Generosity  Dystopia Residual  \n",
       "Happiness Rank                                                                \n",
       "1                                    0.748756     0.29678            2.51738  \n",
       "2                                    0.521036     0.43630            2.70201  \n",
       "3                                    0.784910     0.34139            2.49204  \n",
       "4                                    0.714677     0.34699            2.46531  \n",
       "5                                    0.690742     0.45811            2.45176  \n",
       "...                                       ...         ...                ...  \n",
       "151                                  0.563805     0.20165            1.41723  \n",
       "152                                  0.504388     0.21747            1.46494  \n",
       "153                                  0.459770     0.36510            1.95210  \n",
       "155                                  0.431066     0.18260            1.63328  \n",
       "157                                  0.465116     0.19727            1.83302  \n",
       "\n",
       "[149 rows x 9 columns]"
      ]
     },
     "execution_count": 37,
     "metadata": {},
     "output_type": "execute_result"
    }
   ],
   "source": [
    "df"
   ]
  },
  {
   "cell_type": "markdown",
   "id": "a6405eaf",
   "metadata": {},
   "source": [
    "### Step 13) Separating Independent and Dependent variable"
   ]
  },
  {
   "cell_type": "code",
   "execution_count": 38,
   "id": "96943cf0",
   "metadata": {},
   "outputs": [],
   "source": [
    "x = df.drop('Happiness Score',axis=1)\n",
    "y = df['Happiness Score']"
   ]
  },
  {
   "cell_type": "code",
   "execution_count": 39,
   "id": "31c6ea88",
   "metadata": {},
   "outputs": [
    {
     "data": {
      "text/plain": [
       "(149, 8)"
      ]
     },
     "execution_count": 39,
     "metadata": {},
     "output_type": "execute_result"
    }
   ],
   "source": [
    "x.shape"
   ]
  },
  {
   "cell_type": "code",
   "execution_count": 40,
   "id": "4005ce6d",
   "metadata": {},
   "outputs": [
    {
     "data": {
      "text/plain": [
       "(149,)"
      ]
     },
     "execution_count": 40,
     "metadata": {},
     "output_type": "execute_result"
    }
   ],
   "source": [
    "y.shape"
   ]
  },
  {
   "cell_type": "markdown",
   "id": "ff969c26",
   "metadata": {},
   "source": [
    "### Step 14) Feature Scalling"
   ]
  },
  {
   "cell_type": "code",
   "execution_count": 41,
   "id": "20a2a299",
   "metadata": {},
   "outputs": [],
   "source": [
    "from sklearn.preprocessing import StandardScaler\n",
    "scaler = StandardScaler()\n",
    "x=pd.DataFrame(scaler.fit_transform(x),columns=x.columns)"
   ]
  },
  {
   "cell_type": "code",
   "execution_count": 42,
   "id": "a5a09ac9",
   "metadata": {},
   "outputs": [
    {
     "data": {
      "text/html": [
       "<div>\n",
       "<style scoped>\n",
       "    .dataframe tbody tr th:only-of-type {\n",
       "        vertical-align: middle;\n",
       "    }\n",
       "\n",
       "    .dataframe tbody tr th {\n",
       "        vertical-align: top;\n",
       "    }\n",
       "\n",
       "    .dataframe thead th {\n",
       "        text-align: right;\n",
       "    }\n",
       "</style>\n",
       "<table border=\"1\" class=\"dataframe\">\n",
       "  <thead>\n",
       "    <tr style=\"text-align: right;\">\n",
       "      <th></th>\n",
       "      <th>Standard Error</th>\n",
       "      <th>Economy (GDP per Capita)</th>\n",
       "      <th>Family</th>\n",
       "      <th>Health (Life Expectancy)</th>\n",
       "      <th>Freedom</th>\n",
       "      <th>Trust (Government Corruption)</th>\n",
       "      <th>Generosity</th>\n",
       "      <th>Dystopia Residual</th>\n",
       "    </tr>\n",
       "  </thead>\n",
       "  <tbody>\n",
       "    <tr>\n",
       "      <th>0</th>\n",
       "      <td>-0.911097</td>\n",
       "      <td>1.381916</td>\n",
       "      <td>1.357879</td>\n",
       "      <td>1.235390</td>\n",
       "      <td>1.583704</td>\n",
       "      <td>1.886835</td>\n",
       "      <td>0.546305</td>\n",
       "      <td>0.756876</td>\n",
       "    </tr>\n",
       "    <tr>\n",
       "      <th>1</th>\n",
       "      <td>0.289534</td>\n",
       "      <td>1.138324</td>\n",
       "      <td>1.567882</td>\n",
       "      <td>1.261541</td>\n",
       "      <td>1.338953</td>\n",
       "      <td>0.279412</td>\n",
       "      <td>1.713898</td>\n",
       "      <td>1.109300</td>\n",
       "    </tr>\n",
       "    <tr>\n",
       "      <th>2</th>\n",
       "      <td>-0.988343</td>\n",
       "      <td>1.198220</td>\n",
       "      <td>1.401974</td>\n",
       "      <td>0.962900</td>\n",
       "      <td>1.476027</td>\n",
       "      <td>2.142033</td>\n",
       "      <td>0.919630</td>\n",
       "      <td>0.708507</td>\n",
       "    </tr>\n",
       "    <tr>\n",
       "      <th>3</th>\n",
       "      <td>-0.496623</td>\n",
       "      <td>1.543526</td>\n",
       "      <td>1.283947</td>\n",
       "      <td>1.006023</td>\n",
       "      <td>1.611371</td>\n",
       "      <td>1.646273</td>\n",
       "      <td>0.966495</td>\n",
       "      <td>0.657485</td>\n",
       "    </tr>\n",
       "    <tr>\n",
       "      <th>4</th>\n",
       "      <td>-0.781797</td>\n",
       "      <td>1.200315</td>\n",
       "      <td>1.250726</td>\n",
       "      <td>1.089333</td>\n",
       "      <td>1.366887</td>\n",
       "      <td>1.477326</td>\n",
       "      <td>1.896418</td>\n",
       "      <td>0.631620</td>\n",
       "    </tr>\n",
       "    <tr>\n",
       "      <th>...</th>\n",
       "      <td>...</td>\n",
       "      <td>...</td>\n",
       "      <td>...</td>\n",
       "      <td>...</td>\n",
       "      <td>...</td>\n",
       "      <td>...</td>\n",
       "      <td>...</td>\n",
       "      <td>...</td>\n",
       "    </tr>\n",
       "    <tr>\n",
       "      <th>144</th>\n",
       "      <td>0.473095</td>\n",
       "      <td>-1.026255</td>\n",
       "      <td>-0.945943</td>\n",
       "      <td>-1.985941</td>\n",
       "      <td>0.274090</td>\n",
       "      <td>0.581308</td>\n",
       "      <td>-0.249803</td>\n",
       "      <td>-1.343100</td>\n",
       "    </tr>\n",
       "    <tr>\n",
       "      <th>145</th>\n",
       "      <td>-0.134003</td>\n",
       "      <td>-1.562163</td>\n",
       "      <td>-0.624365</td>\n",
       "      <td>-1.498813</td>\n",
       "      <td>-0.216276</td>\n",
       "      <td>0.161899</td>\n",
       "      <td>-0.117411</td>\n",
       "      <td>-1.252030</td>\n",
       "    </tr>\n",
       "    <tr>\n",
       "      <th>146</th>\n",
       "      <td>-1.223140</td>\n",
       "      <td>-1.402596</td>\n",
       "      <td>-2.811354</td>\n",
       "      <td>-1.367851</td>\n",
       "      <td>-1.285662</td>\n",
       "      <td>-0.153050</td>\n",
       "      <td>1.118051</td>\n",
       "      <td>-0.322135</td>\n",
       "    </tr>\n",
       "    <tr>\n",
       "      <th>147</th>\n",
       "      <td>-0.690149</td>\n",
       "      <td>-1.488379</td>\n",
       "      <td>-2.608163</td>\n",
       "      <td>-1.303594</td>\n",
       "      <td>0.379439</td>\n",
       "      <td>-0.355660</td>\n",
       "      <td>-0.409226</td>\n",
       "      <td>-0.930702</td>\n",
       "    </tr>\n",
       "    <tr>\n",
       "      <th>148</th>\n",
       "      <td>2.528138</td>\n",
       "      <td>-2.190139</td>\n",
       "      <td>-2.361154</td>\n",
       "      <td>-1.691747</td>\n",
       "      <td>-2.054764</td>\n",
       "      <td>-0.115312</td>\n",
       "      <td>-0.286458</td>\n",
       "      <td>-0.549436</td>\n",
       "    </tr>\n",
       "  </tbody>\n",
       "</table>\n",
       "<p>149 rows × 8 columns</p>\n",
       "</div>"
      ],
      "text/plain": [
       "     Standard Error  Economy (GDP per Capita)    Family  \\\n",
       "0         -0.911097                  1.381916  1.357879   \n",
       "1          0.289534                  1.138324  1.567882   \n",
       "2         -0.988343                  1.198220  1.401974   \n",
       "3         -0.496623                  1.543526  1.283947   \n",
       "4         -0.781797                  1.200315  1.250726   \n",
       "..              ...                       ...       ...   \n",
       "144        0.473095                 -1.026255 -0.945943   \n",
       "145       -0.134003                 -1.562163 -0.624365   \n",
       "146       -1.223140                 -1.402596 -2.811354   \n",
       "147       -0.690149                 -1.488379 -2.608163   \n",
       "148        2.528138                 -2.190139 -2.361154   \n",
       "\n",
       "     Health (Life Expectancy)   Freedom  Trust (Government Corruption)  \\\n",
       "0                    1.235390  1.583704                       1.886835   \n",
       "1                    1.261541  1.338953                       0.279412   \n",
       "2                    0.962900  1.476027                       2.142033   \n",
       "3                    1.006023  1.611371                       1.646273   \n",
       "4                    1.089333  1.366887                       1.477326   \n",
       "..                        ...       ...                            ...   \n",
       "144                 -1.985941  0.274090                       0.581308   \n",
       "145                 -1.498813 -0.216276                       0.161899   \n",
       "146                 -1.367851 -1.285662                      -0.153050   \n",
       "147                 -1.303594  0.379439                      -0.355660   \n",
       "148                 -1.691747 -2.054764                      -0.115312   \n",
       "\n",
       "     Generosity  Dystopia Residual  \n",
       "0      0.546305           0.756876  \n",
       "1      1.713898           1.109300  \n",
       "2      0.919630           0.708507  \n",
       "3      0.966495           0.657485  \n",
       "4      1.896418           0.631620  \n",
       "..          ...                ...  \n",
       "144   -0.249803          -1.343100  \n",
       "145   -0.117411          -1.252030  \n",
       "146    1.118051          -0.322135  \n",
       "147   -0.409226          -0.930702  \n",
       "148   -0.286458          -0.549436  \n",
       "\n",
       "[149 rows x 8 columns]"
      ]
     },
     "execution_count": 42,
     "metadata": {},
     "output_type": "execute_result"
    }
   ],
   "source": [
    "x"
   ]
  },
  {
   "cell_type": "markdown",
   "id": "c57183d4",
   "metadata": {},
   "source": [
    "### Step 15) Checking Variance Inflation Factor"
   ]
  },
  {
   "cell_type": "code",
   "execution_count": 43,
   "id": "c079a618",
   "metadata": {},
   "outputs": [
    {
     "data": {
      "text/html": [
       "<div>\n",
       "<style scoped>\n",
       "    .dataframe tbody tr th:only-of-type {\n",
       "        vertical-align: middle;\n",
       "    }\n",
       "\n",
       "    .dataframe tbody tr th {\n",
       "        vertical-align: top;\n",
       "    }\n",
       "\n",
       "    .dataframe thead th {\n",
       "        text-align: right;\n",
       "    }\n",
       "</style>\n",
       "<table border=\"1\" class=\"dataframe\">\n",
       "  <thead>\n",
       "    <tr style=\"text-align: right;\">\n",
       "      <th></th>\n",
       "      <th>VIF Values</th>\n",
       "      <th>Features</th>\n",
       "    </tr>\n",
       "  </thead>\n",
       "  <tbody>\n",
       "    <tr>\n",
       "      <th>0</th>\n",
       "      <td>1.161693</td>\n",
       "      <td>Standard Error</td>\n",
       "    </tr>\n",
       "    <tr>\n",
       "      <th>1</th>\n",
       "      <td>4.105092</td>\n",
       "      <td>Economy (GDP per Capita)</td>\n",
       "    </tr>\n",
       "    <tr>\n",
       "      <th>2</th>\n",
       "      <td>1.946484</td>\n",
       "      <td>Family</td>\n",
       "    </tr>\n",
       "    <tr>\n",
       "      <th>3</th>\n",
       "      <td>3.417996</td>\n",
       "      <td>Health (Life Expectancy)</td>\n",
       "    </tr>\n",
       "    <tr>\n",
       "      <th>4</th>\n",
       "      <td>1.930776</td>\n",
       "      <td>Freedom</td>\n",
       "    </tr>\n",
       "    <tr>\n",
       "      <th>5</th>\n",
       "      <td>1.380158</td>\n",
       "      <td>Trust (Government Corruption)</td>\n",
       "    </tr>\n",
       "    <tr>\n",
       "      <th>6</th>\n",
       "      <td>1.319227</td>\n",
       "      <td>Generosity</td>\n",
       "    </tr>\n",
       "    <tr>\n",
       "      <th>7</th>\n",
       "      <td>1.039449</td>\n",
       "      <td>Dystopia Residual</td>\n",
       "    </tr>\n",
       "  </tbody>\n",
       "</table>\n",
       "</div>"
      ],
      "text/plain": [
       "   VIF Values                       Features\n",
       "0    1.161693                 Standard Error\n",
       "1    4.105092       Economy (GDP per Capita)\n",
       "2    1.946484                         Family\n",
       "3    3.417996       Health (Life Expectancy)\n",
       "4    1.930776                        Freedom\n",
       "5    1.380158  Trust (Government Corruption)\n",
       "6    1.319227                     Generosity\n",
       "7    1.039449              Dystopia Residual"
      ]
     },
     "execution_count": 43,
     "metadata": {},
     "output_type": "execute_result"
    }
   ],
   "source": [
    "from statsmodels.stats.outliers_influence import variance_inflation_factor\n",
    "vif = pd.DataFrame()\n",
    "vif['VIF Values'] = [variance_inflation_factor(x.values,i) for i in range(len(x.columns))]\n",
    "vif['Features']=x.columns\n",
    "vif"
   ]
  },
  {
   "cell_type": "markdown",
   "id": "64edc9af",
   "metadata": {},
   "source": [
    "#### Observation: Since VIF for all features <5 hence no treatment required"
   ]
  },
  {
   "cell_type": "markdown",
   "id": "a181958a",
   "metadata": {},
   "source": [
    "### Step 16) Modelling"
   ]
  },
  {
   "cell_type": "code",
   "execution_count": 44,
   "id": "e5bc805d",
   "metadata": {},
   "outputs": [],
   "source": [
    "from sklearn.model_selection import train_test_split\n",
    "from sklearn.metrics import mean_absolute_error\n",
    "from sklearn.metrics import mean_squared_error\n",
    "from sklearn.metrics import r2_score\n",
    "from sklearn.linear_model import LinearRegression\n",
    "from sklearn.ensemble import GradientBoostingRegressor\n",
    "from sklearn.ensemble import RandomForestRegressor\n",
    "from sklearn.linear_model import Lasso,Ridge\n",
    "from sklearn.tree import DecisionTreeRegressor\n",
    "from sklearn.neighbors import KNeighborsRegressor as knn\n",
    "from sklearn.model_selection import cross_val_score"
   ]
  },
  {
   "cell_type": "markdown",
   "id": "8bd5fa72",
   "metadata": {},
   "source": [
    "#### finding best random state for max accuracy"
   ]
  },
  {
   "cell_type": "code",
   "execution_count": 45,
   "id": "c021d25f",
   "metadata": {},
   "outputs": [
    {
     "name": "stdout",
     "output_type": "stream",
     "text": [
      "Max r2 score is:  0.9994878179010485 on Random State 69\n"
     ]
    }
   ],
   "source": [
    "maxAcc = 0\n",
    "maxRs = 0\n",
    "for i in range(1,300):\n",
    "    x_train,x_test,y_train,y_test = train_test_split(x,y,test_size=0.30,random_state=i)\n",
    "    lr = LinearRegression()\n",
    "    lr.fit(x_train,y_train)\n",
    "    pred = lr.predict(x_test)\n",
    "    acc = r2_score(y_test,pred)\n",
    "    if acc > maxAcc:\n",
    "        maxAcc = acc\n",
    "        maxRs= i\n",
    "print('Max r2 score is: ',maxAcc, 'on Random State', maxRs)"
   ]
  },
  {
   "cell_type": "code",
   "execution_count": 46,
   "id": "d0f2cd2a",
   "metadata": {},
   "outputs": [],
   "source": [
    "x_train,x_test,y_train,y_test = train_test_split(x,y,test_size=0.30,random_state=maxRs)"
   ]
  },
  {
   "cell_type": "markdown",
   "id": "5ddde296",
   "metadata": {},
   "source": [
    "### Step 17) Applying difference models"
   ]
  },
  {
   "cell_type": "markdown",
   "id": "b0c88192",
   "metadata": {},
   "source": [
    "#### a) Linear Regression"
   ]
  },
  {
   "cell_type": "code",
   "execution_count": 47,
   "id": "a0e35269",
   "metadata": {},
   "outputs": [
    {
     "name": "stdout",
     "output_type": "stream",
     "text": [
      "R2_score:  0.9994878179010485\n",
      "R2 score on training data:  0.9987122993904717\n",
      "Mean Absolute Error:  0.020221474610107974\n",
      "Mean Squared Error:  0.0006500398626537757\n",
      "Root Mean Squared Error:  0.025495879326937827\n"
     ]
    }
   ],
   "source": [
    "lr = LinearRegression()\n",
    "lr.fit(x_train, y_train)\n",
    "pred_lr = lr.predict(x_test)\n",
    "pred_train = lr.predict(x_train)\n",
    "print('R2_score: ',r2_score(y_test,pred_lr))\n",
    "print('R2 score on training data: ',r2_score(y_train,pred_train))\n",
    "print('Mean Absolute Error: ',mean_absolute_error(y_test,pred_lr))\n",
    "print('Mean Squared Error: ',mean_squared_error(y_test,pred_lr))\n",
    "print('Root Mean Squared Error: ',np.sqrt(mean_squared_error(y_test,pred_lr)))"
   ]
  },
  {
   "cell_type": "code",
   "execution_count": 48,
   "id": "a7e20098",
   "metadata": {},
   "outputs": [
    {
     "name": "stdout",
     "output_type": "stream",
     "text": [
      "[0.95292639 0.98078834 0.93953141 0.95752555 0.99262246]\n",
      "0.9646788295066264\n",
      "Difference between R2 Score and Cross Validation Score:  3.4808988394422036\n"
     ]
    }
   ],
   "source": [
    "score = cross_val_score(lr,x,y)\n",
    "print(score)\n",
    "print(score.mean())\n",
    "print('Difference between R2 Score and Cross Validation Score: ', (r2_score(y_test,pred_lr)-(score.mean()))*100)"
   ]
  },
  {
   "cell_type": "code",
   "execution_count": 49,
   "id": "e5395fd6",
   "metadata": {},
   "outputs": [
    {
     "data": {
      "image/png": "[encoded data removed]",
      "text/plain": [
       "<Figure size 360x360 with 1 Axes>"
      ]
     },
     "metadata": {
      "needs_background": "light"
     },
     "output_type": "display_data"
    }
   ],
   "source": [
    "plt.figure(figsize=(5,5))\n",
    "plt.scatter(x=pred_lr, y= y_test, color = 'b')\n",
    "plt.plot(pred_lr,pred_lr,color='r')\n",
    "plt.xlabel(\"Actual\",fontsize = 12)\n",
    "plt.ylabel(\"Predicted\", fontsize = 12)\n",
    "plt.title('Linear Regression ', fontsize = 14)\n",
    "plt.show()"
   ]
  },
  {
   "cell_type": "markdown",
   "id": "c03f8734",
   "metadata": {},
   "source": [
    "#### b) Random Forest Regressor"
   ]
  },
  {
   "cell_type": "code",
   "execution_count": 50,
   "id": "36d55db6",
   "metadata": {},
   "outputs": [
    {
     "name": "stdout",
     "output_type": "stream",
     "text": [
      "R2_score:  0.8859706962783361\n",
      "R2 score on training data:  0.9866153811283134\n",
      "Mean Absolute Error:  0.2916751111111111\n",
      "Mean Squared Error:  0.14472117061777753\n",
      "Root Mean Squared Error:  0.38042235819911735\n"
     ]
    }
   ],
   "source": [
    "RFR = RandomForestRegressor()\n",
    "RFR.fit(x_train, y_train)\n",
    "pred_RFR = RFR.predict(x_test)\n",
    "pred_train = RFR.predict(x_train)\n",
    "print('R2_score: ',r2_score(y_test,pred_RFR))\n",
    "print('R2 score on training data: ',r2_score(y_train,pred_train))\n",
    "print('Mean Absolute Error: ',mean_absolute_error(y_test,pred_RFR))\n",
    "print('Mean Squared Error: ',mean_squared_error(y_test,pred_RFR))\n",
    "print('Root Mean Squared Error: ',np.sqrt(mean_squared_error(y_test,pred_RFR)))"
   ]
  },
  {
   "cell_type": "code",
   "execution_count": 51,
   "id": "d075d869",
   "metadata": {},
   "outputs": [
    {
     "name": "stdout",
     "output_type": "stream",
     "text": [
      "[-7.58310227 -0.57304317 -0.943295   -2.24145507 -6.12927238]\n",
      "-3.4940335772691653\n",
      "Difference between R2 Score and Cross Validation Score:  438.0004273547502\n"
     ]
    }
   ],
   "source": [
    "score = cross_val_score(RFR,x,y)\n",
    "print(score)\n",
    "print(score.mean())\n",
    "print('Difference between R2 Score and Cross Validation Score: ', (r2_score(y_test,pred_RFR)-(score.mean()))*100)"
   ]
  },
  {
   "cell_type": "code",
   "execution_count": 52,
   "id": "86ed5e05",
   "metadata": {},
   "outputs": [
    {
     "data": {
      "image/png": "[encoded data removed]",
      "text/plain": [
       "<Figure size 360x360 with 1 Axes>"
      ]
     },
     "metadata": {
      "needs_background": "light"
     },
     "output_type": "display_data"
    }
   ],
   "source": [
    "plt.figure(figsize=(5,5))\n",
    "plt.scatter(x=pred_RFR, y= y_test, color = 'b')\n",
    "plt.plot(pred_RFR,pred_RFR,color='r')\n",
    "plt.xlabel(\"Actual\",fontsize = 12)\n",
    "plt.ylabel(\"Predicted\", fontsize = 12)\n",
    "plt.title('Random Forest Regressor ', fontsize = 14)\n",
    "plt.show()"
   ]
  },
  {
   "cell_type": "markdown",
   "id": "480fd8cc",
   "metadata": {},
   "source": [
    "#### c) KNeighbor Regressor"
   ]
  },
  {
   "cell_type": "code",
   "execution_count": 53,
   "id": "a5b75af1",
   "metadata": {},
   "outputs": [
    {
     "name": "stdout",
     "output_type": "stream",
     "text": [
      "R2_score:  0.8888593052751703\n",
      "R2 score on training data:  0.9389201101777969\n",
      "Mean Absolute Error:  0.2807111111111111\n",
      "Mean Squared Error:  0.14105507022222225\n",
      "Root Mean Squared Error:  0.37557298920745386\n"
     ]
    }
   ],
   "source": [
    "KNN = knn()\n",
    "KNN.fit(x_train, y_train)\n",
    "pred_KNN = KNN.predict(x_test)\n",
    "pred_train = KNN.predict(x_train)\n",
    "print('R2_score: ',r2_score(y_test,pred_KNN))\n",
    "print('R2 score on training data: ',r2_score(y_train,pred_train))\n",
    "print('Mean Absolute Error: ',mean_absolute_error(y_test,pred_KNN))\n",
    "print('Mean Squared Error: ',mean_squared_error(y_test,pred_KNN))\n",
    "print('Root Mean Squared Error: ',np.sqrt(mean_squared_error(y_test,pred_KNN)))"
   ]
  },
  {
   "cell_type": "code",
   "execution_count": 54,
   "id": "12843ce3",
   "metadata": {},
   "outputs": [
    {
     "name": "stdout",
     "output_type": "stream",
     "text": [
      "[-9.3448737  -2.72245713 -1.69290393 -6.21039076 -5.84930032]\n",
      "-5.163985168382014\n",
      "Difference between R2 Score and Cross Validation Score:  605.2844473657185\n"
     ]
    }
   ],
   "source": [
    "score = cross_val_score(KNN,x,y)\n",
    "print(score)\n",
    "print(score.mean())\n",
    "print('Difference between R2 Score and Cross Validation Score: ', (r2_score(y_test,pred_KNN)-(score.mean()))*100)"
   ]
  },
  {
   "cell_type": "code",
   "execution_count": 55,
   "id": "fb9c5530",
   "metadata": {},
   "outputs": [
    {
     "data": {
      "image/png": "[encoded data removed]",
      "text/plain": [
       "<Figure size 360x360 with 1 Axes>"
      ]
     },
     "metadata": {
      "needs_background": "light"
     },
     "output_type": "display_data"
    }
   ],
   "source": [
    "plt.figure(figsize=(5,5))\n",
    "plt.scatter(x=pred_KNN, y= y_test, color = 'b')\n",
    "plt.plot(pred_KNN,pred_KNN,color='r')\n",
    "plt.xlabel(\"Actual\",fontsize = 12)\n",
    "plt.ylabel(\"Predicted\", fontsize = 12)\n",
    "plt.title('KNeighbors Regressor ', fontsize = 14)\n",
    "plt.show()"
   ]
  },
  {
   "cell_type": "markdown",
   "id": "4d05d9cb",
   "metadata": {},
   "source": [
    "#### d) Gradient Boosting regressor"
   ]
  },
  {
   "cell_type": "code",
   "execution_count": 56,
   "id": "def58aee",
   "metadata": {},
   "outputs": [
    {
     "name": "stdout",
     "output_type": "stream",
     "text": [
      "R2_score:  0.9248390833259192\n",
      "R2 score on training data:  0.9996537733763762\n",
      "Mean Absolute Error:  0.24518623088250896\n",
      "Mean Squared Error:  0.09539105730513776\n",
      "Root Mean Squared Error:  0.3088544273685222\n"
     ]
    }
   ],
   "source": [
    "gbr = GradientBoostingRegressor()\n",
    "gbr.fit(x_train, y_train)\n",
    "pred_gbr = gbr.predict(x_test)\n",
    "pred_train = gbr.predict(x_train)\n",
    "print('R2_score: ',r2_score(y_test,pred_gbr))\n",
    "print('R2 score on training data: ',r2_score(y_train,pred_train))\n",
    "print('Mean Absolute Error: ',mean_absolute_error(y_test,pred_gbr))\n",
    "print('Mean Squared Error: ',mean_squared_error(y_test,pred_gbr))\n",
    "print('Root Mean Squared Error: ',np.sqrt(mean_squared_error(y_test,pred_gbr)))"
   ]
  },
  {
   "cell_type": "code",
   "execution_count": 57,
   "id": "26b690a5",
   "metadata": {},
   "outputs": [
    {
     "name": "stdout",
     "output_type": "stream",
     "text": [
      "[-4.47219476  0.03302595 -0.57421897 -3.23061686 -3.96191183]\n",
      "-2.441183292965074\n",
      "Difference between R2 Score and Cross Validation Score:  336.6022376290993\n"
     ]
    }
   ],
   "source": [
    "score = cross_val_score(gbr,x,y)\n",
    "print(score)\n",
    "print(score.mean())\n",
    "print('Difference between R2 Score and Cross Validation Score: ', (r2_score(y_test,pred_gbr)-(score.mean()))*100)"
   ]
  },
  {
   "cell_type": "code",
   "execution_count": 58,
   "id": "00ed444b",
   "metadata": {},
   "outputs": [
    {
     "data": {
      "image/png": "[encoded data removed]",
      "text/plain": [
       "<Figure size 360x360 with 1 Axes>"
      ]
     },
     "metadata": {
      "needs_background": "light"
     },
     "output_type": "display_data"
    }
   ],
   "source": [
    "plt.figure(figsize=(5,5))\n",
    "plt.scatter(x=pred_gbr, y= y_test, color = 'grey')\n",
    "plt.plot(pred_gbr,pred_gbr,color='black')\n",
    "plt.xlabel(\"Actual\",fontsize = 12)\n",
    "plt.ylabel(\"Predicted\", fontsize = 12)\n",
    "plt.title('Gradient Boosting Regressor ', fontsize = 14)\n",
    "plt.show()"
   ]
  },
  {
   "cell_type": "markdown",
   "id": "dfcb6247",
   "metadata": {},
   "source": [
    "#### e) Lasso regression"
   ]
  },
  {
   "cell_type": "code",
   "execution_count": 59,
   "id": "7478f3a1",
   "metadata": {},
   "outputs": [
    {
     "name": "stdout",
     "output_type": "stream",
     "text": [
      "R2_score:  -0.00012875752879892843\n",
      "R2 score on training data:  0.0\n",
      "Mean Absolute Error:  0.9730166666666663\n",
      "Mean Squared Error:  1.2693211291666666\n",
      "Root Mean Squared Error:  1.1266415264700067\n"
     ]
    }
   ],
   "source": [
    "lasso = Lasso()\n",
    "lasso.fit(x_train, y_train)\n",
    "pred_lasso = lasso.predict(x_test)\n",
    "pred_train = lasso.predict(x_train)\n",
    "print('R2_score: ',r2_score(y_test,pred_lasso))\n",
    "print('R2 score on training data: ',r2_score(y_train,pred_train))\n",
    "print('Mean Absolute Error: ',mean_absolute_error(y_test,pred_lasso))\n",
    "print('Mean Squared Error: ',mean_squared_error(y_test,pred_lasso))\n",
    "print('Root Mean Squared Error: ',np.sqrt(mean_squared_error(y_test,pred_lasso)))"
   ]
  },
  {
   "cell_type": "code",
   "execution_count": 60,
   "id": "a3aba1ad",
   "metadata": {},
   "outputs": [
    {
     "name": "stdout",
     "output_type": "stream",
     "text": [
      "[-42.37117014 -11.06215836  -0.30321946 -32.72956581 -29.0315447 ]\n",
      "-23.099531692553747\n",
      "Difference between R2 Score and Cross Validation Score:  2309.9402935024946\n"
     ]
    }
   ],
   "source": [
    "score = cross_val_score(lasso,x,y)\n",
    "print(score)\n",
    "print(score.mean())\n",
    "print('Difference between R2 Score and Cross Validation Score: ', (r2_score(y_test,pred_lasso)-(score.mean()))*100)"
   ]
  },
  {
   "cell_type": "markdown",
   "id": "bf49f8e8",
   "metadata": {},
   "source": [
    "#### f) Ridge Regression"
   ]
  },
  {
   "cell_type": "code",
   "execution_count": 61,
   "id": "53e129fa",
   "metadata": {},
   "outputs": [
    {
     "name": "stdout",
     "output_type": "stream",
     "text": [
      "R2_score:  0.9994756635595676\n",
      "R2 score on training data:  0.9986765508728348\n",
      "Mean Absolute Error:  0.02027224011287418\n",
      "Mean Squared Error:  0.0006654656389217405\n",
      "Root Mean Squared Error:  0.025796620688023082\n"
     ]
    }
   ],
   "source": [
    "rd = Ridge()\n",
    "rd.fit(x_train, y_train)\n",
    "pred_rd = rd.predict(x_test)\n",
    "pred_train = rd.predict(x_train)\n",
    "print('R2_score: ',r2_score(y_test,pred_rd))\n",
    "print('R2 score on training data: ',r2_score(y_train,pred_train))\n",
    "print('Mean Absolute Error: ',mean_absolute_error(y_test,pred_rd))\n",
    "print('Mean Squared Error: ',mean_squared_error(y_test,pred_rd))\n",
    "print('Root Mean Squared Error: ',np.sqrt(mean_squared_error(y_test,pred_rd)))"
   ]
  },
  {
   "cell_type": "code",
   "execution_count": 62,
   "id": "87f9bbcb",
   "metadata": {},
   "outputs": [
    {
     "name": "stdout",
     "output_type": "stream",
     "text": [
      "[0.93343957 0.98139066 0.93868444 0.9546195  0.9907598 ]\n",
      "0.9597787924977592\n",
      "Difference between R2 Score and Cross Validation Score:  3.9696871061808414\n"
     ]
    }
   ],
   "source": [
    "score = cross_val_score(rd,x,y)\n",
    "print(score)\n",
    "print(score.mean())\n",
    "print('Difference between R2 Score and Cross Validation Score: ', (r2_score(y_test,pred_rd)-(score.mean()))*100)"
   ]
  },
  {
   "cell_type": "code",
   "execution_count": 63,
   "id": "8d298e43",
   "metadata": {},
   "outputs": [
    {
     "data": {
      "image/png": "[encoded data removed]",
      "text/plain": [
       "<Figure size 360x360 with 1 Axes>"
      ]
     },
     "metadata": {
      "needs_background": "light"
     },
     "output_type": "display_data"
    }
   ],
   "source": [
    "plt.figure(figsize=(5,5))\n",
    "plt.scatter(x=pred_rd, y= y_test, color = 'violet')\n",
    "plt.plot(pred_lasso,pred_lasso,color='indigo')\n",
    "plt.xlabel(\"Actual\",fontsize = 12)\n",
    "plt.ylabel(\"Predicted\", fontsize = 12)\n",
    "plt.title('Ridge Regression ', fontsize = 14)\n",
    "plt.show()"
   ]
  },
  {
   "cell_type": "markdown",
   "id": "54ce2a10",
   "metadata": {},
   "source": [
    "#### g) Decision Tree Regressor"
   ]
  },
  {
   "cell_type": "code",
   "execution_count": 64,
   "id": "bdf8193f",
   "metadata": {},
   "outputs": [
    {
     "name": "stdout",
     "output_type": "stream",
     "text": [
      "R2_score:  0.7738815481634949\n",
      "R2 score on training data:  1.0\n",
      "Mean Absolute Error:  0.42162222222222234\n",
      "Mean Squared Error:  0.2869799777777779\n",
      "Root Mean Squared Error:  0.5357051220380274\n"
     ]
    }
   ],
   "source": [
    "dtr = DecisionTreeRegressor()\n",
    "dtr.fit(x_train, y_train)\n",
    "pred_dtr = dtr.predict(x_test)\n",
    "pred_train = dtr.predict(x_train)\n",
    "print('R2_score: ',r2_score(y_test,pred_dtr))\n",
    "print('R2 score on training data: ',r2_score(y_train,pred_train))\n",
    "print('Mean Absolute Error: ',mean_absolute_error(y_test,pred_dtr))\n",
    "print('Mean Squared Error: ',mean_squared_error(y_test,pred_dtr))\n",
    "print('Root Mean Squared Error: ',np.sqrt(mean_squared_error(y_test,pred_dtr)))"
   ]
  },
  {
   "cell_type": "code",
   "execution_count": 65,
   "id": "052d348b",
   "metadata": {},
   "outputs": [
    {
     "name": "stdout",
     "output_type": "stream",
     "text": [
      "[ -5.62375661 -11.1057241   -6.96395418 -12.55863199  -5.50993602]\n",
      "-8.352400578814727\n",
      "Difference between R2 Score and Cross Validation Score:  912.6282126978222\n"
     ]
    }
   ],
   "source": [
    "score = cross_val_score(dtr,x,y)\n",
    "print(score)\n",
    "print(score.mean())\n",
    "print('Difference between R2 Score and Cross Validation Score: ', (r2_score(y_test,pred_dtr)-(score.mean()))*100)"
   ]
  },
  {
   "cell_type": "markdown",
   "id": "e9b185eb",
   "metadata": {},
   "source": [
    "### Observation: After applying all the regression model it is clear that Linear Regression Model is the best fit model based on the difference of both r2_score and Cross_validation_score is 3.48 and also the r2_score of test data is 99% and that on trainging data is 99% which is high and almost equal"
   ]
  },
  {
   "cell_type": "markdown",
   "id": "1080ffa0",
   "metadata": {},
   "source": [
    "### Step 18) Applying gridsearchCV"
   ]
  },
  {
   "cell_type": "code",
   "execution_count": 66,
   "id": "a25460c3",
   "metadata": {},
   "outputs": [
    {
     "data": {
      "text/plain": [
       "{'fit_intercept': True, 'n_jobs': -2, 'positive': True}"
      ]
     },
     "execution_count": 66,
     "metadata": {},
     "output_type": "execute_result"
    }
   ],
   "source": [
    "from sklearn.model_selection import GridSearchCV\n",
    "param = {'fit_intercept' : [True,False],'positive' : [True,False],'n_jobs':[-2,-1,1]}\n",
    "gscv=GridSearchCV(LinearRegression(),param,cv=5)\n",
    "gscv.fit(x_train,y_train)\n",
    "gscv.best_params_"
   ]
  },
  {
   "cell_type": "code",
   "execution_count": 67,
   "id": "81b8c20e",
   "metadata": {},
   "outputs": [],
   "source": [
    "Model = LinearRegression(fit_intercept = True, n_jobs= -2, positive= True)"
   ]
  },
  {
   "cell_type": "code",
   "execution_count": 68,
   "id": "2a5b4331",
   "metadata": {},
   "outputs": [
    {
     "name": "stdout",
     "output_type": "stream",
     "text": [
      "R2 Score:  0.9994841737023561\n",
      "Mean Absolute Error:  0.019997755529224993\n",
      "Mean Squared Error:  0.000654664925541224\n",
      "Root Mean Squared Error:  0.02558642072547905\n"
     ]
    }
   ],
   "source": [
    "Model.fit(x_train,y_train)\n",
    "pred = Model.predict(x_test)\n",
    "print('R2 Score: ',r2_score(y_test,pred))\n",
    "print('Mean Absolute Error: ',mean_absolute_error(y_test,pred))\n",
    "print('Mean Squared Error: ',mean_squared_error(y_test,pred))\n",
    "print('Root Mean Squared Error: ',np.sqrt(mean_squared_error(y_test,pred)))"
   ]
  },
  {
   "cell_type": "code",
   "execution_count": 69,
   "id": "a4e4b6dd",
   "metadata": {},
   "outputs": [],
   "source": [
    "import pickle\n",
    "filename = 'Happiness_Index.pki'"
   ]
  },
  {
   "cell_type": "code",
   "execution_count": 71,
   "id": "e6a0978e",
   "metadata": {},
   "outputs": [
    {
     "name": "stdout",
     "output_type": "stream",
     "text": [
      "99.9484173702356\n"
     ]
    }
   ],
   "source": [
    "pickle.dump(Model,open(filename,'wb'))\n",
    "loaded_model = pickle.load(open('Happiness_Index.pki','rb'))\n",
    "result = loaded_model.score(x_test,y_test)\n",
    "print(result*100)"
   ]
  },
  {
   "cell_type": "code",
   "execution_count": 73,
   "id": "c90ed9a6",
   "metadata": {},
   "outputs": [
    {
     "data": {
      "text/html": [
       "<div>\n",
       "<style scoped>\n",
       "    .dataframe tbody tr th:only-of-type {\n",
       "        vertical-align: middle;\n",
       "    }\n",
       "\n",
       "    .dataframe tbody tr th {\n",
       "        vertical-align: top;\n",
       "    }\n",
       "\n",
       "    .dataframe thead th {\n",
       "        text-align: right;\n",
       "    }\n",
       "</style>\n",
       "<table border=\"1\" class=\"dataframe\">\n",
       "  <thead>\n",
       "    <tr style=\"text-align: right;\">\n",
       "      <th></th>\n",
       "      <th>0</th>\n",
       "      <th>1</th>\n",
       "      <th>2</th>\n",
       "      <th>3</th>\n",
       "      <th>4</th>\n",
       "      <th>5</th>\n",
       "      <th>6</th>\n",
       "      <th>7</th>\n",
       "      <th>8</th>\n",
       "      <th>9</th>\n",
       "      <th>...</th>\n",
       "      <th>35</th>\n",
       "      <th>36</th>\n",
       "      <th>37</th>\n",
       "      <th>38</th>\n",
       "      <th>39</th>\n",
       "      <th>40</th>\n",
       "      <th>41</th>\n",
       "      <th>42</th>\n",
       "      <th>43</th>\n",
       "      <th>44</th>\n",
       "    </tr>\n",
       "  </thead>\n",
       "  <tbody>\n",
       "    <tr>\n",
       "      <th>Predicted</th>\n",
       "      <td>7.424489</td>\n",
       "      <td>5.818905</td>\n",
       "      <td>6.87597</td>\n",
       "      <td>4.541118</td>\n",
       "      <td>6.487138</td>\n",
       "      <td>6.380915</td>\n",
       "      <td>4.916208</td>\n",
       "      <td>4.797252</td>\n",
       "      <td>4.207933</td>\n",
       "      <td>6.488192</td>\n",
       "      <td>...</td>\n",
       "      <td>4.435149</td>\n",
       "      <td>7.188812</td>\n",
       "      <td>5.515005</td>\n",
       "      <td>5.916045</td>\n",
       "      <td>2.899913</td>\n",
       "      <td>6.997726</td>\n",
       "      <td>4.510814</td>\n",
       "      <td>5.059087</td>\n",
       "      <td>6.490865</td>\n",
       "      <td>5.868373</td>\n",
       "    </tr>\n",
       "    <tr>\n",
       "      <th>Original</th>\n",
       "      <td>7.427000</td>\n",
       "      <td>5.770000</td>\n",
       "      <td>6.86700</td>\n",
       "      <td>4.518000</td>\n",
       "      <td>6.477000</td>\n",
       "      <td>6.411000</td>\n",
       "      <td>4.885000</td>\n",
       "      <td>4.786000</td>\n",
       "      <td>4.194000</td>\n",
       "      <td>6.455000</td>\n",
       "      <td>...</td>\n",
       "      <td>4.419000</td>\n",
       "      <td>7.187000</td>\n",
       "      <td>5.548000</td>\n",
       "      <td>5.878000</td>\n",
       "      <td>2.905000</td>\n",
       "      <td>6.983000</td>\n",
       "      <td>4.517000</td>\n",
       "      <td>5.102000</td>\n",
       "      <td>6.485000</td>\n",
       "      <td>5.848000</td>\n",
       "    </tr>\n",
       "  </tbody>\n",
       "</table>\n",
       "<p>2 rows × 45 columns</p>\n",
       "</div>"
      ],
      "text/plain": [
       "                 0         1        2         3         4         5   \\\n",
       "Predicted  7.424489  5.818905  6.87597  4.541118  6.487138  6.380915   \n",
       "Original   7.427000  5.770000  6.86700  4.518000  6.477000  6.411000   \n",
       "\n",
       "                 6         7         8         9   ...        35        36  \\\n",
       "Predicted  4.916208  4.797252  4.207933  6.488192  ...  4.435149  7.188812   \n",
       "Original   4.885000  4.786000  4.194000  6.455000  ...  4.419000  7.187000   \n",
       "\n",
       "                 37        38        39        40        41        42  \\\n",
       "Predicted  5.515005  5.916045  2.899913  6.997726  4.510814  5.059087   \n",
       "Original   5.548000  5.878000  2.905000  6.983000  4.517000  5.102000   \n",
       "\n",
       "                 43        44  \n",
       "Predicted  6.490865  5.868373  \n",
       "Original   6.485000  5.848000  \n",
       "\n",
       "[2 rows x 45 columns]"
      ]
     },
     "execution_count": 73,
     "metadata": {},
     "output_type": "execute_result"
    }
   ],
   "source": [
    "conclusion = pd.DataFrame([loaded_model.predict(x_test)[:],(y_test)[:]],index=['Predicted','Original'])\n",
    "conclusion"
   ]
  },
  {
   "cell_type": "code",
   "execution_count": null,
   "id": "49b4bb83",
   "metadata": {},
   "outputs": [],
   "source": []
  }
 ],
 "metadata": {
  "kernelspec": {
   "display_name": "Python 3 (ipykernel)",
   "language": "python",
   "name": "python3"
  },
  "language_info": {
   "codemirror_mode": {
    "name": "ipython",
    "version": 3
   },
   "file_extension": ".py",
   "mimetype": "text/x-python",
   "name": "python",
   "nbconvert_exporter": "python",
   "pygments_lexer": "ipython3",
   "version": "3.9.7"
  }
 },
 "nbformat": 4,
 "nbformat_minor": 5
}
